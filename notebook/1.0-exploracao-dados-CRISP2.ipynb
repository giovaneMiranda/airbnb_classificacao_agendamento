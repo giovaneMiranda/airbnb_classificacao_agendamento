{
 "cells": [
  {
   "cell_type": "markdown",
   "id": "d5ba96a9",
   "metadata": {},
   "source": [
    "# Problema de Negocio "
   ]
  },
  {
   "cell_type": "markdown",
   "id": "4f3ac5e5",
   "metadata": {},
   "source": [
    "Airbnb opera no mercado online de hospedagem, principalmente com casas de família para aluguel de temporada e atividade de turismo. No memento se observou a necessidade de prever o primeiro destino que um novo usuário vai escolher para fazer sua reserva de hospedagem.\n",
    "\n",
    "**Causa raiz**: Por se tratar de um modelo de marketplace, onde visa conectar pessoas que oferecem um serviço, com pessoas que estão em busca dos mesmo, a necessidade vem de prever o destino para melhor aplicar a campanha de marketing. Buscando diminuir o CAC. "
   ]
  },
  {
   "cell_type": "markdown",
   "id": "457cee91",
   "metadata": {
    "heading_collapsed": true
   },
   "source": [
    "## Planejamento da Entrega "
   ]
  },
  {
   "cell_type": "markdown",
   "id": "1dbcca23",
   "metadata": {
    "hidden": true
   },
   "source": [
    "1. Resposta\n",
    "- prever o destino do primeiro agendamento de hospedagem do usuário. \n",
    "\n",
    "2. Formato de entrega\n",
    "- Json com os dados do cliente e a classificação do destino. \n",
    "\n",
    "3. Local de entrega \n",
    "- Api "
   ]
  },
  {
   "cell_type": "markdown",
   "id": "3dca2e3f",
   "metadata": {
    "heading_collapsed": true
   },
   "source": [
    "## Planejamento do Processo "
   ]
  },
  {
   "cell_type": "markdown",
   "id": "6ef4b1f3",
   "metadata": {
    "ExecuteTime": {
     "end_time": "2022-02-15T20:19:35.866474Z",
     "start_time": "2022-02-15T20:19:35.864148Z"
    },
    "hidden": true
   },
   "source": [
    "1. Extração e carregamento dos dados. \n",
    "2. Análise descritiva e  do dataset. \n",
    "3. Validação e tratamento de dados faltantes \n",
    "4. Feature engineering\n",
    "5. Balanceamento dos dados. \n",
    "6. EAD.\n",
    "7. Modelagem de dados\n",
    "8. Seleção dos atributos relevantes \n",
    "9. Modelagem de algoritmo classificador e fine tunning\n",
    "10. Criação Class Pipeline de dados e API Handler \n",
    "11. Deploy em produção "
   ]
  },
  {
   "cell_type": "markdown",
   "id": "5996bf9d",
   "metadata": {
    "heading_collapsed": true
   },
   "source": [
    "## Planejamento de Entrada"
   ]
  },
  {
   "cell_type": "markdown",
   "id": "adfa77e8",
   "metadata": {
    "hidden": true
   },
   "source": [
    "1. Fonte dos dados \n",
    "- **kaggle** https://www.kaggle.com/c/airbnb-recruiting-new-user-bookings/data\n",
    "    \n",
    "2. Ferramentas \n",
    "- Python 3 \n",
    "- Flask \n",
    "- Sklearn \n",
    "- Jupyter Notebook \n",
    "- Heroku "
   ]
  },
  {
   "cell_type": "markdown",
   "id": "fc55551e",
   "metadata": {
    "ExecuteTime": {
     "end_time": "2022-02-15T20:25:39.745263Z",
     "start_time": "2022-02-15T20:25:39.743140Z"
    }
   },
   "source": [
    "# 0.0 Import "
   ]
  },
  {
   "cell_type": "code",
   "execution_count": 1,
   "id": "7162eca3",
   "metadata": {
    "ExecuteTime": {
     "end_time": "2022-02-26T16:12:18.053414Z",
     "start_time": "2022-02-26T16:12:06.532747Z"
    }
   },
   "outputs": [
    {
     "name": "stderr",
     "output_type": "stream",
     "text": [
      "2022-02-26 13:12:11.772465: W tensorflow/stream_executor/platform/default/dso_loader.cc:64] Could not load dynamic library 'libcudart.so.11.0'; dlerror: libcudart.so.11.0: cannot open shared object file: No such file or directory\n",
      "2022-02-26 13:12:11.772487: I tensorflow/stream_executor/cuda/cudart_stub.cc:29] Ignore above cudart dlerror if you do not have a GPU set up on your machine.\n"
     ]
    }
   ],
   "source": [
    "import pandas as pd \n",
    "import matplotlib.pyplot\n",
    "import random\n",
    "import numpy as np\n",
    "import scipy.stats as stats\n",
    "\n",
    "import sklearn.preprocessing as pp\n",
    "import sklearn.model_selection as ms\n",
    "from keras import models as ml\n",
    "from keras import layers as l\n",
    "from sklearn import metrics\n",
    "from scikitplot import metrics as mt\n",
    "import os\n",
    "\n",
    "#visualizacao \n",
    "import seaborn as sns"
   ]
  },
  {
   "cell_type": "markdown",
   "id": "71b68d34",
   "metadata": {},
   "source": [
    "## 0.1 Helper Functions "
   ]
  },
  {
   "cell_type": "code",
   "execution_count": 2,
   "id": "2cb0fa49",
   "metadata": {
    "ExecuteTime": {
     "end_time": "2022-02-26T16:12:19.468208Z",
     "start_time": "2022-02-26T16:12:19.465931Z"
    }
   },
   "outputs": [],
   "source": [
    "os.environ['TF_CPP_MIN_LOG_LEVEL'] = '2'"
   ]
  },
  {
   "cell_type": "markdown",
   "id": "b3a16222",
   "metadata": {},
   "source": [
    "## 0.2 Carregamento de dados "
   ]
  },
  {
   "cell_type": "code",
   "execution_count": 3,
   "id": "eb80795f",
   "metadata": {
    "ExecuteTime": {
     "end_time": "2022-02-26T16:12:28.244392Z",
     "start_time": "2022-02-26T16:12:21.152338Z"
    }
   },
   "outputs": [],
   "source": [
    "df_user_raw = pd.read_csv('/home/giovane/Documentos/repo/airbnb_previsao_agendamento/data/raw/train_users_2.csv')\n",
    "df_sessions_raw = pd.read_csv('/home/giovane/Documentos/repo/airbnb_previsao_agendamento/data/raw/sessions.csv')"
   ]
  },
  {
   "cell_type": "markdown",
   "id": "09224abb",
   "metadata": {},
   "source": [
    "# 1.0 Análise Descritiva "
   ]
  },
  {
   "cell_type": "code",
   "execution_count": 4,
   "id": "d65076f2",
   "metadata": {
    "ExecuteTime": {
     "end_time": "2022-02-26T16:12:28.587912Z",
     "start_time": "2022-02-26T16:12:28.289544Z"
    }
   },
   "outputs": [
    {
     "name": "stdout",
     "output_type": "stream",
     "text": [
      "<class 'pandas.core.frame.DataFrame'>\n",
      "RangeIndex: 213451 entries, 0 to 213450\n",
      "Data columns (total 16 columns):\n",
      " #   Column                   Non-Null Count   Dtype  \n",
      "---  ------                   --------------   -----  \n",
      " 0   id                       213451 non-null  object \n",
      " 1   date_account_created     213451 non-null  object \n",
      " 2   timestamp_first_active   213451 non-null  int64  \n",
      " 3   date_first_booking       88908 non-null   object \n",
      " 4   gender                   213451 non-null  object \n",
      " 5   age                      125461 non-null  float64\n",
      " 6   signup_method            213451 non-null  object \n",
      " 7   signup_flow              213451 non-null  int64  \n",
      " 8   language                 213451 non-null  object \n",
      " 9   affiliate_channel        213451 non-null  object \n",
      " 10  affiliate_provider       213451 non-null  object \n",
      " 11  first_affiliate_tracked  207386 non-null  object \n",
      " 12  signup_app               213451 non-null  object \n",
      " 13  first_device_type        213451 non-null  object \n",
      " 14  first_browser            213451 non-null  object \n",
      " 15  country_destination      213451 non-null  object \n",
      "dtypes: float64(1), int64(2), object(13)\n",
      "memory usage: 26.1+ MB\n"
     ]
    }
   ],
   "source": [
    "# verificando o a dimensao dos dados (Linhas e colunas)\n",
    "# Tipo dos atributos \n",
    "df_user_raw.info()"
   ]
  },
  {
   "cell_type": "code",
   "execution_count": 5,
   "id": "686fd5a6",
   "metadata": {
    "ExecuteTime": {
     "end_time": "2022-02-26T16:12:30.390491Z",
     "start_time": "2022-02-26T16:12:30.385483Z"
    }
   },
   "outputs": [
    {
     "name": "stdout",
     "output_type": "stream",
     "text": [
      "<class 'pandas.core.frame.DataFrame'>\n",
      "RangeIndex: 10567737 entries, 0 to 10567736\n",
      "Data columns (total 6 columns):\n",
      " #   Column         Dtype  \n",
      "---  ------         -----  \n",
      " 0   user_id        object \n",
      " 1   action         object \n",
      " 2   action_type    object \n",
      " 3   action_detail  object \n",
      " 4   device_type    object \n",
      " 5   secs_elapsed   float64\n",
      "dtypes: float64(1), object(5)\n",
      "memory usage: 483.8+ MB\n"
     ]
    }
   ],
   "source": [
    "df_sessions_raw.info()"
   ]
  },
  {
   "cell_type": "markdown",
   "id": "7c2b3edc",
   "metadata": {},
   "source": [
    "## 1.2 Dados Faltantes ( NA ) "
   ]
  },
  {
   "cell_type": "code",
   "execution_count": 6,
   "id": "2eba8684",
   "metadata": {
    "ExecuteTime": {
     "end_time": "2022-02-26T16:12:34.648103Z",
     "start_time": "2022-02-26T16:12:34.386358Z"
    }
   },
   "outputs": [
    {
     "data": {
      "text/plain": [
       "id                         0.000000\n",
       "date_account_created       0.000000\n",
       "timestamp_first_active     0.000000\n",
       "date_first_booking         0.583473\n",
       "gender                     0.000000\n",
       "age                        0.412226\n",
       "signup_method              0.000000\n",
       "signup_flow                0.000000\n",
       "language                   0.000000\n",
       "affiliate_channel          0.000000\n",
       "affiliate_provider         0.000000\n",
       "first_affiliate_tracked    0.028414\n",
       "signup_app                 0.000000\n",
       "first_device_type          0.000000\n",
       "first_browser              0.000000\n",
       "country_destination        0.000000\n",
       "dtype: float64"
      ]
     },
     "execution_count": 6,
     "metadata": {},
     "output_type": "execute_result"
    }
   ],
   "source": [
    "# Verificando a porcentagem de NA no dataset de usuario \n",
    "df_user_raw.isna().sum() / len(df_user_raw)"
   ]
  },
  {
   "cell_type": "markdown",
   "id": "29e0a14e",
   "metadata": {},
   "source": [
    "O df_user_raw possui 3 colunas onde apresentam dados faltantes( NA ) \n",
    "- date_first_booking \n",
    "- age \n",
    "- first_affiliate_tracked "
   ]
  },
  {
   "cell_type": "code",
   "execution_count": 7,
   "id": "296f1518",
   "metadata": {
    "ExecuteTime": {
     "end_time": "2022-02-26T16:12:41.453667Z",
     "start_time": "2022-02-26T16:12:36.732130Z"
    }
   },
   "outputs": [
    {
     "data": {
      "text/plain": [
       "user_id          0.003264\n",
       "action           0.007535\n",
       "action_type      0.106570\n",
       "action_detail    0.106570\n",
       "device_type      0.000000\n",
       "secs_elapsed     0.012872\n",
       "dtype: float64"
      ]
     },
     "execution_count": 7,
     "metadata": {},
     "output_type": "execute_result"
    }
   ],
   "source": [
    "# Verificando a porcentagem de NA no dataset de sessao\n",
    "df_sessions_raw.isna().sum() / len(df_sessions_raw)"
   ]
  },
  {
   "cell_type": "markdown",
   "id": "376e0cee",
   "metadata": {},
   "source": [
    "O df_user_raw possui 5 colunas onde apresentam dados faltantes( NA ) \n",
    "- user_id\n",
    "- action\n",
    "- action_type \n",
    "- action_detail \n",
    "- secs_elapsed "
   ]
  },
  {
   "cell_type": "markdown",
   "id": "57af7183",
   "metadata": {},
   "source": [
    "## 1.3 Preenchendo NA"
   ]
  },
  {
   "cell_type": "markdown",
   "id": "c90d5fdb",
   "metadata": {},
   "source": [
    "### 1.3.1 Atributo date_first_booking"
   ]
  },
  {
   "cell_type": "code",
   "execution_count": 9,
   "id": "8cf9524d",
   "metadata": {
    "ExecuteTime": {
     "end_time": "2022-02-26T16:13:03.793728Z",
     "start_time": "2022-02-26T16:13:03.764750Z"
    }
   },
   "outputs": [
    {
     "data": {
      "text/plain": [
       "NDF    1.0\n",
       "Name: country_destination, dtype: float64"
      ]
     },
     "execution_count": 9,
     "metadata": {},
     "output_type": "execute_result"
    }
   ],
   "source": [
    "# date_first_booking \n",
    "# Verificando a procentagem de NA do date_first_booking por Classe do destino\n",
    "df_user_raw[df_user_raw['date_first_booking'].isna()]['country_destination'].value_counts(normalize=True)"
   ]
  },
  {
   "cell_type": "code",
   "execution_count": 10,
   "id": "614751fb",
   "metadata": {
    "ExecuteTime": {
     "end_time": "2022-02-26T16:13:10.938789Z",
     "start_time": "2022-02-26T16:13:10.902773Z"
    }
   },
   "outputs": [],
   "source": [
    "# substituindo NA\n",
    "date_booking_max = pd.to_datetime(df_user_raw['date_first_booking']).max().strftime('%Y-%m-%d')\n",
    "df_user_raw['date_first_booking'].fillna(value=date_booking_max, inplace=True)"
   ]
  },
  {
   "cell_type": "markdown",
   "id": "adbc4e4c",
   "metadata": {},
   "source": [
    "Complentando NA do date_first_booking  com a data maxima do dataset, ja que a falta do dado se da pelo fato do usuario nao ter feito booking"
   ]
  },
  {
   "cell_type": "markdown",
   "id": "86cbf0fd",
   "metadata": {},
   "source": [
    "### 1.3.2 Atributo age"
   ]
  },
  {
   "cell_type": "code",
   "execution_count": 11,
   "id": "b8db3cd1",
   "metadata": {
    "ExecuteTime": {
     "end_time": "2022-02-26T16:13:22.300948Z",
     "start_time": "2022-02-26T16:13:22.239807Z"
    }
   },
   "outputs": [
    {
     "data": {
      "text/plain": [
       "NDF      0.768428\n",
       "US       0.156529\n",
       "other    0.028617\n",
       "FR       0.014888\n",
       "IT       0.009081\n",
       "GB       0.006251\n",
       "ES       0.006171\n",
       "CA       0.003989\n",
       "DE       0.002387\n",
       "NL       0.001818\n",
       "AU       0.001171\n",
       "PT       0.000671\n",
       "Name: country_destination, dtype: float64"
      ]
     },
     "execution_count": 11,
     "metadata": {},
     "output_type": "execute_result"
    }
   ],
   "source": [
    "# age\n",
    "# Verificando a procentagem de NA do age por Classe do destino\n",
    "df_user_raw[df_user_raw['age'].isna()]['country_destination'].value_counts(normalize=True)"
   ]
  },
  {
   "cell_type": "markdown",
   "id": "7691e932",
   "metadata": {},
   "source": [
    "A distrubuicao de Na's aparentemente segue a proporcao de registros nas classe."
   ]
  },
  {
   "cell_type": "code",
   "execution_count": 12,
   "id": "1f09c80f",
   "metadata": {
    "ExecuteTime": {
     "end_time": "2022-02-26T16:13:27.966076Z",
     "start_time": "2022-02-26T16:13:27.000623Z"
    }
   },
   "outputs": [
    {
     "data": {
      "image/png": "[encoded data removed]",
      "text/plain": [
       "<Figure size 360x360 with 1 Axes>"
      ]
     },
     "metadata": {
      "needs_background": "light"
     },
     "output_type": "display_data"
    }
   ],
   "source": [
    "df_age =  df_user_raw[df_user_raw['age'] < 100] \n",
    "sns.displot(data = df_age['age'], kind = 'kde');"
   ]
  },
  {
   "cell_type": "markdown",
   "id": "e2c9a17a",
   "metadata": {},
   "source": [
    "O atributo age segue uma distribuicao parecida com a Normal, logo, podemos substituir os NA's pela media e o desvio padrao, sem perigos de imputar um vies nos registros. "
   ]
  },
  {
   "cell_type": "code",
   "execution_count": 13,
   "id": "c8a3a154",
   "metadata": {
    "ExecuteTime": {
     "end_time": "2022-02-26T16:13:30.080818Z",
     "start_time": "2022-02-26T16:13:30.074418Z"
    }
   },
   "outputs": [],
   "source": [
    "age_mean = df_age['age'].mean()\n",
    "age_std = df_age['age'].std()\n",
    "\n",
    "dist = stats.truncnorm((25 - age_mean) / age_std, (49 - age_mean) / age_std, loc=age_mean, scale=age_std)\n",
    "\n",
    "df_user_raw['age'].fillna(value=int(dist.rvs(1)[0]), inplace=True)"
   ]
  },
  {
   "cell_type": "markdown",
   "id": "fa9a487e",
   "metadata": {},
   "source": [
    "### 1.3.3 Atributo first_affiliate_tracked"
   ]
  },
  {
   "cell_type": "code",
   "execution_count": 14,
   "id": "0f1305fb",
   "metadata": {
    "ExecuteTime": {
     "end_time": "2022-02-26T16:13:33.594706Z",
     "start_time": "2022-02-26T16:13:33.581214Z"
    }
   },
   "outputs": [
    {
     "data": {
      "text/plain": [
       "untracked        0.526709\n",
       "linked           0.223193\n",
       "omg              0.212078\n",
       "tracked-other    0.029684\n",
       "product          0.007503\n",
       "marketing        0.000670\n",
       "local ops        0.000164\n",
       "Name: first_affiliate_tracked, dtype: float64"
      ]
     },
     "execution_count": 14,
     "metadata": {},
     "output_type": "execute_result"
    }
   ],
   "source": [
    "df_user_raw['first_affiliate_tracked'].value_counts(normalize=True)"
   ]
  },
  {
   "cell_type": "markdown",
   "id": "b2c622c0",
   "metadata": {},
   "source": [
    "Por se tratar de uma variavel categoria, a substituicao das Na's pode acabar imputando vies no Dataset. \n",
    "Visto que os Na's representao apenas 3% do total dos dados, sera realizado o drop dos memos."
   ]
  },
  {
   "cell_type": "code",
   "execution_count": 15,
   "id": "a70b6ac4",
   "metadata": {
    "ExecuteTime": {
     "end_time": "2022-02-26T16:13:47.908469Z",
     "start_time": "2022-02-26T16:13:47.876009Z"
    }
   },
   "outputs": [],
   "source": [
    "df_user_raw = df_user_raw[~df_user_raw['first_affiliate_tracked'].isna()]"
   ]
  },
  {
   "cell_type": "markdown",
   "id": "13e6bec7",
   "metadata": {},
   "source": [
    "### 1.3.4  Atributos df_sessions"
   ]
  },
  {
   "cell_type": "code",
   "execution_count": 66,
   "id": "1eb053fd",
   "metadata": {
    "ExecuteTime": {
     "end_time": "2022-02-26T12:49:28.870122Z",
     "start_time": "2022-02-26T12:49:23.644845Z"
    }
   },
   "outputs": [],
   "source": [
    "# Drop na user_id, action, action_type, action_detail, secs_elapsed\n",
    "df_sessions_raw.dropna(inplace= True)"
   ]
  },
  {
   "cell_type": "markdown",
   "id": "fd129fb8",
   "metadata": {},
   "source": [
    "## 1.4 Alterando Data Type"
   ]
  },
  {
   "cell_type": "code",
   "execution_count": 18,
   "id": "e16d3e46",
   "metadata": {
    "ExecuteTime": {
     "end_time": "2022-02-26T16:14:00.974994Z",
     "start_time": "2022-02-26T16:14:00.481929Z"
    }
   },
   "outputs": [],
   "source": [
    "df_user_raw['date_account_created'] = pd.to_datetime(df_user_raw['date_account_created'])  \n",
    "df_user_raw['timestamp_first_active'] = pd.to_datetime(df_user_raw['timestamp_first_active'], format='%Y%m%d%H%M%S') \n",
    "df_user_raw['date_first_booking'] = pd.to_datetime(df_user_raw['date_first_booking'])  \n",
    "df_user_raw['age'] = df_user_raw['age'].astype(int)"
   ]
  },
  {
   "cell_type": "markdown",
   "id": "ad77f8b8",
   "metadata": {},
   "source": [
    "# 2.0 Filtragem de Atributos  "
   ]
  },
  {
   "cell_type": "code",
   "execution_count": 20,
   "id": "c41ac67d",
   "metadata": {
    "ExecuteTime": {
     "end_time": "2022-02-26T16:14:10.389803Z",
     "start_time": "2022-02-26T16:14:10.380930Z"
    }
   },
   "outputs": [],
   "source": [
    "df2 = df_user_raw.copy()"
   ]
  },
  {
   "cell_type": "code",
   "execution_count": 21,
   "id": "fcd2112f",
   "metadata": {
    "ExecuteTime": {
     "end_time": "2022-02-26T16:14:24.679414Z",
     "start_time": "2022-02-26T16:14:24.664401Z"
    }
   },
   "outputs": [],
   "source": [
    "#removendo atributos que nao existem no momento da predicao \n",
    "df2.drop(['id', 'timestamp_first_active', 'date_first_booking', 'date_account_created'], axis=1, inplace=True)"
   ]
  },
  {
   "cell_type": "markdown",
   "id": "ad310169",
   "metadata": {},
   "source": [
    "# 3.0 Modelagem de Dados "
   ]
  },
  {
   "cell_type": "code",
   "execution_count": 23,
   "id": "02423a54",
   "metadata": {
    "ExecuteTime": {
     "end_time": "2022-02-26T16:15:07.301638Z",
     "start_time": "2022-02-26T16:15:07.295609Z"
    }
   },
   "outputs": [],
   "source": [
    "df3 = df2.copy()"
   ]
  },
  {
   "cell_type": "markdown",
   "id": "7145a93c",
   "metadata": {},
   "source": [
    "## 3.1 Encoding "
   ]
  },
  {
   "cell_type": "code",
   "execution_count": 24,
   "id": "07330964",
   "metadata": {
    "ExecuteTime": {
     "end_time": "2022-02-26T16:15:56.095130Z",
     "start_time": "2022-02-26T16:15:55.882560Z"
    }
   },
   "outputs": [],
   "source": [
    "df3_dummies = pd.get_dummies(df3.drop('country_destination', axis=1))\n",
    "df3 = pd.concat([df3_dummies, df3['country_destination']], axis=1)"
   ]
  },
  {
   "cell_type": "markdown",
   "id": "c0586fa5",
   "metadata": {},
   "source": [
    "# 4.0 Modelagem Machine Learning "
   ]
  },
  {
   "cell_type": "code",
   "execution_count": 29,
   "id": "6e9bafa5",
   "metadata": {
    "ExecuteTime": {
     "end_time": "2022-02-26T16:16:38.593847Z",
     "start_time": "2022-02-26T16:16:38.578961Z"
    }
   },
   "outputs": [],
   "source": [
    "df4 = df3.copy()"
   ]
  },
  {
   "cell_type": "markdown",
   "id": "239e4377",
   "metadata": {},
   "source": [
    "## 4.1 Separar Dados Teste e Validação  "
   ]
  },
  {
   "cell_type": "code",
   "execution_count": 27,
   "id": "765b65ab",
   "metadata": {
    "ExecuteTime": {
     "end_time": "2022-02-26T16:16:28.237727Z",
     "start_time": "2022-02-26T16:16:28.220797Z"
    }
   },
   "outputs": [],
   "source": [
    "x = df4.drop('country_destination', axis=1)\n",
    "y = df4['country_destination'].copy()"
   ]
  },
  {
   "cell_type": "code",
   "execution_count": 35,
   "id": "3a4a529e",
   "metadata": {
    "ExecuteTime": {
     "end_time": "2022-02-26T16:17:19.986050Z",
     "start_time": "2022-02-26T16:17:19.871188Z"
    }
   },
   "outputs": [],
   "source": [
    "x_train, x_test, y_train, y_test = ms.train_test_split(x, y, test_size=0.2, random_state=42)"
   ]
  },
  {
   "cell_type": "markdown",
   "id": "01245a62",
   "metadata": {
    "heading_collapsed": true
   },
   "source": [
    "## 4.2 Modelo Baseline"
   ]
  },
  {
   "cell_type": "code",
   "execution_count": 107,
   "id": "58eb3868",
   "metadata": {
    "ExecuteTime": {
     "end_time": "2022-02-26T13:08:25.499066Z",
     "start_time": "2022-02-26T13:08:25.363720Z"
    },
    "hidden": true
   },
   "outputs": [],
   "source": [
    "l_country_destination = df4['country_destination'].sort_values().unique()\n",
    "country_destination_weights = df4['country_destination'].value_counts(normalize=True).sort_index().tolist()\n",
    "k_num = y_test.shape[0]\n",
    "\n",
    "# Modelo de classificacao aleatoria\n",
    "yhat_random = random.choices(population=l_country_destination, k=k_num, weights= country_destination_weights )"
   ]
  },
  {
   "cell_type": "markdown",
   "id": "4f656e84",
   "metadata": {
    "heading_collapsed": true,
    "hidden": true
   },
   "source": [
    "### 4.2.1 Performance do Modelo - Baseline "
   ]
  },
  {
   "cell_type": "code",
   "execution_count": 108,
   "id": "0023abc1",
   "metadata": {
    "ExecuteTime": {
     "end_time": "2022-02-26T13:08:27.752294Z",
     "start_time": "2022-02-26T13:08:26.483638Z"
    },
    "hidden": true,
    "scrolled": false
   },
   "outputs": [
    {
     "name": "stdout",
     "output_type": "stream",
     "text": [
      "Acuracia:0.4213317903466898\n",
      "Acuracia Balanceada: 0.08282908519283329\n",
      "Kappa: -0.002447846537212861\n",
      "              precision    recall  f1-score   support\n",
      "\n",
      "          AU       0.01      0.01      0.01        95\n",
      "          CA       0.00      0.00      0.00       296\n",
      "          DE       0.00      0.00      0.00       213\n",
      "          ES       0.01      0.01      0.01       429\n",
      "          FR       0.02      0.02      0.02       997\n",
      "          GB       0.02      0.02      0.02       505\n",
      "          IT       0.01      0.01      0.01       558\n",
      "         NDF       0.58      0.57      0.58     24003\n",
      "          NL       0.00      0.00      0.00       161\n",
      "          PT       0.00      0.00      0.00        52\n",
      "          US       0.29      0.29      0.29     12136\n",
      "       other       0.05      0.05      0.05      2033\n",
      "\n",
      "    accuracy                           0.42     41478\n",
      "   macro avg       0.08      0.08      0.08     41478\n",
      "weighted avg       0.42      0.42      0.42     41478\n",
      "\n"
     ]
    },
    {
     "data": {
      "image/png": "[encoded data removed]",
      "text/plain": [
       "<Figure size 864x864 with 2 Axes>"
      ]
     },
     "metadata": {
      "needs_background": "light"
     },
     "output_type": "display_data"
    }
   ],
   "source": [
    "# acuracia \n",
    "acuracia_random = metrics.accuracy_score(y_test, yhat_random)\n",
    "print('Acuracia:{}'.format(acuracia_random))\n",
    "\n",
    "# Acuracia balanceada \n",
    "balanced_accuracy_random = metrics.balanced_accuracy_score(y_test, yhat_random)\n",
    "print('Acuracia Balanceada: {}'.format(balanced_accuracy_random))\n",
    "\n",
    "# kappa \n",
    "kappa_random = metrics.cohen_kappa_score(y_test, yhat_random)\n",
    "print('Kappa: {}'.format(kappa_random))\n",
    "\n",
    "print(metrics.classification_report(y_test, yhat_random))\n",
    "\n",
    "# Matriz de confusao\n",
    "mt.plot_confusion_matrix(y_test, yhat_random, normalize=False, figsize=(12,12));"
   ]
  },
  {
   "cell_type": "markdown",
   "id": "3fec849d",
   "metadata": {},
   "source": [
    "## 4.3 Neural Network - MLP"
   ]
  },
  {
   "cell_type": "code",
   "execution_count": 40,
   "id": "80dbefa3",
   "metadata": {
    "ExecuteTime": {
     "end_time": "2022-02-26T16:18:32.277143Z",
     "start_time": "2022-02-26T16:18:32.233799Z"
    }
   },
   "outputs": [],
   "source": [
    "# encode para variavel y \n",
    "encoder = pp.OneHotEncoder()\n",
    "y_train_nn = encoder.fit_transform(y_train.values.reshape(-1,1)).toarray()"
   ]
  },
  {
   "cell_type": "code",
   "execution_count": 43,
   "id": "1ac68c81",
   "metadata": {
    "ExecuteTime": {
     "end_time": "2022-02-26T16:26:24.988148Z",
     "start_time": "2022-02-26T16:19:00.575443Z"
    },
    "scrolled": false
   },
   "outputs": [
    {
     "name": "stderr",
     "output_type": "stream",
     "text": [
      "2022-02-26 13:19:00.724966: W tensorflow/stream_executor/platform/default/dso_loader.cc:64] Could not load dynamic library 'libcuda.so.1'; dlerror: libcuda.so.1: cannot open shared object file: No such file or directory\n",
      "2022-02-26 13:19:00.725016: W tensorflow/stream_executor/cuda/cuda_driver.cc:269] failed call to cuInit: UNKNOWN ERROR (303)\n",
      "2022-02-26 13:19:00.725031: I tensorflow/stream_executor/cuda/cuda_diagnostics.cc:156] kernel driver does not appear to be running on this host (giovane-VirtualBox): /proc/driver/nvidia/version does not exist\n",
      "2022-02-26 13:19:00.731961: I tensorflow/core/platform/cpu_feature_guard.cc:151] This TensorFlow binary is optimized with oneAPI Deep Neural Network Library (oneDNN) to use the following CPU instructions in performance-critical operations:  AVX2\n",
      "To enable them in other operations, rebuild TensorFlow with the appropriate compiler flags.\n"
     ]
    },
    {
     "name": "stdout",
     "output_type": "stream",
     "text": [
      "Epoch 1/100\n",
      "5185/5185 [==============================] - 4s 722us/step - loss: 1.2453 - accuracy: 0.5854\n",
      "Epoch 2/100\n",
      "5185/5185 [==============================] - 4s 702us/step - loss: 1.1711 - accuracy: 0.5953\n",
      "Epoch 3/100\n",
      "5185/5185 [==============================] - 4s 700us/step - loss: 1.1353 - accuracy: 0.5994\n",
      "Epoch 4/100\n",
      "5185/5185 [==============================] - 4s 700us/step - loss: 1.1134 - accuracy: 0.6008\n",
      "Epoch 5/100\n",
      "5185/5185 [==============================] - 4s 702us/step - loss: 1.1055 - accuracy: 0.6013\n",
      "Epoch 6/100\n",
      "5185/5185 [==============================] - 4s 698us/step - loss: 1.0994 - accuracy: 0.6044\n",
      "Epoch 7/100\n",
      "5185/5185 [==============================] - 4s 718us/step - loss: 1.0965 - accuracy: 0.6064\n",
      "Epoch 8/100\n",
      "5185/5185 [==============================] - 4s 787us/step - loss: 1.0943 - accuracy: 0.6086\n",
      "Epoch 9/100\n",
      "5185/5185 [==============================] - 4s 834us/step - loss: 1.0921 - accuracy: 0.6101\n",
      "Epoch 10/100\n",
      "5185/5185 [==============================] - 4s 776us/step - loss: 1.0893 - accuracy: 0.6105\n",
      "Epoch 11/100\n",
      "5185/5185 [==============================] - 4s 798us/step - loss: 1.0885 - accuracy: 0.6127\n",
      "Epoch 12/100\n",
      "5185/5185 [==============================] - 4s 788us/step - loss: 1.0875 - accuracy: 0.6128\n",
      "Epoch 13/100\n",
      "5185/5185 [==============================] - 4s 792us/step - loss: 1.0854 - accuracy: 0.6136\n",
      "Epoch 14/100\n",
      "5185/5185 [==============================] - 4s 783us/step - loss: 1.0849 - accuracy: 0.6141\n",
      "Epoch 15/100\n",
      "5185/5185 [==============================] - 4s 803us/step - loss: 1.0833 - accuracy: 0.6149\n",
      "Epoch 16/100\n",
      "5185/5185 [==============================] - 4s 799us/step - loss: 1.0832 - accuracy: 0.6146\n",
      "Epoch 17/100\n",
      "5185/5185 [==============================] - 4s 783us/step - loss: 1.0829 - accuracy: 0.6149\n",
      "Epoch 18/100\n",
      "5185/5185 [==============================] - 4s 784us/step - loss: 1.0820 - accuracy: 0.6161\n",
      "Epoch 19/100\n",
      "5185/5185 [==============================] - 4s 785us/step - loss: 1.0818 - accuracy: 0.6159\n",
      "Epoch 20/100\n",
      "5185/5185 [==============================] - 4s 787us/step - loss: 1.0811 - accuracy: 0.6159\n",
      "Epoch 21/100\n",
      "5185/5185 [==============================] - 4s 786us/step - loss: 1.0804 - accuracy: 0.6163\n",
      "Epoch 22/100\n",
      "5185/5185 [==============================] - 4s 795us/step - loss: 1.0799 - accuracy: 0.6163\n",
      "Epoch 23/100\n",
      "5185/5185 [==============================] - 4s 794us/step - loss: 1.0799 - accuracy: 0.6167\n",
      "Epoch 24/100\n",
      "5185/5185 [==============================] - 4s 786us/step - loss: 1.0792 - accuracy: 0.6172\n",
      "Epoch 25/100\n",
      "5185/5185 [==============================] - 5s 1ms/step - loss: 1.0789 - accuracy: 0.6163\n",
      "Epoch 26/100\n",
      "5185/5185 [==============================] - 5s 1ms/step - loss: 1.0787 - accuracy: 0.6169\n",
      "Epoch 27/100\n",
      "5185/5185 [==============================] - 5s 1ms/step - loss: 1.0782 - accuracy: 0.6174\n",
      "Epoch 28/100\n",
      "5185/5185 [==============================] - 5s 1ms/step - loss: 1.0778 - accuracy: 0.6179\n",
      "Epoch 29/100\n",
      "5185/5185 [==============================] - 5s 1000us/step - loss: 1.0777 - accuracy: 0.6176\n",
      "Epoch 30/100\n",
      "5185/5185 [==============================] - 5s 997us/step - loss: 1.0770 - accuracy: 0.6178\n",
      "Epoch 31/100\n",
      "5185/5185 [==============================] - 5s 1ms/step - loss: 1.0769 - accuracy: 0.6177\n",
      "Epoch 32/100\n",
      "5185/5185 [==============================] - 5s 1ms/step - loss: 1.0768 - accuracy: 0.6180\n",
      "Epoch 33/100\n",
      "5185/5185 [==============================] - 5s 1ms/step - loss: 1.0759 - accuracy: 0.6182\n",
      "Epoch 34/100\n",
      "5185/5185 [==============================] - 5s 1ms/step - loss: 1.0759 - accuracy: 0.6174\n",
      "Epoch 35/100\n",
      "5185/5185 [==============================] - 5s 1ms/step - loss: 1.0760 - accuracy: 0.6179\n",
      "Epoch 36/100\n",
      "5185/5185 [==============================] - 5s 1ms/step - loss: 1.0757 - accuracy: 0.6181\n",
      "Epoch 37/100\n",
      "5185/5185 [==============================] - 4s 736us/step - loss: 1.0749 - accuracy: 0.6184\n",
      "Epoch 38/100\n",
      "5185/5185 [==============================] - 4s 725us/step - loss: 1.0752 - accuracy: 0.6180\n",
      "Epoch 39/100\n",
      "5185/5185 [==============================] - 4s 722us/step - loss: 1.0746 - accuracy: 0.6183\n",
      "Epoch 40/100\n",
      "5185/5185 [==============================] - 4s 722us/step - loss: 1.0745 - accuracy: 0.6193\n",
      "Epoch 41/100\n",
      "5185/5185 [==============================] - 4s 726us/step - loss: 1.0745 - accuracy: 0.6188\n",
      "Epoch 42/100\n",
      "5185/5185 [==============================] - 4s 725us/step - loss: 1.0742 - accuracy: 0.6183\n",
      "Epoch 43/100\n",
      "5185/5185 [==============================] - 4s 793us/step - loss: 1.0742 - accuracy: 0.6186\n",
      "Epoch 44/100\n",
      "5185/5185 [==============================] - 4s 766us/step - loss: 1.0737 - accuracy: 0.6188\n",
      "Epoch 45/100\n",
      "5185/5185 [==============================] - 4s 752us/step - loss: 1.0738 - accuracy: 0.6184\n",
      "Epoch 46/100\n",
      "5185/5185 [==============================] - 4s 738us/step - loss: 1.0736 - accuracy: 0.6191\n",
      "Epoch 47/100\n",
      "5185/5185 [==============================] - 4s 745us/step - loss: 1.0738 - accuracy: 0.6183\n",
      "Epoch 48/100\n",
      "5185/5185 [==============================] - 4s 744us/step - loss: 1.0730 - accuracy: 0.6196\n",
      "Epoch 49/100\n",
      "5185/5185 [==============================] - 4s 746us/step - loss: 1.0733 - accuracy: 0.6194\n",
      "Epoch 50/100\n",
      "5185/5185 [==============================] - 4s 746us/step - loss: 1.0730 - accuracy: 0.6190\n",
      "Epoch 51/100\n",
      "5185/5185 [==============================] - 4s 738us/step - loss: 1.0728 - accuracy: 0.6196\n",
      "Epoch 52/100\n",
      "5185/5185 [==============================] - 4s 744us/step - loss: 1.0725 - accuracy: 0.6193\n",
      "Epoch 53/100\n",
      "5185/5185 [==============================] - 5s 1ms/step - loss: 1.0725 - accuracy: 0.6195\n",
      "Epoch 54/100\n",
      "5185/5185 [==============================] - 4s 746us/step - loss: 1.0723 - accuracy: 0.6192\n",
      "Epoch 55/100\n",
      "5185/5185 [==============================] - 4s 745us/step - loss: 1.0722 - accuracy: 0.6196\n",
      "Epoch 56/100\n",
      "5185/5185 [==============================] - 5s 949us/step - loss: 1.0723 - accuracy: 0.6199\n",
      "Epoch 57/100\n",
      "5185/5185 [==============================] - 5s 940us/step - loss: 1.0720 - accuracy: 0.6197\n",
      "Epoch 58/100\n",
      "5185/5185 [==============================] - 5s 1ms/step - loss: 1.0715 - accuracy: 0.6198\n",
      "Epoch 59/100\n",
      "5185/5185 [==============================] - 5s 1ms/step - loss: 1.0718 - accuracy: 0.6202\n",
      "Epoch 60/100\n",
      "5185/5185 [==============================] - 5s 937us/step - loss: 1.0720 - accuracy: 0.6209\n",
      "Epoch 61/100\n",
      "5185/5185 [==============================] - 5s 950us/step - loss: 1.0721 - accuracy: 0.6198\n",
      "Epoch 62/100\n",
      "5185/5185 [==============================] - 5s 945us/step - loss: 1.0718 - accuracy: 0.6202\n",
      "Epoch 63/100\n",
      "5185/5185 [==============================] - 5s 1ms/step - loss: 1.0717 - accuracy: 0.6205\n",
      "Epoch 64/100\n",
      "5185/5185 [==============================] - 4s 803us/step - loss: 1.0713 - accuracy: 0.6198\n",
      "Epoch 65/100\n",
      "5185/5185 [==============================] - 6s 1ms/step - loss: 1.0715 - accuracy: 0.6204\n",
      "Epoch 66/100\n",
      "5185/5185 [==============================] - 5s 1ms/step - loss: 1.0711 - accuracy: 0.6198\n",
      "Epoch 67/100\n",
      "5185/5185 [==============================] - 5s 927us/step - loss: 1.0713 - accuracy: 0.6204\n",
      "Epoch 68/100\n",
      "5185/5185 [==============================] - 5s 992us/step - loss: 1.0708 - accuracy: 0.6202\n",
      "Epoch 69/100\n",
      "5185/5185 [==============================] - 5s 965us/step - loss: 1.0710 - accuracy: 0.6209\n",
      "Epoch 70/100\n",
      "5185/5185 [==============================] - 5s 927us/step - loss: 1.0709 - accuracy: 0.6204\n",
      "Epoch 71/100\n",
      "5185/5185 [==============================] - 5s 931us/step - loss: 1.0708 - accuracy: 0.6209\n",
      "Epoch 72/100\n",
      "5185/5185 [==============================] - 5s 945us/step - loss: 1.0708 - accuracy: 0.6203\n",
      "Epoch 73/100\n",
      "5185/5185 [==============================] - 5s 940us/step - loss: 1.0703 - accuracy: 0.6204\n",
      "Epoch 74/100\n",
      "5185/5185 [==============================] - 5s 940us/step - loss: 1.0705 - accuracy: 0.6204\n",
      "Epoch 75/100\n",
      "5185/5185 [==============================] - 5s 941us/step - loss: 1.0704 - accuracy: 0.6204\n",
      "Epoch 76/100\n",
      "5185/5185 [==============================] - 6s 1ms/step - loss: 1.0703 - accuracy: 0.6214\n",
      "Epoch 77/100\n",
      "5185/5185 [==============================] - 4s 757us/step - loss: 1.0699 - accuracy: 0.6213\n",
      "Epoch 78/100\n",
      "5185/5185 [==============================] - 4s 747us/step - loss: 1.0702 - accuracy: 0.6204\n",
      "Epoch 79/100\n",
      "5185/5185 [==============================] - 4s 744us/step - loss: 1.0700 - accuracy: 0.6204\n",
      "Epoch 80/100\n",
      "5185/5185 [==============================] - 4s 741us/step - loss: 1.0701 - accuracy: 0.6207\n",
      "Epoch 81/100\n",
      "5185/5185 [==============================] - 4s 740us/step - loss: 1.0699 - accuracy: 0.6206\n",
      "Epoch 82/100\n",
      "5185/5185 [==============================] - 4s 746us/step - loss: 1.0701 - accuracy: 0.6199\n",
      "Epoch 83/100\n",
      "5185/5185 [==============================] - 4s 731us/step - loss: 1.0698 - accuracy: 0.6211\n",
      "Epoch 84/100\n",
      "5185/5185 [==============================] - 4s 740us/step - loss: 1.0693 - accuracy: 0.6212\n",
      "Epoch 85/100\n",
      "5185/5185 [==============================] - 4s 735us/step - loss: 1.0698 - accuracy: 0.6215\n",
      "Epoch 86/100\n",
      "5185/5185 [==============================] - 4s 742us/step - loss: 1.0698 - accuracy: 0.6208\n",
      "Epoch 87/100\n",
      "5185/5185 [==============================] - 4s 732us/step - loss: 1.0693 - accuracy: 0.6215\n",
      "Epoch 88/100\n",
      "5185/5185 [==============================] - 4s 727us/step - loss: 1.0695 - accuracy: 0.6215\n",
      "Epoch 89/100\n",
      "5185/5185 [==============================] - 5s 931us/step - loss: 1.0697 - accuracy: 0.6211\n",
      "Epoch 90/100\n",
      "5185/5185 [==============================] - 5s 922us/step - loss: 1.0693 - accuracy: 0.6213\n",
      "Epoch 91/100\n",
      "5185/5185 [==============================] - 5s 929us/step - loss: 1.0694 - accuracy: 0.6214\n",
      "Epoch 92/100\n",
      "5185/5185 [==============================] - 5s 928us/step - loss: 1.0692 - accuracy: 0.6211\n",
      "Epoch 93/100\n",
      "5185/5185 [==============================] - 5s 934us/step - loss: 1.0693 - accuracy: 0.6207\n",
      "Epoch 94/100\n",
      "5185/5185 [==============================] - 5s 936us/step - loss: 1.0691 - accuracy: 0.6208\n",
      "Epoch 95/100\n",
      "5185/5185 [==============================] - 5s 931us/step - loss: 1.0689 - accuracy: 0.6220\n",
      "Epoch 96/100\n",
      "5185/5185 [==============================] - 5s 923us/step - loss: 1.0689 - accuracy: 0.6208\n",
      "Epoch 97/100\n",
      "5185/5185 [==============================] - 5s 930us/step - loss: 1.0692 - accuracy: 0.6217\n",
      "Epoch 98/100\n",
      "5185/5185 [==============================] - 5s 929us/step - loss: 1.0684 - accuracy: 0.6215\n",
      "Epoch 99/100\n",
      "5185/5185 [==============================] - 5s 933us/step - loss: 1.0689 - accuracy: 0.6216\n",
      "Epoch 100/100\n",
      "5185/5185 [==============================] - 5s 934us/step - loss: 1.0686 - accuracy: 0.6217\n"
     ]
    },
    {
     "data": {
      "text/plain": [
       "<keras.callbacks.History at 0x7f6bec76ef10>"
      ]
     },
     "execution_count": 43,
     "metadata": {},
     "output_type": "execute_result"
    }
   ],
   "source": [
    "# definicao do modelo\n",
    "model = ml.Sequential()\n",
    "model.add(l.Dense(128, input_dim=x_train.shape[1], activation=\"relu\"))\n",
    "model.add(l.Dense(12, activation=\"softmax\"))\n",
    "\n",
    "# compilando modelo \n",
    "model.compile(loss = 'categorical_crossentropy', optimizer = 'adam', metrics=['accuracy'])\n",
    "\n",
    "# treinamento \n",
    "model.fit(x_train, y_train_nn, epochs=100, verbose = 0)"
   ]
  },
  {
   "cell_type": "markdown",
   "id": "8294523f",
   "metadata": {},
   "source": [
    "### 4.3.1 Performance do Modelo - MLP "
   ]
  },
  {
   "cell_type": "code",
   "execution_count": 44,
   "id": "88d11045",
   "metadata": {
    "ExecuteTime": {
     "end_time": "2022-02-26T16:28:36.164141Z",
     "start_time": "2022-02-26T16:28:35.425856Z"
    }
   },
   "outputs": [],
   "source": [
    "# predicao \n",
    "pred = model.predict(x_test)\n",
    "\n",
    "# invertendo o encoder \n",
    "yhat_nn = encoder.inverse_transform(pred)\n",
    "\n",
    "y_test_nn = y_test.to_numpy()\n",
    "yhat_nn = yhat_nn.reshape(1,-1)[0]"
   ]
  },
  {
   "cell_type": "code",
   "execution_count": 45,
   "id": "04fe2bfc",
   "metadata": {
    "ExecuteTime": {
     "end_time": "2022-02-26T16:28:39.238481Z",
     "start_time": "2022-02-26T16:28:38.300629Z"
    }
   },
   "outputs": [
    {
     "name": "stdout",
     "output_type": "stream",
     "text": [
      "Acuracia:0.6163026182554607\n",
      "Acuracia Balanceada: 0.10604667230963565\n",
      "Kappa: 0.22452659540351838\n"
     ]
    },
    {
     "name": "stderr",
     "output_type": "stream",
     "text": [
      "/home/giovane/Documentos/repo/airbnb_previsao_agendamento/agendamento_airbnb/lib/python3.8/site-packages/sklearn/metrics/_classification.py:1318: UndefinedMetricWarning: Precision and F-score are ill-defined and being set to 0.0 in labels with no predicted samples. Use `zero_division` parameter to control this behavior.\n",
      "  _warn_prf(average, modifier, msg_start, len(result))\n"
     ]
    },
    {
     "name": "stdout",
     "output_type": "stream",
     "text": [
      "              precision    recall  f1-score   support\n",
      "\n",
      "          AU       0.00      0.00      0.00        95\n",
      "          CA       0.00      0.00      0.00       296\n",
      "          DE       0.00      0.00      0.00       213\n",
      "          ES       0.20      0.00      0.00       429\n",
      "          FR       0.00      0.00      0.00       997\n",
      "          GB       0.00      0.00      0.00       505\n",
      "          IT       0.00      0.00      0.00       558\n",
      "         NDF       0.67      0.86      0.75     24003\n",
      "          NL       0.00      0.00      0.00       161\n",
      "          PT       0.00      0.00      0.00        52\n",
      "          US       0.47      0.42      0.44     12136\n",
      "       other       0.00      0.00      0.00      2033\n",
      "\n",
      "    accuracy                           0.62     41478\n",
      "   macro avg       0.11      0.11      0.10     41478\n",
      "weighted avg       0.53      0.62      0.56     41478\n",
      "\n"
     ]
    },
    {
     "name": "stderr",
     "output_type": "stream",
     "text": [
      "/home/giovane/Documentos/repo/airbnb_previsao_agendamento/agendamento_airbnb/lib/python3.8/site-packages/sklearn/metrics/_classification.py:1318: UndefinedMetricWarning: Precision and F-score are ill-defined and being set to 0.0 in labels with no predicted samples. Use `zero_division` parameter to control this behavior.\n",
      "  _warn_prf(average, modifier, msg_start, len(result))\n",
      "/home/giovane/Documentos/repo/airbnb_previsao_agendamento/agendamento_airbnb/lib/python3.8/site-packages/sklearn/metrics/_classification.py:1318: UndefinedMetricWarning: Precision and F-score are ill-defined and being set to 0.0 in labels with no predicted samples. Use `zero_division` parameter to control this behavior.\n",
      "  _warn_prf(average, modifier, msg_start, len(result))\n"
     ]
    }
   ],
   "source": [
    "# acuracia \n",
    "acuracia_nn = metrics.accuracy_score(y_test_nn, yhat_nn)\n",
    "print('Acuracia:{}'.format(acuracia_nn))\n",
    "\n",
    "# Acuracia balanceada \n",
    "balanced_accuracy_nn = metrics.balanced_accuracy_score(y_test_nn, yhat_nn)\n",
    "print('Acuracia Balanceada: {}'.format(balanced_accuracy_nn))\n",
    "\n",
    "# kappa \n",
    "kappa_nn = metrics.cohen_kappa_score(y_test_nn, yhat_nn)\n",
    "print('Kappa: {}'.format(kappa_nn))\n",
    "\n",
    "print(metrics.classification_report(y_test_nn, yhat_nn))\n"
   ]
  },
  {
   "cell_type": "code",
   "execution_count": 46,
   "id": "5bbd26c2",
   "metadata": {
    "ExecuteTime": {
     "end_time": "2022-02-26T16:29:07.943517Z",
     "start_time": "2022-02-26T16:29:07.457019Z"
    }
   },
   "outputs": [
    {
     "data": {
      "image/png": "[encoded data removed]",
      "text/plain": [
       "<Figure size 864x864 with 2 Axes>"
      ]
     },
     "metadata": {
      "needs_background": "light"
     },
     "output_type": "display_data"
    }
   ],
   "source": [
    "# Matriz de confusao\n",
    "mt.plot_confusion_matrix(y_test_nn, yhat_nn, normalize=False, figsize=(12,12));"
   ]
  },
  {
   "cell_type": "markdown",
   "id": "5d5cd100",
   "metadata": {},
   "source": [
    "O modelo acabou sendo inviesado, pelo fato do dataset estar desbalanceado. Podemos ver também que a acuracia de acimade 70%, as mesma também segue sendo inviesada pelo grande número de registro com US."
   ]
  },
  {
   "cell_type": "markdown",
   "id": "ccc8894e",
   "metadata": {},
   "source": [
    "### 4.3.2 Cross Validation - MLP "
   ]
  },
  {
   "cell_type": "code",
   "execution_count": 48,
   "id": "66d1a384",
   "metadata": {
    "ExecuteTime": {
     "end_time": "2022-02-26T16:56:52.143124Z",
     "start_time": "2022-02-26T16:39:09.049928Z"
    }
   },
   "outputs": [
    {
     "name": "stdout",
     "output_type": "stream",
     "text": [
      "Fold 1/5\n",
      "Fold 2/5\n",
      "Fold 3/5\n",
      "Fold 4/5\n",
      "Fold 5/5\n"
     ]
    }
   ],
   "source": [
    "# gerar fold \n",
    "num_fold = 5 \n",
    "kfold = ms.StratifiedKFold(n_splits= num_fold, shuffle=True, random_state=42)\n",
    "\n",
    "l_balanced_acc =[]\n",
    "l_kappa = []\n",
    "i=1 \n",
    "\n",
    "for train_ix, val_ix in kfold.split(x_train, y_train):\n",
    "    print('Fold {}/{}'.format(i, num_fold))\n",
    "    \n",
    "    # fold \n",
    "    x_train_fold = x_train.iloc[train_ix]\n",
    "    y_train_fold = y_train.iloc[train_ix]\n",
    "    \n",
    "    x_val_fold = x_train.iloc[val_ix]\n",
    "    y_val_fold = y_train.iloc[val_ix]\n",
    "    \n",
    "    # encoder target\n",
    "    encoder = pp.OneHotEncoder()\n",
    "    y_train_fold_nn = encoder.fit_transform(y_train_fold.values.reshape(-1,1)).toarray()\n",
    "\n",
    "    # definicao do modelo\n",
    "    model = ml.Sequential()\n",
    "    model.add(l.Dense(128, input_dim= x_train_fold.shape[1], activation=\"relu\"))\n",
    "    model.add(l.Dense(12, activation=\"softmax\"))\n",
    "\n",
    "    # compilando modelo \n",
    "    model.compile(loss = 'categorical_crossentropy', optimizer = 'adam', metrics=['accuracy'])\n",
    "\n",
    "    # treinamento \n",
    "    model.fit( x_train_fold, y_train_fold_nn, epochs=100, batch_size = 42, verbose=0)\n",
    "\n",
    "    # predicao \n",
    "    pred_nn = model.predict(x_val_fold)\n",
    "\n",
    "    # invertendo o encoder \n",
    "    yhat_fold_nn = encoder.inverse_transform(pred_nn)\n",
    "\n",
    "    y_val_fold_nn = y_val_fold.to_numpy()\n",
    "    yhat_fold_nn = yhat_fold_nn.reshape(1,-1)[0]\n",
    "    \n",
    "    #metricas \n",
    "    ## Balanced Accuracy\n",
    "    balanced_acc_fold = metrics.balanced_accuracy_score(y_val_fold_nn, yhat_fold_nn)\n",
    "    l_balanced_acc.append(balanced_acc_fold)\n",
    "    \n",
    "    ##Kappa \n",
    "    kappa_fold = metrics.cohen_kappa_score(y_val_fold_nn, yhat_fold_nn)\n",
    "    l_kappa.append(kappa_fold)\n",
    "    \n",
    "    i = i+1\n",
    "    "
   ]
  },
  {
   "cell_type": "code",
   "execution_count": 49,
   "id": "5d33ca03",
   "metadata": {
    "ExecuteTime": {
     "end_time": "2022-02-26T17:01:19.218555Z",
     "start_time": "2022-02-26T17:01:19.216014Z"
    }
   },
   "outputs": [
    {
     "name": "stdout",
     "output_type": "stream",
     "text": [
      "Balanced Accuracy: 0.1064+/-0.0007\n",
      "Kappa: 0.2267+/-0.0053\n"
     ]
    }
   ],
   "source": [
    "print('Balanced Accuracy: {:.4f}+/-{:.4f}'.format(np.mean(l_balanced_acc), np.std(l_balanced_acc)) )\n",
    "print('Kappa: {:.4f}+/-{:.4f}'.format(np.mean(l_kappa), np.std(l_kappa)) )"
   ]
  },
  {
   "cell_type": "code",
   "execution_count": null,
   "id": "de5d7594",
   "metadata": {},
   "outputs": [],
   "source": []
  }
 ],
 "metadata": {
  "kernelspec": {
   "display_name": "agendamento_airbnb",
   "language": "python",
   "name": "agendamento_airbnb"
  },
  "language_info": {
   "codemirror_mode": {
    "name": "ipython",
    "version": 3
   },
   "file_extension": ".py",
   "mimetype": "text/x-python",
   "name": "python",
   "nbconvert_exporter": "python",
   "pygments_lexer": "ipython3",
   "version": "3.8.10"
  },
  "varInspector": {
   "cols": {
    "lenName": 16,
    "lenType": 16,
    "lenVar": 40
   },
   "kernels_config": {
    "python": {
     "delete_cmd_postfix": "",
     "delete_cmd_prefix": "del ",
     "library": "var_list.py",
     "varRefreshCmd": "print(var_dic_list())"
    },
    "r": {
     "delete_cmd_postfix": ") ",
     "delete_cmd_prefix": "rm(",
     "library": "var_list.r",
     "varRefreshCmd": "cat(var_dic_list()) "
    }
   },
   "types_to_exclude": [
    "module",
    "function",
    "builtin_function_or_method",
    "instance",
    "_Feature"
   ],
   "window_display": false
  }
 },
 "nbformat": 4,
 "nbformat_minor": 5
}

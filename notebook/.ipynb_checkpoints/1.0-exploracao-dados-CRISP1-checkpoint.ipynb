{
 "cells": [
  {
   "cell_type": "markdown",
   "id": "d5ba96a9",
   "metadata": {},
   "source": [
    "# Problema de Negocio "
   ]
  },
  {
   "cell_type": "markdown",
   "id": "4f3ac5e5",
   "metadata": {},
   "source": [
    "Airbnb opera no mercado online de hospedagem, principalmente com casas de família para aluguel de temporada e atividade de turismo. No memento se observou a necessidade de prever o primeiro destino que um novo usuário vai escolher para fazer sua reserva de hospedagem.\n",
    "\n",
    "**Causa raiz**: Por se tratar de um modelo de marketplace, onde visa conectar pessoas que oferecem um serviço, com pessoas que estão em busca dos mesmo, a necessidade vem de prever o destino para melhor aplicar a campanha de marketing. Buscando diminuir o CAC. "
   ]
  },
  {
   "cell_type": "markdown",
   "id": "457cee91",
   "metadata": {
    "heading_collapsed": true
   },
   "source": [
    "## Planejamento da Entrega "
   ]
  },
  {
   "cell_type": "markdown",
   "id": "1dbcca23",
   "metadata": {
    "hidden": true
   },
   "source": [
    "1. Resposta\n",
    "- prever o destino do primeiro agendamento de hospedagem do usuário. \n",
    "\n",
    "2. Formato de entrega\n",
    "- Json com os dados do cliente e a classificação do destino. \n",
    "\n",
    "3. Local de entrega \n",
    "- Api "
   ]
  },
  {
   "cell_type": "markdown",
   "id": "3dca2e3f",
   "metadata": {
    "heading_collapsed": true
   },
   "source": [
    "## Planejamento do Processo "
   ]
  },
  {
   "cell_type": "markdown",
   "id": "6ef4b1f3",
   "metadata": {
    "ExecuteTime": {
     "end_time": "2022-02-15T20:19:35.866474Z",
     "start_time": "2022-02-15T20:19:35.864148Z"
    },
    "hidden": true
   },
   "source": [
    "1. Extração e carregamento dos dados. \n",
    "2. Análise descritiva e  do dataset. \n",
    "3. Validação e tratamento de dados faltantes \n",
    "4. Feature engineering\n",
    "5. Balanceamento dos dados. \n",
    "6. EAD.\n",
    "7. Modelagem de dados\n",
    "8. Seleção dos atributos relevantes \n",
    "9. Modelagem de algoritmo classificador e fine tunning\n",
    "10. Criação Class Pipeline de dados e API Handler \n",
    "11. Deploy em produção "
   ]
  },
  {
   "cell_type": "markdown",
   "id": "5996bf9d",
   "metadata": {
    "heading_collapsed": true
   },
   "source": [
    "## Planejamento de Entrada"
   ]
  },
  {
   "cell_type": "markdown",
   "id": "adfa77e8",
   "metadata": {
    "hidden": true
   },
   "source": [
    "1. Fonte dos dados \n",
    "- **kaggle** https://www.kaggle.com/c/airbnb-recruiting-new-user-bookings/data\n",
    "    \n",
    "2. Ferramentas \n",
    "- Python 3 \n",
    "- Flask \n",
    "- Sklearn \n",
    "- Jupyter Notebook \n",
    "- Heroku "
   ]
  },
  {
   "cell_type": "markdown",
   "id": "fc55551e",
   "metadata": {
    "ExecuteTime": {
     "end_time": "2022-02-15T20:25:39.745263Z",
     "start_time": "2022-02-15T20:25:39.743140Z"
    }
   },
   "source": [
    "# 0.0 Import "
   ]
  },
  {
   "cell_type": "code",
   "execution_count": 134,
   "id": "7162eca3",
   "metadata": {
    "ExecuteTime": {
     "end_time": "2022-02-17T00:37:19.054865Z",
     "start_time": "2022-02-17T00:37:18.774541Z"
    }
   },
   "outputs": [],
   "source": [
    "import pandas as pd \n",
    "import matplotlib.pyplot\n",
    "\n",
    "import sklearn.preprocessing as pp\n",
    "from sklearn.model_selection import train_test_split\n",
    "from keras import models as ml\n",
    "from keras import layers as l\n",
    "from sklearn import metrics\n",
    "from scikitplot import metrics as mt\n",
    "import os\n",
    "    "
   ]
  },
  {
   "cell_type": "markdown",
   "id": "71b68d34",
   "metadata": {},
   "source": [
    "## 0.1 Helper Functions "
   ]
  },
  {
   "cell_type": "code",
   "execution_count": 64,
   "id": "2cb0fa49",
   "metadata": {
    "ExecuteTime": {
     "end_time": "2022-02-16T23:45:32.528069Z",
     "start_time": "2022-02-16T23:45:32.526109Z"
    }
   },
   "outputs": [],
   "source": [
    "os.environ['TF_CPP_MIN_LOG_LEVEL'] = '2'"
   ]
  },
  {
   "cell_type": "markdown",
   "id": "b3a16222",
   "metadata": {},
   "source": [
    "## 0.2 Carregamento de dados "
   ]
  },
  {
   "cell_type": "code",
   "execution_count": 2,
   "id": "eb80795f",
   "metadata": {
    "ExecuteTime": {
     "end_time": "2022-02-16T23:14:23.066327Z",
     "start_time": "2022-02-16T23:14:22.549040Z"
    }
   },
   "outputs": [],
   "source": [
    "df_user_raw = pd.read_csv('/home/giovane/Documentos/repo/airbnb_previsao_agendamento/data/raw/train_users_2.csv')\n",
    "# df_sessions_raw = pd.read_csv('/home/giovane/Documentos/repo/airbnb_previsao_agendamento/data/raw/sessions.csv')"
   ]
  },
  {
   "cell_type": "markdown",
   "id": "09224abb",
   "metadata": {},
   "source": [
    "# 1.0 Análise Descritiva "
   ]
  },
  {
   "cell_type": "code",
   "execution_count": 3,
   "id": "d65076f2",
   "metadata": {
    "ExecuteTime": {
     "end_time": "2022-02-16T23:14:24.069705Z",
     "start_time": "2022-02-16T23:14:23.788260Z"
    }
   },
   "outputs": [
    {
     "name": "stdout",
     "output_type": "stream",
     "text": [
      "<class 'pandas.core.frame.DataFrame'>\n",
      "RangeIndex: 213451 entries, 0 to 213450\n",
      "Data columns (total 16 columns):\n",
      " #   Column                   Non-Null Count   Dtype  \n",
      "---  ------                   --------------   -----  \n",
      " 0   id                       213451 non-null  object \n",
      " 1   date_account_created     213451 non-null  object \n",
      " 2   timestamp_first_active   213451 non-null  int64  \n",
      " 3   date_first_booking       88908 non-null   object \n",
      " 4   gender                   213451 non-null  object \n",
      " 5   age                      125461 non-null  float64\n",
      " 6   signup_method            213451 non-null  object \n",
      " 7   signup_flow              213451 non-null  int64  \n",
      " 8   language                 213451 non-null  object \n",
      " 9   affiliate_channel        213451 non-null  object \n",
      " 10  affiliate_provider       213451 non-null  object \n",
      " 11  first_affiliate_tracked  207386 non-null  object \n",
      " 12  signup_app               213451 non-null  object \n",
      " 13  first_device_type        213451 non-null  object \n",
      " 14  first_browser            213451 non-null  object \n",
      " 15  country_destination      213451 non-null  object \n",
      "dtypes: float64(1), int64(2), object(13)\n",
      "memory usage: 26.1+ MB\n"
     ]
    }
   ],
   "source": [
    "# verificando o a dimensao dos dados (Linhas e colunas)\n",
    "# Tipo dos atributos \n",
    "df_user_raw.info()"
   ]
  },
  {
   "cell_type": "markdown",
   "id": "7c2b3edc",
   "metadata": {},
   "source": [
    "## 1.2 Dados Faltantes ( NA ) "
   ]
  },
  {
   "cell_type": "code",
   "execution_count": 4,
   "id": "2eba8684",
   "metadata": {
    "ExecuteTime": {
     "end_time": "2022-02-16T23:14:25.542886Z",
     "start_time": "2022-02-16T23:14:25.289779Z"
    }
   },
   "outputs": [
    {
     "data": {
      "text/plain": [
       "id                              0\n",
       "date_account_created            0\n",
       "timestamp_first_active          0\n",
       "date_first_booking         124543\n",
       "gender                          0\n",
       "age                         87990\n",
       "signup_method                   0\n",
       "signup_flow                     0\n",
       "language                        0\n",
       "affiliate_channel               0\n",
       "affiliate_provider              0\n",
       "first_affiliate_tracked      6065\n",
       "signup_app                      0\n",
       "first_device_type               0\n",
       "first_browser                   0\n",
       "country_destination             0\n",
       "dtype: int64"
      ]
     },
     "execution_count": 4,
     "metadata": {},
     "output_type": "execute_result"
    }
   ],
   "source": [
    "df_user_raw.isna().sum()"
   ]
  },
  {
   "cell_type": "markdown",
   "id": "29e0a14e",
   "metadata": {},
   "source": [
    "O dataset possui 3 colunas onde apresentam dados faltantes( NA ) \n",
    "- date_first_booking \n",
    "- age \n",
    "- first_affiliate_tracked "
   ]
  },
  {
   "cell_type": "markdown",
   "id": "57af7183",
   "metadata": {},
   "source": [
    "## 1.3 Preenchendo NA"
   ]
  },
  {
   "cell_type": "markdown",
   "id": "5f0fc258",
   "metadata": {},
   "source": [
    "Como parte do primeiro ciclo de desenvolvimento focando na entrega de valor, foi adotado a exlusão das linhas com NA tendo em vista a grande redução de registros do dataset."
   ]
  },
  {
   "cell_type": "code",
   "execution_count": 5,
   "id": "f291ff1b",
   "metadata": {
    "ExecuteTime": {
     "end_time": "2022-02-16T23:14:30.968690Z",
     "start_time": "2022-02-16T23:14:30.646867Z"
    }
   },
   "outputs": [],
   "source": [
    "df_user_raw.dropna(inplace=True)"
   ]
  },
  {
   "cell_type": "code",
   "execution_count": 6,
   "id": "10d9126a",
   "metadata": {
    "ExecuteTime": {
     "end_time": "2022-02-16T23:14:31.020628Z",
     "start_time": "2022-02-16T23:14:31.016378Z"
    }
   },
   "outputs": [
    {
     "data": {
      "text/plain": [
       "(68171, 16)"
      ]
     },
     "execution_count": 6,
     "metadata": {},
     "output_type": "execute_result"
    }
   ],
   "source": [
    "df_user_raw.shape"
   ]
  },
  {
   "cell_type": "markdown",
   "id": "fd129fb8",
   "metadata": {},
   "source": [
    "## 1.1 Alterando Data Type"
   ]
  },
  {
   "cell_type": "code",
   "execution_count": 7,
   "id": "92d18805",
   "metadata": {
    "ExecuteTime": {
     "end_time": "2022-02-16T23:14:31.953700Z",
     "start_time": "2022-02-16T23:14:31.929953Z"
    }
   },
   "outputs": [
    {
     "data": {
      "text/html": [
       "<div>\n",
       "<style scoped>\n",
       "    .dataframe tbody tr th:only-of-type {\n",
       "        vertical-align: middle;\n",
       "    }\n",
       "\n",
       "    .dataframe tbody tr th {\n",
       "        vertical-align: top;\n",
       "    }\n",
       "\n",
       "    .dataframe thead th {\n",
       "        text-align: right;\n",
       "    }\n",
       "</style>\n",
       "<table border=\"1\" class=\"dataframe\">\n",
       "  <thead>\n",
       "    <tr style=\"text-align: right;\">\n",
       "      <th></th>\n",
       "      <th>137324</th>\n",
       "    </tr>\n",
       "  </thead>\n",
       "  <tbody>\n",
       "    <tr>\n",
       "      <th>id</th>\n",
       "      <td>jqygii7o35</td>\n",
       "    </tr>\n",
       "    <tr>\n",
       "      <th>date_account_created</th>\n",
       "      <td>2014-01-02</td>\n",
       "    </tr>\n",
       "    <tr>\n",
       "      <th>timestamp_first_active</th>\n",
       "      <td>20140102084807</td>\n",
       "    </tr>\n",
       "    <tr>\n",
       "      <th>date_first_booking</th>\n",
       "      <td>2014-01-03</td>\n",
       "    </tr>\n",
       "    <tr>\n",
       "      <th>gender</th>\n",
       "      <td>-unknown-</td>\n",
       "    </tr>\n",
       "    <tr>\n",
       "      <th>age</th>\n",
       "      <td>105.0</td>\n",
       "    </tr>\n",
       "    <tr>\n",
       "      <th>signup_method</th>\n",
       "      <td>basic</td>\n",
       "    </tr>\n",
       "    <tr>\n",
       "      <th>signup_flow</th>\n",
       "      <td>24</td>\n",
       "    </tr>\n",
       "    <tr>\n",
       "      <th>language</th>\n",
       "      <td>en</td>\n",
       "    </tr>\n",
       "    <tr>\n",
       "      <th>affiliate_channel</th>\n",
       "      <td>direct</td>\n",
       "    </tr>\n",
       "    <tr>\n",
       "      <th>affiliate_provider</th>\n",
       "      <td>direct</td>\n",
       "    </tr>\n",
       "    <tr>\n",
       "      <th>first_affiliate_tracked</th>\n",
       "      <td>untracked</td>\n",
       "    </tr>\n",
       "    <tr>\n",
       "      <th>signup_app</th>\n",
       "      <td>Moweb</td>\n",
       "    </tr>\n",
       "    <tr>\n",
       "      <th>first_device_type</th>\n",
       "      <td>Android Tablet</td>\n",
       "    </tr>\n",
       "    <tr>\n",
       "      <th>first_browser</th>\n",
       "      <td>Chrome</td>\n",
       "    </tr>\n",
       "    <tr>\n",
       "      <th>country_destination</th>\n",
       "      <td>US</td>\n",
       "    </tr>\n",
       "  </tbody>\n",
       "</table>\n",
       "</div>"
      ],
      "text/plain": [
       "                                 137324\n",
       "id                           jqygii7o35\n",
       "date_account_created         2014-01-02\n",
       "timestamp_first_active   20140102084807\n",
       "date_first_booking           2014-01-03\n",
       "gender                        -unknown-\n",
       "age                               105.0\n",
       "signup_method                     basic\n",
       "signup_flow                          24\n",
       "language                             en\n",
       "affiliate_channel                direct\n",
       "affiliate_provider               direct\n",
       "first_affiliate_tracked       untracked\n",
       "signup_app                        Moweb\n",
       "first_device_type        Android Tablet\n",
       "first_browser                    Chrome\n",
       "country_destination                  US"
      ]
     },
     "execution_count": 7,
     "metadata": {},
     "output_type": "execute_result"
    }
   ],
   "source": [
    "df_user_raw.sample(1).T"
   ]
  },
  {
   "cell_type": "code",
   "execution_count": 8,
   "id": "e16d3e46",
   "metadata": {
    "ExecuteTime": {
     "end_time": "2022-02-16T23:14:33.129274Z",
     "start_time": "2022-02-16T23:14:32.960354Z"
    }
   },
   "outputs": [],
   "source": [
    "df_user_raw['date_account_created'] = pd.to_datetime(df_user_raw['date_account_created'])  \n",
    "df_user_raw['timestamp_first_active'] = pd.to_datetime(df_user_raw['timestamp_first_active'], format='%Y%m%d%H%M%S') \n",
    "df_user_raw['date_first_booking'] = pd.to_datetime(df_user_raw['date_first_booking'])  \n",
    "df_user_raw['age'] = df_user_raw['age'].astype(int)"
   ]
  },
  {
   "cell_type": "code",
   "execution_count": 9,
   "id": "2cd16dfa",
   "metadata": {
    "ExecuteTime": {
     "end_time": "2022-02-16T23:14:34.335390Z",
     "start_time": "2022-02-16T23:14:34.329181Z"
    }
   },
   "outputs": [
    {
     "data": {
      "text/html": [
       "<div>\n",
       "<style scoped>\n",
       "    .dataframe tbody tr th:only-of-type {\n",
       "        vertical-align: middle;\n",
       "    }\n",
       "\n",
       "    .dataframe tbody tr th {\n",
       "        vertical-align: top;\n",
       "    }\n",
       "\n",
       "    .dataframe thead th {\n",
       "        text-align: right;\n",
       "    }\n",
       "</style>\n",
       "<table border=\"1\" class=\"dataframe\">\n",
       "  <thead>\n",
       "    <tr style=\"text-align: right;\">\n",
       "      <th></th>\n",
       "      <th>57662</th>\n",
       "    </tr>\n",
       "  </thead>\n",
       "  <tbody>\n",
       "    <tr>\n",
       "      <th>id</th>\n",
       "      <td>kk4xvlqhad</td>\n",
       "    </tr>\n",
       "    <tr>\n",
       "      <th>date_account_created</th>\n",
       "      <td>2013-01-26 00:00:00</td>\n",
       "    </tr>\n",
       "    <tr>\n",
       "      <th>timestamp_first_active</th>\n",
       "      <td>2013-01-26 21:25:23</td>\n",
       "    </tr>\n",
       "    <tr>\n",
       "      <th>date_first_booking</th>\n",
       "      <td>2013-09-05 00:00:00</td>\n",
       "    </tr>\n",
       "    <tr>\n",
       "      <th>gender</th>\n",
       "      <td>FEMALE</td>\n",
       "    </tr>\n",
       "    <tr>\n",
       "      <th>age</th>\n",
       "      <td>33</td>\n",
       "    </tr>\n",
       "    <tr>\n",
       "      <th>signup_method</th>\n",
       "      <td>basic</td>\n",
       "    </tr>\n",
       "    <tr>\n",
       "      <th>signup_flow</th>\n",
       "      <td>0</td>\n",
       "    </tr>\n",
       "    <tr>\n",
       "      <th>language</th>\n",
       "      <td>en</td>\n",
       "    </tr>\n",
       "    <tr>\n",
       "      <th>affiliate_channel</th>\n",
       "      <td>direct</td>\n",
       "    </tr>\n",
       "    <tr>\n",
       "      <th>affiliate_provider</th>\n",
       "      <td>direct</td>\n",
       "    </tr>\n",
       "    <tr>\n",
       "      <th>first_affiliate_tracked</th>\n",
       "      <td>linked</td>\n",
       "    </tr>\n",
       "    <tr>\n",
       "      <th>signup_app</th>\n",
       "      <td>Web</td>\n",
       "    </tr>\n",
       "    <tr>\n",
       "      <th>first_device_type</th>\n",
       "      <td>Mac Desktop</td>\n",
       "    </tr>\n",
       "    <tr>\n",
       "      <th>first_browser</th>\n",
       "      <td>Safari</td>\n",
       "    </tr>\n",
       "    <tr>\n",
       "      <th>country_destination</th>\n",
       "      <td>US</td>\n",
       "    </tr>\n",
       "  </tbody>\n",
       "</table>\n",
       "</div>"
      ],
      "text/plain": [
       "                                       57662\n",
       "id                                kk4xvlqhad\n",
       "date_account_created     2013-01-26 00:00:00\n",
       "timestamp_first_active   2013-01-26 21:25:23\n",
       "date_first_booking       2013-09-05 00:00:00\n",
       "gender                                FEMALE\n",
       "age                                       33\n",
       "signup_method                          basic\n",
       "signup_flow                                0\n",
       "language                                  en\n",
       "affiliate_channel                     direct\n",
       "affiliate_provider                    direct\n",
       "first_affiliate_tracked               linked\n",
       "signup_app                               Web\n",
       "first_device_type                Mac Desktop\n",
       "first_browser                         Safari\n",
       "country_destination                       US"
      ]
     },
     "execution_count": 9,
     "metadata": {},
     "output_type": "execute_result"
    }
   ],
   "source": [
    "df_user_raw.sample(1).T"
   ]
  },
  {
   "cell_type": "markdown",
   "id": "ad77f8b8",
   "metadata": {},
   "source": [
    "# 2.0 Filtragem de Atributos  "
   ]
  },
  {
   "cell_type": "code",
   "execution_count": 114,
   "id": "c41ac67d",
   "metadata": {
    "ExecuteTime": {
     "end_time": "2022-02-17T00:28:03.910553Z",
     "start_time": "2022-02-17T00:28:03.906107Z"
    }
   },
   "outputs": [],
   "source": [
    "df2 = df_user_raw.copy()"
   ]
  },
  {
   "cell_type": "code",
   "execution_count": 115,
   "id": "fcd2112f",
   "metadata": {
    "ExecuteTime": {
     "end_time": "2022-02-17T00:28:04.497870Z",
     "start_time": "2022-02-17T00:28:04.491991Z"
    }
   },
   "outputs": [],
   "source": [
    "#removendo atributos que nao existem no momento da predicao \n",
    "df2.drop(['id', 'timestamp_first_active', 'date_first_booking', 'date_account_created'], axis=1, inplace=True)"
   ]
  },
  {
   "cell_type": "markdown",
   "id": "ad310169",
   "metadata": {},
   "source": [
    "# 3.0 Modelagem de Dados "
   ]
  },
  {
   "cell_type": "code",
   "execution_count": 116,
   "id": "02423a54",
   "metadata": {
    "ExecuteTime": {
     "end_time": "2022-02-17T00:28:05.195655Z",
     "start_time": "2022-02-17T00:28:05.192666Z"
    }
   },
   "outputs": [],
   "source": [
    "df3 = df2.copy()"
   ]
  },
  {
   "cell_type": "markdown",
   "id": "7145a93c",
   "metadata": {},
   "source": [
    "## 3.1 Encoding "
   ]
  },
  {
   "cell_type": "code",
   "execution_count": 117,
   "id": "1d30be4d",
   "metadata": {
    "ExecuteTime": {
     "end_time": "2022-02-17T00:28:09.037846Z",
     "start_time": "2022-02-17T00:28:09.033188Z"
    }
   },
   "outputs": [
    {
     "data": {
      "text/html": [
       "<div>\n",
       "<style scoped>\n",
       "    .dataframe tbody tr th:only-of-type {\n",
       "        vertical-align: middle;\n",
       "    }\n",
       "\n",
       "    .dataframe tbody tr th {\n",
       "        vertical-align: top;\n",
       "    }\n",
       "\n",
       "    .dataframe thead th {\n",
       "        text-align: right;\n",
       "    }\n",
       "</style>\n",
       "<table border=\"1\" class=\"dataframe\">\n",
       "  <thead>\n",
       "    <tr style=\"text-align: right;\">\n",
       "      <th></th>\n",
       "      <th>2</th>\n",
       "    </tr>\n",
       "  </thead>\n",
       "  <tbody>\n",
       "    <tr>\n",
       "      <th>gender</th>\n",
       "      <td>FEMALE</td>\n",
       "    </tr>\n",
       "    <tr>\n",
       "      <th>age</th>\n",
       "      <td>56</td>\n",
       "    </tr>\n",
       "    <tr>\n",
       "      <th>signup_method</th>\n",
       "      <td>basic</td>\n",
       "    </tr>\n",
       "    <tr>\n",
       "      <th>signup_flow</th>\n",
       "      <td>3</td>\n",
       "    </tr>\n",
       "    <tr>\n",
       "      <th>language</th>\n",
       "      <td>en</td>\n",
       "    </tr>\n",
       "    <tr>\n",
       "      <th>affiliate_channel</th>\n",
       "      <td>direct</td>\n",
       "    </tr>\n",
       "    <tr>\n",
       "      <th>affiliate_provider</th>\n",
       "      <td>direct</td>\n",
       "    </tr>\n",
       "    <tr>\n",
       "      <th>first_affiliate_tracked</th>\n",
       "      <td>untracked</td>\n",
       "    </tr>\n",
       "    <tr>\n",
       "      <th>signup_app</th>\n",
       "      <td>Web</td>\n",
       "    </tr>\n",
       "    <tr>\n",
       "      <th>first_device_type</th>\n",
       "      <td>Windows Desktop</td>\n",
       "    </tr>\n",
       "    <tr>\n",
       "      <th>first_browser</th>\n",
       "      <td>IE</td>\n",
       "    </tr>\n",
       "    <tr>\n",
       "      <th>country_destination</th>\n",
       "      <td>US</td>\n",
       "    </tr>\n",
       "  </tbody>\n",
       "</table>\n",
       "</div>"
      ],
      "text/plain": [
       "                                       2\n",
       "gender                            FEMALE\n",
       "age                                   56\n",
       "signup_method                      basic\n",
       "signup_flow                            3\n",
       "language                              en\n",
       "affiliate_channel                 direct\n",
       "affiliate_provider                direct\n",
       "first_affiliate_tracked        untracked\n",
       "signup_app                           Web\n",
       "first_device_type        Windows Desktop\n",
       "first_browser                         IE\n",
       "country_destination                   US"
      ]
     },
     "execution_count": 117,
     "metadata": {},
     "output_type": "execute_result"
    }
   ],
   "source": [
    "df3.head(1).T"
   ]
  },
  {
   "cell_type": "code",
   "execution_count": 118,
   "id": "07330964",
   "metadata": {
    "ExecuteTime": {
     "end_time": "2022-02-17T00:28:09.827194Z",
     "start_time": "2022-02-17T00:28:09.767401Z"
    }
   },
   "outputs": [],
   "source": [
    "df3_dommies = pd.get_dummies(df3.drop('country_destination', axis=1))\n",
    "df3 = pd.concat([df3_dommies, df3['country_destination']], axis=1)"
   ]
  },
  {
   "cell_type": "markdown",
   "id": "c0586fa5",
   "metadata": {},
   "source": [
    "# 4.0 Modelagem Machine Learning - Neural Network "
   ]
  },
  {
   "cell_type": "code",
   "execution_count": 119,
   "id": "6e9bafa5",
   "metadata": {
    "ExecuteTime": {
     "end_time": "2022-02-17T00:28:13.097222Z",
     "start_time": "2022-02-17T00:28:13.091488Z"
    }
   },
   "outputs": [],
   "source": [
    "df4 = df3.copy()"
   ]
  },
  {
   "cell_type": "markdown",
   "id": "239e4377",
   "metadata": {},
   "source": [
    "## 4.1 Separar Dados Teste e Validação  "
   ]
  },
  {
   "cell_type": "code",
   "execution_count": 120,
   "id": "765b65ab",
   "metadata": {
    "ExecuteTime": {
     "end_time": "2022-02-17T00:28:14.880568Z",
     "start_time": "2022-02-17T00:28:14.875098Z"
    }
   },
   "outputs": [],
   "source": [
    "x = df4.drop('country_destination', axis=1)\n",
    "y = df4['country_destination'].copy()"
   ]
  },
  {
   "cell_type": "code",
   "execution_count": 121,
   "id": "3a4a529e",
   "metadata": {
    "ExecuteTime": {
     "end_time": "2022-02-17T00:28:19.291036Z",
     "start_time": "2022-02-17T00:28:19.257558Z"
    }
   },
   "outputs": [],
   "source": [
    "x_train, x_test, y_train, y_test = train_test_split(x, y, test_size=0.2, random_state=42)"
   ]
  },
  {
   "cell_type": "code",
   "execution_count": 122,
   "id": "80dbefa3",
   "metadata": {
    "ExecuteTime": {
     "end_time": "2022-02-17T00:28:20.283767Z",
     "start_time": "2022-02-17T00:28:20.272897Z"
    }
   },
   "outputs": [],
   "source": [
    "encoder = pp.OneHotEncoder()\n",
    "y_train = encoder.fit_transform(y_train.values.reshape(-1,1)).toarray()"
   ]
  },
  {
   "cell_type": "code",
   "execution_count": 123,
   "id": "1ac68c81",
   "metadata": {
    "ExecuteTime": {
     "end_time": "2022-02-17T00:31:06.576676Z",
     "start_time": "2022-02-17T00:28:20.860594Z"
    },
    "scrolled": true
   },
   "outputs": [
    {
     "name": "stdout",
     "output_type": "stream",
     "text": [
      "Epoch 1/100\n",
      "1705/1705 [==============================] - 2s 955us/step - loss: 1.3504 - accuracy: 0.7025\n",
      "Epoch 2/100\n",
      "1705/1705 [==============================] - 1s 791us/step - loss: 1.2671 - accuracy: 0.7066\n",
      "Epoch 3/100\n",
      "1705/1705 [==============================] - 1s 789us/step - loss: 1.2317 - accuracy: 0.7068\n",
      "Epoch 4/100\n",
      "1705/1705 [==============================] - 1s 768us/step - loss: 1.2131 - accuracy: 0.7068\n",
      "Epoch 5/100\n",
      "1705/1705 [==============================] - 1s 750us/step - loss: 1.1852 - accuracy: 0.7070\n",
      "Epoch 6/100\n",
      "1705/1705 [==============================] - 1s 729us/step - loss: 1.1710 - accuracy: 0.7070\n",
      "Epoch 7/100\n",
      "1705/1705 [==============================] - 1s 728us/step - loss: 1.1611 - accuracy: 0.7073\n",
      "Epoch 8/100\n",
      "1705/1705 [==============================] - 1s 776us/step - loss: 1.1472 - accuracy: 0.7072\n",
      "Epoch 9/100\n",
      "1705/1705 [==============================] - 1s 784us/step - loss: 1.1423 - accuracy: 0.7075\n",
      "Epoch 10/100\n",
      "1705/1705 [==============================] - 2s 891us/step - loss: 1.1397 - accuracy: 0.7080\n",
      "Epoch 11/100\n",
      "1705/1705 [==============================] - 1s 762us/step - loss: 1.1392 - accuracy: 0.7078\n",
      "Epoch 12/100\n",
      "1705/1705 [==============================] - 2s 928us/step - loss: 1.1368 - accuracy: 0.7081\n",
      "Epoch 13/100\n",
      "1705/1705 [==============================] - 2s 969us/step - loss: 1.1361 - accuracy: 0.7081\n",
      "Epoch 14/100\n",
      "1705/1705 [==============================] - 2s 945us/step - loss: 1.1353 - accuracy: 0.7082\n",
      "Epoch 15/100\n",
      "1705/1705 [==============================] - 2s 946us/step - loss: 1.1344 - accuracy: 0.7082\n",
      "Epoch 16/100\n",
      "1705/1705 [==============================] - 2s 898us/step - loss: 1.1337 - accuracy: 0.7081\n",
      "Epoch 17/100\n",
      "1705/1705 [==============================] - 2s 900us/step - loss: 1.1323 - accuracy: 0.7082\n",
      "Epoch 18/100\n",
      "1705/1705 [==============================] - 2s 904us/step - loss: 1.1305 - accuracy: 0.7082\n",
      "Epoch 19/100\n",
      "1705/1705 [==============================] - 2s 909us/step - loss: 1.1303 - accuracy: 0.7082\n",
      "Epoch 20/100\n",
      "1705/1705 [==============================] - 2s 880us/step - loss: 1.1289 - accuracy: 0.7082\n",
      "Epoch 21/100\n",
      "1705/1705 [==============================] - 2s 905us/step - loss: 1.1285 - accuracy: 0.7083\n",
      "Epoch 22/100\n",
      "1705/1705 [==============================] - 2s 914us/step - loss: 1.1278 - accuracy: 0.7082\n",
      "Epoch 23/100\n",
      "1705/1705 [==============================] - 2s 887us/step - loss: 1.1273 - accuracy: 0.7082\n",
      "Epoch 24/100\n",
      "1705/1705 [==============================] - 2s 928us/step - loss: 1.1264 - accuracy: 0.7085\n",
      "Epoch 25/100\n",
      "1705/1705 [==============================] - 2s 1ms/step - loss: 1.1255 - accuracy: 0.7084\n",
      "Epoch 26/100\n",
      "1705/1705 [==============================] - 2s 1ms/step - loss: 1.1251 - accuracy: 0.7083\n",
      "Epoch 27/100\n",
      "1705/1705 [==============================] - 2s 921us/step - loss: 1.1242 - accuracy: 0.7083\n",
      "Epoch 28/100\n",
      "1705/1705 [==============================] - 2s 946us/step - loss: 1.1235 - accuracy: 0.7084\n",
      "Epoch 29/100\n",
      "1705/1705 [==============================] - 2s 1ms/step - loss: 1.1224 - accuracy: 0.7085\n",
      "Epoch 30/100\n",
      "1705/1705 [==============================] - 1s 772us/step - loss: 1.1214 - accuracy: 0.7083\n",
      "Epoch 31/100\n",
      "1705/1705 [==============================] - 1s 871us/step - loss: 1.1211 - accuracy: 0.7086\n",
      "Epoch 32/100\n",
      "1705/1705 [==============================] - 2s 1ms/step - loss: 1.1211 - accuracy: 0.7085\n",
      "Epoch 33/100\n",
      "1705/1705 [==============================] - 2s 1ms/step - loss: 1.1204 - accuracy: 0.7086\n",
      "Epoch 34/100\n",
      "1705/1705 [==============================] - 2s 1ms/step - loss: 1.1212 - accuracy: 0.7085\n",
      "Epoch 35/100\n",
      "1705/1705 [==============================] - 2s 883us/step - loss: 1.1202 - accuracy: 0.7087\n",
      "Epoch 36/100\n",
      "1705/1705 [==============================] - 2s 991us/step - loss: 1.1181 - accuracy: 0.7086\n",
      "Epoch 37/100\n",
      "1705/1705 [==============================] - 2s 917us/step - loss: 1.1182 - accuracy: 0.7087\n",
      "Epoch 38/100\n",
      "1705/1705 [==============================] - 2s 927us/step - loss: 1.1176 - accuracy: 0.7088\n",
      "Epoch 39/100\n",
      "1705/1705 [==============================] - 2s 925us/step - loss: 1.1176 - accuracy: 0.7089\n",
      "Epoch 40/100\n",
      "1705/1705 [==============================] - 2s 909us/step - loss: 1.1168 - accuracy: 0.7089\n",
      "Epoch 41/100\n",
      "1705/1705 [==============================] - 2s 910us/step - loss: 1.1162 - accuracy: 0.7090\n",
      "Epoch 42/100\n",
      "1705/1705 [==============================] - 2s 954us/step - loss: 1.1157 - accuracy: 0.7090\n",
      "Epoch 43/100\n",
      "1705/1705 [==============================] - 2s 1ms/step - loss: 1.1149 - accuracy: 0.7090\n",
      "Epoch 44/100\n",
      "1705/1705 [==============================] - 2s 1ms/step - loss: 1.1145 - accuracy: 0.7091\n",
      "Epoch 45/100\n",
      "1705/1705 [==============================] - 2s 1ms/step - loss: 1.1145 - accuracy: 0.7091\n",
      "Epoch 46/100\n",
      "1705/1705 [==============================] - 2s 1ms/step - loss: 1.1132 - accuracy: 0.7090\n",
      "Epoch 47/100\n",
      "1705/1705 [==============================] - 2s 1ms/step - loss: 1.1132 - accuracy: 0.7091\n",
      "Epoch 48/100\n",
      "1705/1705 [==============================] - 2s 1ms/step - loss: 1.1131 - accuracy: 0.7091\n",
      "Epoch 49/100\n",
      "1705/1705 [==============================] - 2s 1ms/step - loss: 1.1116 - accuracy: 0.7093\n",
      "Epoch 50/100\n",
      "1705/1705 [==============================] - 2s 948us/step - loss: 1.1120 - accuracy: 0.7094\n",
      "Epoch 51/100\n",
      "1705/1705 [==============================] - 2s 975us/step - loss: 1.1130 - accuracy: 0.7092\n",
      "Epoch 52/100\n",
      "1705/1705 [==============================] - 2s 941us/step - loss: 1.1126 - accuracy: 0.7093\n",
      "Epoch 53/100\n",
      "1705/1705 [==============================] - 2s 982us/step - loss: 1.1107 - accuracy: 0.7093\n",
      "Epoch 54/100\n",
      "1705/1705 [==============================] - 2s 1ms/step - loss: 1.1107 - accuracy: 0.7093\n",
      "Epoch 55/100\n",
      "1705/1705 [==============================] - 2s 1ms/step - loss: 1.1098 - accuracy: 0.7096\n",
      "Epoch 56/100\n",
      "1705/1705 [==============================] - 2s 1ms/step - loss: 1.1098 - accuracy: 0.7097\n",
      "Epoch 57/100\n",
      "1705/1705 [==============================] - 2s 1ms/step - loss: 1.1098 - accuracy: 0.7096\n",
      "Epoch 58/100\n",
      "1705/1705 [==============================] - 2s 1ms/step - loss: 1.1098 - accuracy: 0.7094\n",
      "Epoch 59/100\n",
      "1705/1705 [==============================] - 2s 1ms/step - loss: 1.1094 - accuracy: 0.7096\n",
      "Epoch 60/100\n",
      "1705/1705 [==============================] - 2s 1ms/step - loss: 1.1109 - accuracy: 0.7096\n",
      "Epoch 61/100\n",
      "1705/1705 [==============================] - 2s 1ms/step - loss: 1.1094 - accuracy: 0.7098\n",
      "Epoch 62/100\n",
      "1705/1705 [==============================] - 2s 990us/step - loss: 1.1083 - accuracy: 0.7097\n",
      "Epoch 63/100\n",
      "1705/1705 [==============================] - 2s 995us/step - loss: 1.1076 - accuracy: 0.7100\n",
      "Epoch 64/100\n",
      "1705/1705 [==============================] - 2s 970us/step - loss: 1.1077 - accuracy: 0.7098\n",
      "Epoch 65/100\n",
      "1705/1705 [==============================] - 2s 977us/step - loss: 1.1076 - accuracy: 0.7099\n",
      "Epoch 66/100\n",
      "1705/1705 [==============================] - 2s 975us/step - loss: 1.1076 - accuracy: 0.7098\n",
      "Epoch 67/100\n",
      "1705/1705 [==============================] - 2s 956us/step - loss: 1.1077 - accuracy: 0.7098\n",
      "Epoch 68/100\n",
      "1705/1705 [==============================] - 2s 992us/step - loss: 1.1069 - accuracy: 0.7099\n",
      "Epoch 69/100\n",
      "1705/1705 [==============================] - 2s 947us/step - loss: 1.1069 - accuracy: 0.7100\n",
      "Epoch 70/100\n",
      "1705/1705 [==============================] - 2s 1ms/step - loss: 1.1066 - accuracy: 0.7101\n",
      "Epoch 71/100\n",
      "1705/1705 [==============================] - 2s 1000us/step - loss: 1.1062 - accuracy: 0.7102\n",
      "Epoch 72/100\n",
      "1705/1705 [==============================] - 2s 1ms/step - loss: 1.1055 - accuracy: 0.7100\n",
      "Epoch 73/100\n",
      "1705/1705 [==============================] - 2s 1ms/step - loss: 1.1052 - accuracy: 0.7103\n",
      "Epoch 74/100\n",
      "1705/1705 [==============================] - 2s 958us/step - loss: 1.1047 - accuracy: 0.7101\n",
      "Epoch 75/100\n",
      "1705/1705 [==============================] - 2s 982us/step - loss: 1.1048 - accuracy: 0.7101\n",
      "Epoch 76/100\n",
      "1705/1705 [==============================] - 2s 990us/step - loss: 1.1043 - accuracy: 0.7100\n",
      "Epoch 77/100\n",
      "1705/1705 [==============================] - 2s 990us/step - loss: 1.1039 - accuracy: 0.7101\n",
      "Epoch 78/100\n"
     ]
    },
    {
     "name": "stdout",
     "output_type": "stream",
     "text": [
      "1705/1705 [==============================] - 2s 967us/step - loss: 1.1040 - accuracy: 0.7100\n",
      "Epoch 79/100\n",
      "1705/1705 [==============================] - 2s 1ms/step - loss: 1.1037 - accuracy: 0.7103\n",
      "Epoch 80/100\n",
      "1705/1705 [==============================] - 2s 1ms/step - loss: 1.1029 - accuracy: 0.7102\n",
      "Epoch 81/100\n",
      "1705/1705 [==============================] - 2s 1ms/step - loss: 1.1023 - accuracy: 0.7104\n",
      "Epoch 82/100\n",
      "1705/1705 [==============================] - 2s 1ms/step - loss: 1.1026 - accuracy: 0.7103\n",
      "Epoch 83/100\n",
      "1705/1705 [==============================] - 2s 981us/step - loss: 1.1023 - accuracy: 0.7103\n",
      "Epoch 84/100\n",
      "1705/1705 [==============================] - 2s 960us/step - loss: 1.1017 - accuracy: 0.7105\n",
      "Epoch 85/100\n",
      "1705/1705 [==============================] - 2s 924us/step - loss: 1.1013 - accuracy: 0.7107\n",
      "Epoch 86/100\n",
      "1705/1705 [==============================] - 2s 988us/step - loss: 1.1018 - accuracy: 0.7104\n",
      "Epoch 87/100\n",
      "1705/1705 [==============================] - 2s 948us/step - loss: 1.1014 - accuracy: 0.7107\n",
      "Epoch 88/100\n",
      "1705/1705 [==============================] - 2s 947us/step - loss: 1.1009 - accuracy: 0.7106\n",
      "Epoch 89/100\n",
      "1705/1705 [==============================] - 2s 965us/step - loss: 1.1001 - accuracy: 0.7107\n",
      "Epoch 90/100\n",
      "1705/1705 [==============================] - 2s 969us/step - loss: 1.1006 - accuracy: 0.7109\n",
      "Epoch 91/100\n",
      "1705/1705 [==============================] - 2s 970us/step - loss: 1.1002 - accuracy: 0.7106\n",
      "Epoch 92/100\n",
      "1705/1705 [==============================] - 2s 967us/step - loss: 1.1002 - accuracy: 0.7106\n",
      "Epoch 93/100\n",
      "1705/1705 [==============================] - 2s 953us/step - loss: 1.0996 - accuracy: 0.7106\n",
      "Epoch 94/100\n",
      "1705/1705 [==============================] - 2s 961us/step - loss: 1.0992 - accuracy: 0.7106\n",
      "Epoch 95/100\n",
      "1705/1705 [==============================] - 2s 981us/step - loss: 1.0993 - accuracy: 0.7107\n",
      "Epoch 96/100\n",
      "1705/1705 [==============================] - 2s 1ms/step - loss: 1.0993 - accuracy: 0.7108\n",
      "Epoch 97/100\n",
      "1705/1705 [==============================] - 2s 1ms/step - loss: 1.0982 - accuracy: 0.7105\n",
      "Epoch 98/100\n",
      "1705/1705 [==============================] - 2s 1ms/step - loss: 1.0987 - accuracy: 0.7108\n",
      "Epoch 99/100\n",
      "1705/1705 [==============================] - 2s 1ms/step - loss: 1.0988 - accuracy: 0.7107\n",
      "Epoch 100/100\n",
      "1705/1705 [==============================] - 2s 1ms/step - loss: 1.0979 - accuracy: 0.7108\n"
     ]
    },
    {
     "data": {
      "text/plain": [
       "<keras.callbacks.History at 0x7f105cffb340>"
      ]
     },
     "execution_count": 123,
     "metadata": {},
     "output_type": "execute_result"
    }
   ],
   "source": [
    "# definicao do modelo\n",
    "model = ml.Sequential()\n",
    "model.add(l.Dense(128, input_dim=x_train.shape[1], activation=\"relu\"))\n",
    "model.add(l.Dense(11, activation=\"softmax\"))\n",
    "\n",
    "# compilando modelo \n",
    "model.compile(loss = 'categorical_crossentropy', optimizer = 'adam', metrics=['accuracy'])\n",
    "\n",
    "# treinamento \n",
    "model.fit(x_train, y_train, epochs=100)"
   ]
  },
  {
   "cell_type": "markdown",
   "id": "8294523f",
   "metadata": {},
   "source": [
    "# 5.0 Performance do Modelo  "
   ]
  },
  {
   "cell_type": "code",
   "execution_count": 131,
   "id": "88d11045",
   "metadata": {
    "ExecuteTime": {
     "end_time": "2022-02-17T00:32:27.769125Z",
     "start_time": "2022-02-17T00:32:27.538320Z"
    }
   },
   "outputs": [],
   "source": [
    "# predicao \n",
    "pred = model.predict(x_test)\n",
    "\n",
    "# invertendo o encoder \n",
    "yhat_nn = encoder.inverse_transform(pred)\n",
    "\n",
    "y_test_nn = y_test.to_numpy()\n",
    "yhat_nn = yhat_nn.reshape(1,-1)[0]"
   ]
  },
  {
   "cell_type": "code",
   "execution_count": 132,
   "id": "04fe2bfc",
   "metadata": {
    "ExecuteTime": {
     "end_time": "2022-02-17T00:32:29.778773Z",
     "start_time": "2022-02-17T00:32:29.766718Z"
    }
   },
   "outputs": [
    {
     "data": {
      "text/plain": [
       "0.7101576824349102"
      ]
     },
     "execution_count": 132,
     "metadata": {},
     "output_type": "execute_result"
    }
   ],
   "source": [
    "# acuracia \n",
    "metrics.accuracy_score(y_test_nn, yhat_nn)"
   ]
  },
  {
   "cell_type": "code",
   "execution_count": 139,
   "id": "5bbd26c2",
   "metadata": {
    "ExecuteTime": {
     "end_time": "2022-02-17T00:38:54.336327Z",
     "start_time": "2022-02-17T00:38:54.009627Z"
    }
   },
   "outputs": [
    {
     "data": {
      "image/png": "[encoded data removed]",
      "text/plain": [
       "<Figure size 864x864 with 2 Axes>"
      ]
     },
     "metadata": {
      "needs_background": "light"
     },
     "output_type": "display_data"
    }
   ],
   "source": [
    "mt.plot_confusion_matrix(y_test_nn, yhat_nn, normalize=False, figsize=(12,12));"
   ]
  },
  {
   "cell_type": "markdown",
   "id": "5d5cd100",
   "metadata": {},
   "source": [
    "O modelo acabou sendo inviesado, pelo fato do dataset estar desbalanceado. Podemos ver também que a acuracia de acimade 70%, as mesma também segue sendo inviesada pelo grande número de registro com US."
   ]
  },
  {
   "cell_type": "code",
   "execution_count": null,
   "id": "66d1a384",
   "metadata": {},
   "outputs": [],
   "source": []
  }
 ],
 "metadata": {
  "kernelspec": {
   "display_name": "agendamento_airbnb",
   "language": "python",
   "name": "agendamento_airbnb"
  },
  "language_info": {
   "codemirror_mode": {
    "name": "ipython",
    "version": 3
   },
   "file_extension": ".py",
   "mimetype": "text/x-python",
   "name": "python",
   "nbconvert_exporter": "python",
   "pygments_lexer": "ipython3",
   "version": "3.8.10"
  },
  "varInspector": {
   "cols": {
    "lenName": 16,
    "lenType": 16,
    "lenVar": 40
   },
   "kernels_config": {
    "python": {
     "delete_cmd_postfix": "",
     "delete_cmd_prefix": "del ",
     "library": "var_list.py",
     "varRefreshCmd": "print(var_dic_list())"
    },
    "r": {
     "delete_cmd_postfix": ") ",
     "delete_cmd_prefix": "rm(",
     "library": "var_list.r",
     "varRefreshCmd": "cat(var_dic_list()) "
    }
   },
   "types_to_exclude": [
    "module",
    "function",
    "builtin_function_or_method",
    "instance",
    "_Feature"
   ],
   "window_display": false
  }
 },
 "nbformat": 4,
 "nbformat_minor": 5
}

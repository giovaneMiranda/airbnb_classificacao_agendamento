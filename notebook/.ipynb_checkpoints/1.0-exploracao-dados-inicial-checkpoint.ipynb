{
 "cells": [
  {
   "cell_type": "markdown",
   "id": "d5ba96a9",
   "metadata": {},
   "source": [
    "# Problema de Negocio "
   ]
  },
  {
   "cell_type": "markdown",
   "id": "4f3ac5e5",
   "metadata": {},
   "source": [
    "Airbnb opera no mercado online de hospedagem, principalmente com casas de família para aluguel de temporada e atividade de turismo. No memento se observou a necessidade de prever o primeiro destino que um novo usuário vai escolher para fazer sua reserva de hospedagem.\n",
    "\n",
    "**Causa raiz**: Por se tratar de um modelo de marketplace, onde visa conectar pessoas que oferecem um serviço, com pessoas que estão em busca dos mesmo, a necessidade vem de prever o destino para melhor aplicar a campanha de marketing. Buscando diminuir o CAC. "
   ]
  },
  {
   "cell_type": "markdown",
   "id": "457cee91",
   "metadata": {
    "heading_collapsed": true
   },
   "source": [
    "## Planejamento da Entrega "
   ]
  },
  {
   "cell_type": "markdown",
   "id": "1dbcca23",
   "metadata": {
    "hidden": true
   },
   "source": [
    "1. Resposta\n",
    "- prever o destino do primeiro agendamento de hospedagem do usuário. \n",
    "\n",
    "2. Formato de entrega\n",
    "- Json com os dados do cliente e a classificação do destino. \n",
    "\n",
    "3. Local de entrega \n",
    "- Api "
   ]
  },
  {
   "cell_type": "markdown",
   "id": "3dca2e3f",
   "metadata": {
    "heading_collapsed": true
   },
   "source": [
    "## Planejamento do Processo "
   ]
  },
  {
   "cell_type": "markdown",
   "id": "6ef4b1f3",
   "metadata": {
    "ExecuteTime": {
     "end_time": "2022-02-15T20:19:35.866474Z",
     "start_time": "2022-02-15T20:19:35.864148Z"
    },
    "hidden": true
   },
   "source": [
    "1. Extração e carregamento dos dados. \n",
    "2. Análise descritiva e  do dataset. \n",
    "3. Validação e tratamento de dados faltantes \n",
    "4. Feature engineering\n",
    "5. Balanceamento dos dados. \n",
    "6. EAD.\n",
    "7. Modelagem de dados\n",
    "8. Seleção dos atributos relevantes \n",
    "9. Modelagem de algoritmo classificador e fine tunning\n",
    "10. Criação Class Pipeline de dados e API Handler \n",
    "11. Deploy em produção "
   ]
  },
  {
   "cell_type": "markdown",
   "id": "5996bf9d",
   "metadata": {
    "heading_collapsed": true
   },
   "source": [
    "## Planejamento de Entrada"
   ]
  },
  {
   "cell_type": "markdown",
   "id": "adfa77e8",
   "metadata": {
    "hidden": true
   },
   "source": [
    "1. Fonte dos dados \n",
    "- **kaggle** https://www.kaggle.com/c/airbnb-recruiting-new-user-bookings/data\n",
    "    \n",
    "2. Ferramentas \n",
    "- Python 3 \n",
    "- Flask \n",
    "- Sklearn \n",
    "- Jupyter Notebook \n",
    "- Heroku "
   ]
  },
  {
   "cell_type": "markdown",
   "id": "fc55551e",
   "metadata": {
    "ExecuteTime": {
     "end_time": "2022-02-15T20:25:39.745263Z",
     "start_time": "2022-02-15T20:25:39.743140Z"
    }
   },
   "source": [
    "# 0.0 Import "
   ]
  },
  {
   "cell_type": "code",
   "execution_count": 31,
   "id": "7162eca3",
   "metadata": {
    "ExecuteTime": {
     "end_time": "2022-02-16T01:25:16.166440Z",
     "start_time": "2022-02-16T01:25:16.164114Z"
    }
   },
   "outputs": [],
   "source": [
    "import pandas as pd \n",
    "import matplotlib.pyplot"
   ]
  },
  {
   "cell_type": "markdown",
   "id": "71b68d34",
   "metadata": {},
   "source": [
    "## 0.1 Helper Functions "
   ]
  },
  {
   "cell_type": "code",
   "execution_count": 33,
   "id": "2cb0fa49",
   "metadata": {
    "ExecuteTime": {
     "end_time": "2022-02-16T01:25:18.940604Z",
     "start_time": "2022-02-16T01:25:18.926113Z"
    }
   },
   "outputs": [
    {
     "name": "stdout",
     "output_type": "stream",
     "text": [
      "%pylab is deprecated, use %matplotlib inline and import the required libraries.\n",
      "Populating the interactive namespace from numpy and matplotlib\n"
     ]
    },
    {
     "ename": "NameError",
     "evalue": "name 'HTML' is not defined",
     "output_type": "error",
     "traceback": [
      "\u001b[0;31m---------------------------------------------------------------------------\u001b[0m",
      "\u001b[0;31mNameError\u001b[0m                                 Traceback (most recent call last)",
      "Input \u001b[0;32mIn [33]\u001b[0m, in \u001b[0;36m<module>\u001b[0;34m\u001b[0m\n\u001b[0;32m----> 1\u001b[0m \u001b[43mjupyter_settings\u001b[49m\u001b[43m(\u001b[49m\u001b[43m)\u001b[49m\n",
      "Input \u001b[0;32mIn [32]\u001b[0m, in \u001b[0;36mjupyter_settings\u001b[0;34m()\u001b[0m\n\u001b[1;32m      6\u001b[0m plt\u001b[38;5;241m.\u001b[39mrcParams[\u001b[38;5;124m'\u001b[39m\u001b[38;5;124mfigure.figsize\u001b[39m\u001b[38;5;124m'\u001b[39m] \u001b[38;5;241m=\u001b[39m [\u001b[38;5;241m25\u001b[39m, \u001b[38;5;241m12\u001b[39m]\n\u001b[1;32m      7\u001b[0m plt\u001b[38;5;241m.\u001b[39mrcParams[\u001b[38;5;124m'\u001b[39m\u001b[38;5;124mfont.size\u001b[39m\u001b[38;5;124m'\u001b[39m] \u001b[38;5;241m=\u001b[39m \u001b[38;5;241m24\u001b[39m\n\u001b[0;32m----> 9\u001b[0m display( \u001b[43mHTML\u001b[49m( \u001b[38;5;124m'\u001b[39m\u001b[38;5;124m<style>.container \u001b[39m\u001b[38;5;124m{\u001b[39m\u001b[38;5;124m width:100\u001b[39m\u001b[38;5;124m%\u001b[39m\u001b[38;5;124m !important; }</style>\u001b[39m\u001b[38;5;124m'\u001b[39m) )\n\u001b[1;32m     10\u001b[0m pd\u001b[38;5;241m.\u001b[39moptions\u001b[38;5;241m.\u001b[39mdisplay\u001b[38;5;241m.\u001b[39mmax_columns \u001b[38;5;241m=\u001b[39m \u001b[38;5;28;01mNone\u001b[39;00m\n",
      "\u001b[0;31mNameError\u001b[0m: name 'HTML' is not defined"
     ]
    }
   ],
   "source": []
  },
  {
   "cell_type": "markdown",
   "id": "b3a16222",
   "metadata": {},
   "source": [
    "## 0.2 Carregamento de dados "
   ]
  },
  {
   "cell_type": "code",
   "execution_count": 59,
   "id": "eb80795f",
   "metadata": {
    "ExecuteTime": {
     "end_time": "2022-02-16T01:48:54.154473Z",
     "start_time": "2022-02-16T01:48:49.647240Z"
    }
   },
   "outputs": [],
   "source": [
    "df_user_raw = pd.read_csv('/home/giovane/Documentos/repo/airbnb_previsao_agendamento/data/raw/train_users_2.csv')\n",
    "df_sessions_raw = pd.read_csv('/home/giovane/Documentos/repo/airbnb_previsao_agendamento/data/raw/sessions.csv')"
   ]
  },
  {
   "cell_type": "markdown",
   "id": "09224abb",
   "metadata": {},
   "source": [
    "# 1.0 Análise Descritiva "
   ]
  },
  {
   "cell_type": "code",
   "execution_count": 60,
   "id": "d65076f2",
   "metadata": {
    "ExecuteTime": {
     "end_time": "2022-02-16T01:48:55.441839Z",
     "start_time": "2022-02-16T01:48:55.192021Z"
    }
   },
   "outputs": [
    {
     "name": "stdout",
     "output_type": "stream",
     "text": [
      "<class 'pandas.core.frame.DataFrame'>\n",
      "RangeIndex: 213451 entries, 0 to 213450\n",
      "Data columns (total 16 columns):\n",
      " #   Column                   Non-Null Count   Dtype  \n",
      "---  ------                   --------------   -----  \n",
      " 0   id                       213451 non-null  object \n",
      " 1   date_account_created     213451 non-null  object \n",
      " 2   timestamp_first_active   213451 non-null  int64  \n",
      " 3   date_first_booking       88908 non-null   object \n",
      " 4   gender                   213451 non-null  object \n",
      " 5   age                      125461 non-null  float64\n",
      " 6   signup_method            213451 non-null  object \n",
      " 7   signup_flow              213451 non-null  int64  \n",
      " 8   language                 213451 non-null  object \n",
      " 9   affiliate_channel        213451 non-null  object \n",
      " 10  affiliate_provider       213451 non-null  object \n",
      " 11  first_affiliate_tracked  207386 non-null  object \n",
      " 12  signup_app               213451 non-null  object \n",
      " 13  first_device_type        213451 non-null  object \n",
      " 14  first_browser            213451 non-null  object \n",
      " 15  country_destination      213451 non-null  object \n",
      "dtypes: float64(1), int64(2), object(13)\n",
      "memory usage: 26.1+ MB\n"
     ]
    }
   ],
   "source": [
    "# verificando o a dimensao dos dados (Linhas e colunas)\n",
    "# Tipo dos atributos \n",
    "df_user_raw.info()"
   ]
  },
  {
   "cell_type": "markdown",
   "id": "7c2b3edc",
   "metadata": {},
   "source": [
    "## 1.2 Dados Faltantes ( NA ) "
   ]
  },
  {
   "cell_type": "code",
   "execution_count": 61,
   "id": "2eba8684",
   "metadata": {
    "ExecuteTime": {
     "end_time": "2022-02-16T01:48:59.311737Z",
     "start_time": "2022-02-16T01:48:59.062920Z"
    }
   },
   "outputs": [
    {
     "data": {
      "text/plain": [
       "id                              0\n",
       "date_account_created            0\n",
       "timestamp_first_active          0\n",
       "date_first_booking         124543\n",
       "gender                          0\n",
       "age                         87990\n",
       "signup_method                   0\n",
       "signup_flow                     0\n",
       "language                        0\n",
       "affiliate_channel               0\n",
       "affiliate_provider              0\n",
       "first_affiliate_tracked      6065\n",
       "signup_app                      0\n",
       "first_device_type               0\n",
       "first_browser                   0\n",
       "country_destination             0\n",
       "dtype: int64"
      ]
     },
     "execution_count": 61,
     "metadata": {},
     "output_type": "execute_result"
    }
   ],
   "source": [
    "df_user_raw.isna().sum()"
   ]
  },
  {
   "cell_type": "markdown",
   "id": "29e0a14e",
   "metadata": {},
   "source": [
    "O dataset possui 3 colunas onde apresentam dados faltantes( NA ) \n",
    "- date_first_booking \n",
    "- age \n",
    "- first_affiliate_tracked "
   ]
  },
  {
   "cell_type": "markdown",
   "id": "57af7183",
   "metadata": {},
   "source": [
    "## 1.3 Preenchendo NA"
   ]
  },
  {
   "cell_type": "markdown",
   "id": "5f0fc258",
   "metadata": {},
   "source": [
    "Como parte do primeiro ciclo de desenvolvimento focando na entrega de valor, foi adotado a exlusão das linhas com NA tendo em vista a grande redução de registros do dataset."
   ]
  },
  {
   "cell_type": "code",
   "execution_count": 62,
   "id": "f291ff1b",
   "metadata": {
    "ExecuteTime": {
     "end_time": "2022-02-16T01:49:06.767861Z",
     "start_time": "2022-02-16T01:49:06.515807Z"
    }
   },
   "outputs": [],
   "source": [
    "df_user_raw.dropna(inplace=True)"
   ]
  },
  {
   "cell_type": "code",
   "execution_count": 63,
   "id": "10d9126a",
   "metadata": {
    "ExecuteTime": {
     "end_time": "2022-02-16T01:49:07.860675Z",
     "start_time": "2022-02-16T01:49:07.857814Z"
    }
   },
   "outputs": [
    {
     "data": {
      "text/plain": [
       "(68171, 16)"
      ]
     },
     "execution_count": 63,
     "metadata": {},
     "output_type": "execute_result"
    }
   ],
   "source": [
    "df_user_raw.shape"
   ]
  },
  {
   "cell_type": "markdown",
   "id": "fd129fb8",
   "metadata": {},
   "source": [
    "## 1.1 Alterando Data Type"
   ]
  },
  {
   "cell_type": "code",
   "execution_count": 64,
   "id": "92d18805",
   "metadata": {
    "ExecuteTime": {
     "end_time": "2022-02-16T01:49:09.963262Z",
     "start_time": "2022-02-16T01:49:09.957266Z"
    }
   },
   "outputs": [
    {
     "data": {
      "text/html": [
       "<div>\n",
       "<style scoped>\n",
       "    .dataframe tbody tr th:only-of-type {\n",
       "        vertical-align: middle;\n",
       "    }\n",
       "\n",
       "    .dataframe tbody tr th {\n",
       "        vertical-align: top;\n",
       "    }\n",
       "\n",
       "    .dataframe thead th {\n",
       "        text-align: right;\n",
       "    }\n",
       "</style>\n",
       "<table border=\"1\" class=\"dataframe\">\n",
       "  <thead>\n",
       "    <tr style=\"text-align: right;\">\n",
       "      <th></th>\n",
       "      <th>71993</th>\n",
       "    </tr>\n",
       "  </thead>\n",
       "  <tbody>\n",
       "    <tr>\n",
       "      <th>id</th>\n",
       "      <td>upnp5bok5a</td>\n",
       "    </tr>\n",
       "    <tr>\n",
       "      <th>date_account_created</th>\n",
       "      <td>2013-04-20</td>\n",
       "    </tr>\n",
       "    <tr>\n",
       "      <th>timestamp_first_active</th>\n",
       "      <td>20130420041137</td>\n",
       "    </tr>\n",
       "    <tr>\n",
       "      <th>date_first_booking</th>\n",
       "      <td>2013-04-30</td>\n",
       "    </tr>\n",
       "    <tr>\n",
       "      <th>gender</th>\n",
       "      <td>FEMALE</td>\n",
       "    </tr>\n",
       "    <tr>\n",
       "      <th>age</th>\n",
       "      <td>35.0</td>\n",
       "    </tr>\n",
       "    <tr>\n",
       "      <th>signup_method</th>\n",
       "      <td>basic</td>\n",
       "    </tr>\n",
       "    <tr>\n",
       "      <th>signup_flow</th>\n",
       "      <td>0</td>\n",
       "    </tr>\n",
       "    <tr>\n",
       "      <th>language</th>\n",
       "      <td>en</td>\n",
       "    </tr>\n",
       "    <tr>\n",
       "      <th>affiliate_channel</th>\n",
       "      <td>seo</td>\n",
       "    </tr>\n",
       "    <tr>\n",
       "      <th>affiliate_provider</th>\n",
       "      <td>google</td>\n",
       "    </tr>\n",
       "    <tr>\n",
       "      <th>first_affiliate_tracked</th>\n",
       "      <td>linked</td>\n",
       "    </tr>\n",
       "    <tr>\n",
       "      <th>signup_app</th>\n",
       "      <td>Web</td>\n",
       "    </tr>\n",
       "    <tr>\n",
       "      <th>first_device_type</th>\n",
       "      <td>Mac Desktop</td>\n",
       "    </tr>\n",
       "    <tr>\n",
       "      <th>first_browser</th>\n",
       "      <td>Chrome</td>\n",
       "    </tr>\n",
       "    <tr>\n",
       "      <th>country_destination</th>\n",
       "      <td>US</td>\n",
       "    </tr>\n",
       "  </tbody>\n",
       "</table>\n",
       "</div>"
      ],
      "text/plain": [
       "                                  71993\n",
       "id                           upnp5bok5a\n",
       "date_account_created         2013-04-20\n",
       "timestamp_first_active   20130420041137\n",
       "date_first_booking           2013-04-30\n",
       "gender                           FEMALE\n",
       "age                                35.0\n",
       "signup_method                     basic\n",
       "signup_flow                           0\n",
       "language                             en\n",
       "affiliate_channel                   seo\n",
       "affiliate_provider               google\n",
       "first_affiliate_tracked          linked\n",
       "signup_app                          Web\n",
       "first_device_type           Mac Desktop\n",
       "first_browser                    Chrome\n",
       "country_destination                  US"
      ]
     },
     "execution_count": 64,
     "metadata": {},
     "output_type": "execute_result"
    }
   ],
   "source": [
    "df_user_raw.sample(1).T"
   ]
  },
  {
   "cell_type": "code",
   "execution_count": 65,
   "id": "e16d3e46",
   "metadata": {
    "ExecuteTime": {
     "end_time": "2022-02-16T01:49:12.404120Z",
     "start_time": "2022-02-16T01:49:12.242315Z"
    }
   },
   "outputs": [],
   "source": [
    "df_user_raw['date_account_created'] = pd.to_datetime(df_user_raw['date_account_created'])  \n",
    "df_user_raw['timestamp_first_active'] = pd.to_datetime(df_user_raw['timestamp_first_active'], format='%Y%m%d%H%M%S') \n",
    "df_user_raw['date_first_booking'] = pd.to_datetime(df_user_raw['date_first_booking'])  \n",
    "df_user_raw['age'] = df_user_raw['age'].astype(int)"
   ]
  },
  {
   "cell_type": "code",
   "execution_count": 66,
   "id": "2cd16dfa",
   "metadata": {
    "ExecuteTime": {
     "end_time": "2022-02-16T01:49:21.850308Z",
     "start_time": "2022-02-16T01:49:21.843732Z"
    }
   },
   "outputs": [
    {
     "data": {
      "text/html": [
       "<div>\n",
       "<style scoped>\n",
       "    .dataframe tbody tr th:only-of-type {\n",
       "        vertical-align: middle;\n",
       "    }\n",
       "\n",
       "    .dataframe tbody tr th {\n",
       "        vertical-align: top;\n",
       "    }\n",
       "\n",
       "    .dataframe thead th {\n",
       "        text-align: right;\n",
       "    }\n",
       "</style>\n",
       "<table border=\"1\" class=\"dataframe\">\n",
       "  <thead>\n",
       "    <tr style=\"text-align: right;\">\n",
       "      <th></th>\n",
       "      <th>137385</th>\n",
       "    </tr>\n",
       "  </thead>\n",
       "  <tbody>\n",
       "    <tr>\n",
       "      <th>id</th>\n",
       "      <td>dmefr5uaiw</td>\n",
       "    </tr>\n",
       "    <tr>\n",
       "      <th>date_account_created</th>\n",
       "      <td>2014-01-02 00:00:00</td>\n",
       "    </tr>\n",
       "    <tr>\n",
       "      <th>timestamp_first_active</th>\n",
       "      <td>2014-01-02 18:52:41</td>\n",
       "    </tr>\n",
       "    <tr>\n",
       "      <th>date_first_booking</th>\n",
       "      <td>2014-01-03 00:00:00</td>\n",
       "    </tr>\n",
       "    <tr>\n",
       "      <th>gender</th>\n",
       "      <td>MALE</td>\n",
       "    </tr>\n",
       "    <tr>\n",
       "      <th>age</th>\n",
       "      <td>40</td>\n",
       "    </tr>\n",
       "    <tr>\n",
       "      <th>signup_method</th>\n",
       "      <td>basic</td>\n",
       "    </tr>\n",
       "    <tr>\n",
       "      <th>signup_flow</th>\n",
       "      <td>0</td>\n",
       "    </tr>\n",
       "    <tr>\n",
       "      <th>language</th>\n",
       "      <td>en</td>\n",
       "    </tr>\n",
       "    <tr>\n",
       "      <th>affiliate_channel</th>\n",
       "      <td>direct</td>\n",
       "    </tr>\n",
       "    <tr>\n",
       "      <th>affiliate_provider</th>\n",
       "      <td>direct</td>\n",
       "    </tr>\n",
       "    <tr>\n",
       "      <th>first_affiliate_tracked</th>\n",
       "      <td>omg</td>\n",
       "    </tr>\n",
       "    <tr>\n",
       "      <th>signup_app</th>\n",
       "      <td>Web</td>\n",
       "    </tr>\n",
       "    <tr>\n",
       "      <th>first_device_type</th>\n",
       "      <td>Mac Desktop</td>\n",
       "    </tr>\n",
       "    <tr>\n",
       "      <th>first_browser</th>\n",
       "      <td>Safari</td>\n",
       "    </tr>\n",
       "    <tr>\n",
       "      <th>country_destination</th>\n",
       "      <td>US</td>\n",
       "    </tr>\n",
       "  </tbody>\n",
       "</table>\n",
       "</div>"
      ],
      "text/plain": [
       "                                      137385\n",
       "id                                dmefr5uaiw\n",
       "date_account_created     2014-01-02 00:00:00\n",
       "timestamp_first_active   2014-01-02 18:52:41\n",
       "date_first_booking       2014-01-03 00:00:00\n",
       "gender                                  MALE\n",
       "age                                       40\n",
       "signup_method                          basic\n",
       "signup_flow                                0\n",
       "language                                  en\n",
       "affiliate_channel                     direct\n",
       "affiliate_provider                    direct\n",
       "first_affiliate_tracked                  omg\n",
       "signup_app                               Web\n",
       "first_device_type                Mac Desktop\n",
       "first_browser                         Safari\n",
       "country_destination                       US"
      ]
     },
     "execution_count": 66,
     "metadata": {},
     "output_type": "execute_result"
    }
   ],
   "source": [
    "df_user_raw.sample(1).T"
   ]
  },
  {
   "cell_type": "code",
   "execution_count": null,
   "id": "0398baf5",
   "metadata": {},
   "outputs": [],
   "source": []
  }
 ],
 "metadata": {
  "kernelspec": {
   "display_name": "agendamento_airbnb",
   "language": "python",
   "name": "agendamento_airbnb"
  },
  "language_info": {
   "codemirror_mode": {
    "name": "ipython",
    "version": 3
   },
   "file_extension": ".py",
   "mimetype": "text/x-python",
   "name": "python",
   "nbconvert_exporter": "python",
   "pygments_lexer": "ipython3",
   "version": "3.8.10"
  },
  "varInspector": {
   "cols": {
    "lenName": 16,
    "lenType": 16,
    "lenVar": 40
   },
   "kernels_config": {
    "python": {
     "delete_cmd_postfix": "",
     "delete_cmd_prefix": "del ",
     "library": "var_list.py",
     "varRefreshCmd": "print(var_dic_list())"
    },
    "r": {
     "delete_cmd_postfix": ") ",
     "delete_cmd_prefix": "rm(",
     "library": "var_list.r",
     "varRefreshCmd": "cat(var_dic_list()) "
    }
   },
   "types_to_exclude": [
    "module",
    "function",
    "builtin_function_or_method",
    "instance",
    "_Feature"
   ],
   "window_display": false
  }
 },
 "nbformat": 4,
 "nbformat_minor": 5
}

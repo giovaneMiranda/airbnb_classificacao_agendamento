{
 "cells": [
  {
   "cell_type": "markdown",
   "id": "d5ba96a9",
   "metadata": {},
   "source": [
    "# Problema de Negocio "
   ]
  },
  {
   "cell_type": "markdown",
   "id": "4f3ac5e5",
   "metadata": {},
   "source": [
    "Airbnb opera no mercado online de hospedagem, principalmente com casas de família para aluguel de temporada e atividade de turismo. No memento se observou a necessidade de prever o primeiro destino que um novo usuário vai escolher para fazer sua reserva de hospedagem.\n",
    "\n",
    "**Causa raiz**: Por se tratar de um modelo de marketplace, onde visa conectar pessoas que oferecem um serviço, com pessoas que estão em busca dos mesmo, a necessidade vem de prever o destino para melhor aplicar a campanha de marketing. Buscando diminuir o CAC. "
   ]
  },
  {
   "cell_type": "markdown",
   "id": "457cee91",
   "metadata": {
    "heading_collapsed": true
   },
   "source": [
    "## Planejamento da Entrega "
   ]
  },
  {
   "cell_type": "markdown",
   "id": "1dbcca23",
   "metadata": {
    "hidden": true
   },
   "source": [
    "1. Resposta\n",
    "- prever o destino do primeiro agendamento de hospedagem do usuário. \n",
    "\n",
    "2. Formato de entrega\n",
    "- Json com os dados do cliente e a classificação do destino. \n",
    "\n",
    "3. Local de entrega \n",
    "- Api "
   ]
  },
  {
   "cell_type": "markdown",
   "id": "3dca2e3f",
   "metadata": {
    "heading_collapsed": true
   },
   "source": [
    "## Planejamento do Processo "
   ]
  },
  {
   "cell_type": "markdown",
   "id": "6ef4b1f3",
   "metadata": {
    "ExecuteTime": {
     "end_time": "2022-02-15T20:19:35.866474Z",
     "start_time": "2022-02-15T20:19:35.864148Z"
    },
    "hidden": true
   },
   "source": [
    "1. Extração e carregamento dos dados. \n",
    "2. Análise descritiva e  do dataset. \n",
    "3. Validação e tratamento de dados faltantes \n",
    "4. Feature engineering\n",
    "5. Balanceamento dos dados. \n",
    "6. EAD.\n",
    "7. Modelagem de dados\n",
    "8. Seleção dos atributos relevantes \n",
    "9. Modelagem de algoritmo classificador e fine tunning\n",
    "10. Criação Class Pipeline de dados e API Handler \n",
    "11. Deploy em produção "
   ]
  },
  {
   "cell_type": "markdown",
   "id": "5996bf9d",
   "metadata": {
    "heading_collapsed": true
   },
   "source": [
    "## Planejamento de Entrada"
   ]
  },
  {
   "cell_type": "markdown",
   "id": "adfa77e8",
   "metadata": {
    "hidden": true
   },
   "source": [
    "1. Fonte dos dados \n",
    "- **kaggle** https://www.kaggle.com/c/airbnb-recruiting-new-user-bookings/data\n",
    "    \n",
    "2. Ferramentas \n",
    "- Python 3 \n",
    "- Flask \n",
    "- Sklearn \n",
    "- Jupyter Notebook \n",
    "- Heroku "
   ]
  },
  {
   "cell_type": "markdown",
   "id": "fc55551e",
   "metadata": {
    "ExecuteTime": {
     "end_time": "2022-02-15T20:25:39.745263Z",
     "start_time": "2022-02-15T20:25:39.743140Z"
    }
   },
   "source": [
    "# 0.0 Import "
   ]
  },
  {
   "cell_type": "code",
   "execution_count": 84,
   "id": "7162eca3",
   "metadata": {
    "ExecuteTime": {
     "end_time": "2022-03-04T18:36:18.905828Z",
     "start_time": "2022-03-04T18:36:18.902935Z"
    }
   },
   "outputs": [],
   "source": [
    "import pandas as pd \n",
    "import matplotlib.pyplot\n",
    "import random\n",
    "import numpy as np\n",
    "import scipy.stats as stats\n",
    "\n",
    "\n",
    "import sklearn.preprocessing as pp\n",
    "import sklearn.model_selection as ms\n",
    "from keras import models as ml\n",
    "from keras import layers as l\n",
    "from sklearn import metrics\n",
    "from scikitplot import metrics as mt\n",
    "import os\n",
    "\n",
    "#visualizacao \n",
    "import seaborn as sns\n",
    "from IPython.display import Image\n",
    "from IPython.core.display  import HTML\n",
    "import matplotlib.pyplot as plt"
   ]
  },
  {
   "cell_type": "markdown",
   "id": "71b68d34",
   "metadata": {},
   "source": [
    "## 0.1 Helper Functions "
   ]
  },
  {
   "cell_type": "code",
   "execution_count": 87,
   "id": "2cb0fa49",
   "metadata": {
    "ExecuteTime": {
     "end_time": "2022-03-04T18:37:59.763613Z",
     "start_time": "2022-03-04T18:37:59.742825Z"
    }
   },
   "outputs": [
    {
     "name": "stdout",
     "output_type": "stream",
     "text": [
      "%pylab is deprecated, use %matplotlib inline and import the required libraries.\n",
      "Populating the interactive namespace from numpy and matplotlib\n"
     ]
    },
    {
     "data": {
      "text/html": [
       "<style>.container { width:70% !important; }</style>"
      ],
      "text/plain": [
       "<IPython.core.display.HTML object>"
      ]
     },
     "metadata": {},
     "output_type": "display_data"
    }
   ],
   "source": [
    "os.environ['TF_CPP_MIN_LOG_LEVEL'] = '2'\n",
    "\n",
    "def jupyter_settings():\n",
    "    %matplotlib inline \n",
    "    %pylab inline\n",
    "    \n",
    "    plt.style.use( 'bmh' )\n",
    "    plt.rcParams['figure.figsize'] = [25, 12]\n",
    "    plt.rcParams['font.size'] = 24\n",
    "    \n",
    "    display( HTML( '<style>.container { width:70% !important; }</style>') )\n",
    "    pd.options.display.max_columns = None\n",
    "\n",
    "def cramer_v(x , y):\n",
    "    conf_matrix = pd.crosstab(x,y).values\n",
    "    n = conf_matrix.sum()\n",
    "    r, k = conf_matrix.shape\n",
    "    \n",
    "    chi2 = stats.chi2_contingency(conf_matrix)[0]\n",
    "    \n",
    "    chi2_corr = max(0, chi2 - (k-1) * (r-1)/(n-1))\n",
    "    k_corr = k-(k-1)**2 / (n-1)\n",
    "    r_corr = r - (r-1)**2 / (n-1)\n",
    "    \n",
    "    return np.sqrt((chi2_corr/n) / (min(k-1, r-1) ) )\n",
    "\n",
    "jupyter_settings()"
   ]
  },
  {
   "cell_type": "markdown",
   "id": "b3a16222",
   "metadata": {},
   "source": [
    "## 0.2 Carregamento de dados "
   ]
  },
  {
   "cell_type": "code",
   "execution_count": 36,
   "id": "eb80795f",
   "metadata": {
    "ExecuteTime": {
     "end_time": "2022-03-04T18:14:12.102610Z",
     "start_time": "2022-03-04T18:14:06.477409Z"
    }
   },
   "outputs": [],
   "source": [
    "df_user_raw = pd.read_csv('/home/giovane/Documentos/repo/airbnb_previsao_agendamento/data/raw/train_users_2.csv')\n",
    "df_sessions_raw = pd.read_csv('/home/giovane/Documentos/repo/airbnb_previsao_agendamento/data/raw/sessions.csv')"
   ]
  },
  {
   "cell_type": "markdown",
   "id": "09224abb",
   "metadata": {},
   "source": [
    "# 1.0 Análise Descritiva "
   ]
  },
  {
   "cell_type": "code",
   "execution_count": 37,
   "id": "d65076f2",
   "metadata": {
    "ExecuteTime": {
     "end_time": "2022-03-04T18:14:13.039187Z",
     "start_time": "2022-03-04T18:14:12.779388Z"
    }
   },
   "outputs": [
    {
     "name": "stdout",
     "output_type": "stream",
     "text": [
      "<class 'pandas.core.frame.DataFrame'>\n",
      "RangeIndex: 213451 entries, 0 to 213450\n",
      "Data columns (total 16 columns):\n",
      " #   Column                   Non-Null Count   Dtype  \n",
      "---  ------                   --------------   -----  \n",
      " 0   id                       213451 non-null  object \n",
      " 1   date_account_created     213451 non-null  object \n",
      " 2   timestamp_first_active   213451 non-null  int64  \n",
      " 3   date_first_booking       88908 non-null   object \n",
      " 4   gender                   213451 non-null  object \n",
      " 5   age                      125461 non-null  float64\n",
      " 6   signup_method            213451 non-null  object \n",
      " 7   signup_flow              213451 non-null  int64  \n",
      " 8   language                 213451 non-null  object \n",
      " 9   affiliate_channel        213451 non-null  object \n",
      " 10  affiliate_provider       213451 non-null  object \n",
      " 11  first_affiliate_tracked  207386 non-null  object \n",
      " 12  signup_app               213451 non-null  object \n",
      " 13  first_device_type        213451 non-null  object \n",
      " 14  first_browser            213451 non-null  object \n",
      " 15  country_destination      213451 non-null  object \n",
      "dtypes: float64(1), int64(2), object(13)\n",
      "memory usage: 26.1+ MB\n"
     ]
    }
   ],
   "source": [
    "# verificando o a dimensao dos dados (Linhas e colunas)\n",
    "# Tipo dos atributos \n",
    "df_user_raw.info()"
   ]
  },
  {
   "cell_type": "code",
   "execution_count": 38,
   "id": "686fd5a6",
   "metadata": {
    "ExecuteTime": {
     "end_time": "2022-03-04T18:14:14.523518Z",
     "start_time": "2022-03-04T18:14:14.518600Z"
    }
   },
   "outputs": [
    {
     "name": "stdout",
     "output_type": "stream",
     "text": [
      "<class 'pandas.core.frame.DataFrame'>\n",
      "RangeIndex: 10567737 entries, 0 to 10567736\n",
      "Data columns (total 6 columns):\n",
      " #   Column         Dtype  \n",
      "---  ------         -----  \n",
      " 0   user_id        object \n",
      " 1   action         object \n",
      " 2   action_type    object \n",
      " 3   action_detail  object \n",
      " 4   device_type    object \n",
      " 5   secs_elapsed   float64\n",
      "dtypes: float64(1), object(5)\n",
      "memory usage: 483.8+ MB\n"
     ]
    }
   ],
   "source": [
    "df_sessions_raw.info()"
   ]
  },
  {
   "cell_type": "markdown",
   "id": "7c2b3edc",
   "metadata": {},
   "source": [
    "## 1.2 Dados Faltantes ( NA ) "
   ]
  },
  {
   "cell_type": "code",
   "execution_count": 39,
   "id": "2eba8684",
   "metadata": {
    "ExecuteTime": {
     "end_time": "2022-03-04T18:14:15.948966Z",
     "start_time": "2022-03-04T18:14:15.691516Z"
    }
   },
   "outputs": [
    {
     "data": {
      "text/plain": [
       "id                         0.000000\n",
       "date_account_created       0.000000\n",
       "timestamp_first_active     0.000000\n",
       "date_first_booking         0.583473\n",
       "gender                     0.000000\n",
       "age                        0.412226\n",
       "signup_method              0.000000\n",
       "signup_flow                0.000000\n",
       "language                   0.000000\n",
       "affiliate_channel          0.000000\n",
       "affiliate_provider         0.000000\n",
       "first_affiliate_tracked    0.028414\n",
       "signup_app                 0.000000\n",
       "first_device_type          0.000000\n",
       "first_browser              0.000000\n",
       "country_destination        0.000000\n",
       "dtype: float64"
      ]
     },
     "execution_count": 39,
     "metadata": {},
     "output_type": "execute_result"
    }
   ],
   "source": [
    "# Verificando a porcentagem de NA no dataset de usuario \n",
    "df_user_raw.isna().sum() / len(df_user_raw)"
   ]
  },
  {
   "cell_type": "markdown",
   "id": "29e0a14e",
   "metadata": {},
   "source": [
    "O df_user_raw possui 3 colunas onde apresentam dados faltantes( NA ) \n",
    "- date_first_booking \n",
    "- age \n",
    "- first_affiliate_tracked "
   ]
  },
  {
   "cell_type": "code",
   "execution_count": 40,
   "id": "296f1518",
   "metadata": {
    "ExecuteTime": {
     "end_time": "2022-03-04T18:14:22.033513Z",
     "start_time": "2022-03-04T18:14:17.264194Z"
    }
   },
   "outputs": [
    {
     "data": {
      "text/plain": [
       "user_id          0.003264\n",
       "action           0.007535\n",
       "action_type      0.106570\n",
       "action_detail    0.106570\n",
       "device_type      0.000000\n",
       "secs_elapsed     0.012872\n",
       "dtype: float64"
      ]
     },
     "execution_count": 40,
     "metadata": {},
     "output_type": "execute_result"
    }
   ],
   "source": [
    "# Verificando a porcentagem de NA no dataset de sessao\n",
    "df_sessions_raw.isna().sum() / len(df_sessions_raw)"
   ]
  },
  {
   "cell_type": "markdown",
   "id": "376e0cee",
   "metadata": {},
   "source": [
    "O df_user_raw possui 5 colunas onde apresentam dados faltantes( NA ) \n",
    "- user_id\n",
    "- action\n",
    "- action_type \n",
    "- action_detail \n",
    "- secs_elapsed "
   ]
  },
  {
   "cell_type": "markdown",
   "id": "57af7183",
   "metadata": {},
   "source": [
    "## 1.3 Preenchendo NA"
   ]
  },
  {
   "cell_type": "markdown",
   "id": "c90d5fdb",
   "metadata": {},
   "source": [
    "### 1.3.1 Atributo date_first_booking"
   ]
  },
  {
   "cell_type": "code",
   "execution_count": null,
   "id": "8cf9524d",
   "metadata": {
    "ExecuteTime": {
     "end_time": "2022-03-04T18:14:22.062067Z",
     "start_time": "2022-03-04T18:14:22.062058Z"
    }
   },
   "outputs": [],
   "source": [
    "# date_first_booking \n",
    "# Verificando a procentagem de NA do date_first_booking por Classe do destino\n",
    "df_user_raw[df_user_raw['date_first_booking'].isna()]['country_destination'].value_counts(normalize=True)"
   ]
  },
  {
   "cell_type": "code",
   "execution_count": 41,
   "id": "614751fb",
   "metadata": {
    "ExecuteTime": {
     "end_time": "2022-03-04T18:14:31.711835Z",
     "start_time": "2022-03-04T18:14:31.677287Z"
    }
   },
   "outputs": [],
   "source": [
    "# substituindo NA\n",
    "date_booking_max = pd.to_datetime(df_user_raw['date_first_booking']).max().strftime('%Y-%m-%d')\n",
    "df_user_raw['date_first_booking'].fillna(value=date_booking_max, inplace=True)"
   ]
  },
  {
   "cell_type": "markdown",
   "id": "adbc4e4c",
   "metadata": {},
   "source": [
    "Complentando NA do date_first_booking  com a data maxima do dataset, ja que a falta do dado se da pelo fato do usuario nao ter feito booking"
   ]
  },
  {
   "cell_type": "markdown",
   "id": "86cbf0fd",
   "metadata": {},
   "source": [
    "### 1.3.2 Atributo age"
   ]
  },
  {
   "cell_type": "code",
   "execution_count": 42,
   "id": "b8db3cd1",
   "metadata": {
    "ExecuteTime": {
     "end_time": "2022-03-04T18:14:33.313976Z",
     "start_time": "2022-03-04T18:14:33.269300Z"
    }
   },
   "outputs": [
    {
     "data": {
      "text/plain": [
       "NDF      0.768428\n",
       "US       0.156529\n",
       "other    0.028617\n",
       "FR       0.014888\n",
       "IT       0.009081\n",
       "GB       0.006251\n",
       "ES       0.006171\n",
       "CA       0.003989\n",
       "DE       0.002387\n",
       "NL       0.001818\n",
       "AU       0.001171\n",
       "PT       0.000671\n",
       "Name: country_destination, dtype: float64"
      ]
     },
     "execution_count": 42,
     "metadata": {},
     "output_type": "execute_result"
    }
   ],
   "source": [
    "# age\n",
    "# Verificando a procentagem de NA do age por Classe do destino\n",
    "df_user_raw[df_user_raw['age'].isna()]['country_destination'].value_counts(normalize=True)"
   ]
  },
  {
   "cell_type": "markdown",
   "id": "7691e932",
   "metadata": {},
   "source": [
    "A distrubuicao de Na's aparentemente segue a proporcao de registros nas classe."
   ]
  },
  {
   "cell_type": "code",
   "execution_count": 43,
   "id": "1f09c80f",
   "metadata": {
    "ExecuteTime": {
     "end_time": "2022-03-04T18:14:36.182933Z",
     "start_time": "2022-03-04T18:14:35.670966Z"
    }
   },
   "outputs": [
    {
     "data": {
      "image/png": "[encoded data removed]",
      "text/plain": [
       "<Figure size 360x360 with 1 Axes>"
      ]
     },
     "metadata": {
      "needs_background": "light"
     },
     "output_type": "display_data"
    }
   ],
   "source": [
    "df_age =  df_user_raw[df_user_raw['age'] < 120] \n",
    "sns.displot(data = df_age['age'], kind = 'kde');"
   ]
  },
  {
   "cell_type": "markdown",
   "id": "e2c9a17a",
   "metadata": {},
   "source": [
    "O atributo age segue uma distribuicao parecida com a Normal, logo, podemos substituir os NA's pela media e o desvio padrao, sem perigos de imputar um vies nos registros. "
   ]
  },
  {
   "cell_type": "code",
   "execution_count": 44,
   "id": "c8a3a154",
   "metadata": {
    "ExecuteTime": {
     "end_time": "2022-03-04T18:14:37.926308Z",
     "start_time": "2022-03-04T18:14:37.919317Z"
    }
   },
   "outputs": [],
   "source": [
    "age_mean = df_age['age'].mean()\n",
    "age_std = df_age['age'].std()\n",
    "\n",
    "dist = stats.truncnorm((25 - age_mean) / age_std, (49 - age_mean) / age_std, loc=age_mean, scale=age_std)\n",
    "\n",
    "df_user_raw['age'].fillna(value=int(dist.rvs(1)[0]), inplace=True)"
   ]
  },
  {
   "cell_type": "markdown",
   "id": "fa9a487e",
   "metadata": {},
   "source": [
    "### 1.3.3 Atributo first_affiliate_tracked"
   ]
  },
  {
   "cell_type": "code",
   "execution_count": 45,
   "id": "0f1305fb",
   "metadata": {
    "ExecuteTime": {
     "end_time": "2022-03-04T18:14:38.913006Z",
     "start_time": "2022-03-04T18:14:38.899039Z"
    }
   },
   "outputs": [
    {
     "data": {
      "text/plain": [
       "untracked        0.526709\n",
       "linked           0.223193\n",
       "omg              0.212078\n",
       "tracked-other    0.029684\n",
       "product          0.007503\n",
       "marketing        0.000670\n",
       "local ops        0.000164\n",
       "Name: first_affiliate_tracked, dtype: float64"
      ]
     },
     "execution_count": 45,
     "metadata": {},
     "output_type": "execute_result"
    }
   ],
   "source": [
    "df_user_raw['first_affiliate_tracked'].value_counts(normalize=True)"
   ]
  },
  {
   "cell_type": "markdown",
   "id": "b2c622c0",
   "metadata": {},
   "source": [
    "Por se tratar de uma variavel categoria, a substituicao das Na's pode acabar imputando vies no Dataset. \n",
    "Visto que os Na's representao apenas 3% do total dos dados, sera realizado o drop dos memos."
   ]
  },
  {
   "cell_type": "code",
   "execution_count": 46,
   "id": "a70b6ac4",
   "metadata": {
    "ExecuteTime": {
     "end_time": "2022-03-04T18:14:42.486366Z",
     "start_time": "2022-03-04T18:14:42.454606Z"
    }
   },
   "outputs": [],
   "source": [
    "df_user_raw = df_user_raw[~df_user_raw['first_affiliate_tracked'].isna()]"
   ]
  },
  {
   "cell_type": "markdown",
   "id": "13e6bec7",
   "metadata": {},
   "source": [
    "### 1.3.4  Atributos df_sessions"
   ]
  },
  {
   "cell_type": "code",
   "execution_count": 47,
   "id": "1eb053fd",
   "metadata": {
    "ExecuteTime": {
     "end_time": "2022-03-04T18:14:49.198858Z",
     "start_time": "2022-03-04T18:14:43.623855Z"
    }
   },
   "outputs": [],
   "source": [
    "# Drop na user_id, action, action_type, action_detail, secs_elapsed\n",
    "df_sessions_raw.dropna(inplace= True)"
   ]
  },
  {
   "cell_type": "markdown",
   "id": "fd129fb8",
   "metadata": {},
   "source": [
    "## 1.4 Alterando Data Type"
   ]
  },
  {
   "cell_type": "code",
   "execution_count": 50,
   "id": "e16d3e46",
   "metadata": {
    "ExecuteTime": {
     "end_time": "2022-03-04T18:15:03.553465Z",
     "start_time": "2022-03-04T18:15:03.527556Z"
    }
   },
   "outputs": [],
   "source": [
    "df_user_raw['date_account_created'] = pd.to_datetime(df_user_raw['date_account_created'])  \n",
    "df_user_raw['timestamp_first_active'] = pd.to_datetime(df_user_raw['timestamp_first_active'], format='%Y%m%d%H%M%S') \n",
    "df_user_raw['date_first_booking'] = pd.to_datetime(df_user_raw['date_first_booking'])  \n",
    "df_user_raw['age'] = df_user_raw['age'].astype(int)"
   ]
  },
  {
   "cell_type": "markdown",
   "id": "29e2b5b2",
   "metadata": {},
   "source": [
    "## 1.5 Estatistica Descritiva   "
   ]
  },
  {
   "cell_type": "code",
   "execution_count": 51,
   "id": "26fdf3a3",
   "metadata": {
    "ExecuteTime": {
     "end_time": "2022-03-04T18:15:04.682341Z",
     "start_time": "2022-03-04T18:15:04.678390Z"
    }
   },
   "outputs": [],
   "source": [
    "# Separando dados em Numericos e Categoricos para o usuario\n",
    "num_attributes = df_user_raw.select_dtypes(include=['int64', 'float64'])\n",
    "cat_attributes = df_user_raw.select_dtypes(exclude=['int64', 'float64', 'datetime64[ns]'])\n",
    "date_attributes = df_user_raw.select_dtypes(include=['datetime64'])\n",
    "\n",
    "# Separando dados em Numericos e Categoricos para o Sessao\n",
    "num_attributes_sessions = df_sessions_raw.select_dtypes(include=['int64', 'float64'])\n",
    "cat_attributes_sessions  = df_sessions_raw.select_dtypes(exclude=['int64', 'float64', 'datetime64[ns]'])\n",
    "date_attributes_sessions  = df_sessions_raw.select_dtypes(include=['datetime64'])"
   ]
  },
  {
   "cell_type": "markdown",
   "id": "1e1f2416",
   "metadata": {},
   "source": [
    "### 1.5.1 Atributos Numericos - Usuario  "
   ]
  },
  {
   "cell_type": "code",
   "execution_count": 52,
   "id": "b45c8187",
   "metadata": {
    "ExecuteTime": {
     "end_time": "2022-03-04T18:15:05.639693Z",
     "start_time": "2022-03-04T18:15:05.623296Z"
    }
   },
   "outputs": [],
   "source": [
    "# estatistica de tendencia central\n",
    "num_mean = pd.DataFrame(num_attributes.mean()) \n",
    "num_median = pd.DataFrame(num_attributes.median())\n",
    "\n",
    "# estatistica de dispersao \n",
    "num_std      = pd.DataFrame(num_attributes.std()) \n",
    "num_min      = pd.DataFrame(num_attributes.min())\n",
    "num_max      = pd.DataFrame(num_attributes.max())\n",
    "num_range    = pd.DataFrame(num_attributes.apply(lambda x : x.max()-x.min()))\n",
    "num_skew     = pd.DataFrame(num_attributes.skew())\n",
    "num_kurtosis = pd.DataFrame(num_attributes.kurtosis())\n",
    "\n",
    "# concatenar\n",
    "df_num_desc = pd.concat([num_min, num_max, num_range, num_mean, num_median, num_std,num_skew, num_kurtosis], \n",
    "                        axis=1)\n",
    "\n",
    "df_num_desc.columns = ['Min', 'Max', 'Range', 'Mean', 'Median', 'STD', 'Skew', 'Kurtosis']"
   ]
  },
  {
   "cell_type": "code",
   "execution_count": 53,
   "id": "b1d448a7",
   "metadata": {
    "ExecuteTime": {
     "end_time": "2022-03-04T18:15:07.778593Z",
     "start_time": "2022-03-04T18:15:07.772869Z"
    }
   },
   "outputs": [
    {
     "data": {
      "text/html": [
       "<div>\n",
       "<style scoped>\n",
       "    .dataframe tbody tr th:only-of-type {\n",
       "        vertical-align: middle;\n",
       "    }\n",
       "\n",
       "    .dataframe tbody tr th {\n",
       "        vertical-align: top;\n",
       "    }\n",
       "\n",
       "    .dataframe thead th {\n",
       "        text-align: right;\n",
       "    }\n",
       "</style>\n",
       "<table border=\"1\" class=\"dataframe\">\n",
       "  <thead>\n",
       "    <tr style=\"text-align: right;\">\n",
       "      <th></th>\n",
       "      <th>Min</th>\n",
       "      <th>Max</th>\n",
       "      <th>Range</th>\n",
       "      <th>Mean</th>\n",
       "      <th>Median</th>\n",
       "      <th>STD</th>\n",
       "      <th>Skew</th>\n",
       "      <th>Kurtosis</th>\n",
       "    </tr>\n",
       "  </thead>\n",
       "  <tbody>\n",
       "    <tr>\n",
       "      <th>age</th>\n",
       "      <td>1</td>\n",
       "      <td>2014</td>\n",
       "      <td>2013</td>\n",
       "      <td>48.373473</td>\n",
       "      <td>47.0</td>\n",
       "      <td>118.427296</td>\n",
       "      <td>16.352126</td>\n",
       "      <td>268.053708</td>\n",
       "    </tr>\n",
       "    <tr>\n",
       "      <th>signup_flow</th>\n",
       "      <td>0</td>\n",
       "      <td>25</td>\n",
       "      <td>25</td>\n",
       "      <td>3.151490</td>\n",
       "      <td>0.0</td>\n",
       "      <td>7.543933</td>\n",
       "      <td>2.287158</td>\n",
       "      <td>3.567794</td>\n",
       "    </tr>\n",
       "  </tbody>\n",
       "</table>\n",
       "</div>"
      ],
      "text/plain": [
       "             Min   Max  Range       Mean  Median         STD       Skew  \\\n",
       "age            1  2014   2013  48.373473    47.0  118.427296  16.352126   \n",
       "signup_flow    0    25     25   3.151490     0.0    7.543933   2.287158   \n",
       "\n",
       "               Kurtosis  \n",
       "age          268.053708  \n",
       "signup_flow    3.567794  "
      ]
     },
     "execution_count": 53,
     "metadata": {},
     "output_type": "execute_result"
    }
   ],
   "source": [
    "df_num_desc"
   ]
  },
  {
   "cell_type": "code",
   "execution_count": 54,
   "id": "97f1a696",
   "metadata": {
    "ExecuteTime": {
     "end_time": "2022-03-04T18:16:31.521725Z",
     "start_time": "2022-03-04T18:16:31.413112Z"
    }
   },
   "outputs": [
    {
     "name": "stderr",
     "output_type": "stream",
     "text": [
      "/home/giovane/Documentos/repo/airbnb_previsao_agendamento/agendamento_airbnb/lib/python3.8/site-packages/seaborn/distributions.py:2619: FutureWarning: `distplot` is a deprecated function and will be removed in a future version. Please adapt your code to use either `displot` (a figure-level function with similar flexibility) or `histplot` (an axes-level function for histograms).\n",
      "  warnings.warn(msg, FutureWarning)\n"
     ]
    },
    {
     "data": {
      "image/png": "[encoded data removed]",
      "text/plain": [
       "<Figure size 432x288 with 1 Axes>"
      ]
     },
     "metadata": {
      "needs_background": "light"
     },
     "output_type": "display_data"
    }
   ],
   "source": [
    "# filtro acima de 120 anos\n",
    "aux_1 = df_user_raw[df_user_raw['age'] > 120]\n",
    "sns.distplot(aux_1['age'], kde=False);"
   ]
  },
  {
   "cell_type": "code",
   "execution_count": 55,
   "id": "3bd16757",
   "metadata": {
    "ExecuteTime": {
     "end_time": "2022-03-04T18:16:31.739301Z",
     "start_time": "2022-03-04T18:16:31.733322Z"
    }
   },
   "outputs": [
    {
     "data": {
      "text/plain": [
       "NDF      0.499331\n",
       "US       0.346720\n",
       "other    0.060241\n",
       "FR       0.024096\n",
       "IT       0.017403\n",
       "GB       0.013387\n",
       "ES       0.012048\n",
       "DE       0.009371\n",
       "CA       0.008032\n",
       "NL       0.006693\n",
       "AU       0.001339\n",
       "PT       0.001339\n",
       "Name: country_destination, dtype: float64"
      ]
     },
     "execution_count": 55,
     "metadata": {},
     "output_type": "execute_result"
    }
   ],
   "source": [
    "# proporcao de classes acina de 120 anos \n",
    "aux_1['country_destination'].value_counts(normalize=True)"
   ]
  },
  {
   "cell_type": "markdown",
   "id": "9dfaee91",
   "metadata": {},
   "source": [
    "### 1.5.2 Atributos Numericos - Sessao"
   ]
  },
  {
   "cell_type": "code",
   "execution_count": 56,
   "id": "9770c5ad",
   "metadata": {
    "ExecuteTime": {
     "end_time": "2022-03-04T18:16:33.049459Z",
     "start_time": "2022-03-04T18:16:32.666913Z"
    }
   },
   "outputs": [],
   "source": [
    "# estatistica de tendencia central\n",
    "num_mean = pd.DataFrame(num_attributes_sessions .mean()) \n",
    "num_median = pd.DataFrame(num_attributes_sessions .median())\n",
    "\n",
    "# estatistica de dispersao \n",
    "num_std      = pd.DataFrame(num_attributes_sessions.std()) \n",
    "num_min      = pd.DataFrame(num_attributes_sessions.min())\n",
    "num_max      = pd.DataFrame(num_attributes_sessions.max())\n",
    "num_range    = pd.DataFrame(num_attributes_sessions.apply(lambda x : x.max()-x.min()))\n",
    "num_skew     = pd.DataFrame(num_attributes_sessions.skew())\n",
    "num_kurtosis = pd.DataFrame(num_attributes_sessions.kurtosis())\n",
    "\n",
    "# concatenar\n",
    "df_num_desc = pd.concat([num_min, num_max, num_range, num_mean, num_median, num_std,num_skew, num_kurtosis], \n",
    "                        axis=1)\n",
    "\n",
    "df_num_desc.columns = ['Min', 'Max', 'Range', 'Mean', 'Median', 'STD', 'Skew', 'Kurtosis']"
   ]
  },
  {
   "cell_type": "code",
   "execution_count": 57,
   "id": "7fa3e6ca",
   "metadata": {
    "ExecuteTime": {
     "end_time": "2022-03-04T18:16:34.014951Z",
     "start_time": "2022-03-04T18:16:34.008927Z"
    }
   },
   "outputs": [
    {
     "data": {
      "text/html": [
       "<div>\n",
       "<style scoped>\n",
       "    .dataframe tbody tr th:only-of-type {\n",
       "        vertical-align: middle;\n",
       "    }\n",
       "\n",
       "    .dataframe tbody tr th {\n",
       "        vertical-align: top;\n",
       "    }\n",
       "\n",
       "    .dataframe thead th {\n",
       "        text-align: right;\n",
       "    }\n",
       "</style>\n",
       "<table border=\"1\" class=\"dataframe\">\n",
       "  <thead>\n",
       "    <tr style=\"text-align: right;\">\n",
       "      <th></th>\n",
       "      <th>Min</th>\n",
       "      <th>Max</th>\n",
       "      <th>Range</th>\n",
       "      <th>Mean</th>\n",
       "      <th>Median</th>\n",
       "      <th>STD</th>\n",
       "      <th>Skew</th>\n",
       "      <th>Kurtosis</th>\n",
       "    </tr>\n",
       "  </thead>\n",
       "  <tbody>\n",
       "    <tr>\n",
       "      <th>secs_elapsed</th>\n",
       "      <td>0.0</td>\n",
       "      <td>1799977.0</td>\n",
       "      <td>1799977.0</td>\n",
       "      <td>19961.8251</td>\n",
       "      <td>1369.0</td>\n",
       "      <td>88849.39327</td>\n",
       "      <td>11.137761</td>\n",
       "      <td>154.84312</td>\n",
       "    </tr>\n",
       "  </tbody>\n",
       "</table>\n",
       "</div>"
      ],
      "text/plain": [
       "              Min        Max      Range        Mean  Median          STD  \\\n",
       "secs_elapsed  0.0  1799977.0  1799977.0  19961.8251  1369.0  88849.39327   \n",
       "\n",
       "                   Skew   Kurtosis  \n",
       "secs_elapsed  11.137761  154.84312  "
      ]
     },
     "execution_count": 57,
     "metadata": {},
     "output_type": "execute_result"
    }
   ],
   "source": [
    "df_num_desc"
   ]
  },
  {
   "cell_type": "markdown",
   "id": "71c8f5fb",
   "metadata": {},
   "source": [
    "### 1.5.3 Atributos Categoricos - Usuario"
   ]
  },
  {
   "cell_type": "code",
   "execution_count": 58,
   "id": "0babd305",
   "metadata": {
    "ExecuteTime": {
     "end_time": "2022-03-04T18:16:35.053572Z",
     "start_time": "2022-03-04T18:16:34.890097Z"
    },
    "scrolled": true
   },
   "outputs": [
    {
     "data": {
      "text/html": [
       "<div>\n",
       "<style scoped>\n",
       "    .dataframe tbody tr th:only-of-type {\n",
       "        vertical-align: middle;\n",
       "    }\n",
       "\n",
       "    .dataframe tbody tr th {\n",
       "        vertical-align: top;\n",
       "    }\n",
       "\n",
       "    .dataframe thead th {\n",
       "        text-align: right;\n",
       "    }\n",
       "</style>\n",
       "<table border=\"1\" class=\"dataframe\">\n",
       "  <thead>\n",
       "    <tr style=\"text-align: right;\">\n",
       "      <th></th>\n",
       "      <th>gender</th>\n",
       "      <th>signup_method</th>\n",
       "      <th>language</th>\n",
       "      <th>affiliate_channel</th>\n",
       "      <th>affiliate_provider</th>\n",
       "      <th>first_affiliate_tracked</th>\n",
       "      <th>signup_app</th>\n",
       "      <th>first_device_type</th>\n",
       "      <th>first_browser</th>\n",
       "      <th>country_destination</th>\n",
       "    </tr>\n",
       "  </thead>\n",
       "  <tbody>\n",
       "    <tr>\n",
       "      <th>count</th>\n",
       "      <td>207386</td>\n",
       "      <td>207386</td>\n",
       "      <td>207386</td>\n",
       "      <td>207386</td>\n",
       "      <td>207386</td>\n",
       "      <td>207386</td>\n",
       "      <td>207386</td>\n",
       "      <td>207386</td>\n",
       "      <td>207386</td>\n",
       "      <td>207386</td>\n",
       "    </tr>\n",
       "    <tr>\n",
       "      <th>unique</th>\n",
       "      <td>4</td>\n",
       "      <td>3</td>\n",
       "      <td>25</td>\n",
       "      <td>8</td>\n",
       "      <td>18</td>\n",
       "      <td>7</td>\n",
       "      <td>4</td>\n",
       "      <td>9</td>\n",
       "      <td>52</td>\n",
       "      <td>12</td>\n",
       "    </tr>\n",
       "    <tr>\n",
       "      <th>top</th>\n",
       "      <td>-unknown-</td>\n",
       "      <td>basic</td>\n",
       "      <td>en</td>\n",
       "      <td>direct</td>\n",
       "      <td>direct</td>\n",
       "      <td>untracked</td>\n",
       "      <td>Web</td>\n",
       "      <td>Mac Desktop</td>\n",
       "      <td>Chrome</td>\n",
       "      <td>NDF</td>\n",
       "    </tr>\n",
       "    <tr>\n",
       "      <th>freq</th>\n",
       "      <td>91783</td>\n",
       "      <td>148297</td>\n",
       "      <td>200415</td>\n",
       "      <td>134179</td>\n",
       "      <td>133935</td>\n",
       "      <td>109232</td>\n",
       "      <td>178334</td>\n",
       "      <td>89600</td>\n",
       "      <td>63845</td>\n",
       "      <td>120216</td>\n",
       "    </tr>\n",
       "  </tbody>\n",
       "</table>\n",
       "</div>"
      ],
      "text/plain": [
       "           gender signup_method language affiliate_channel affiliate_provider  \\\n",
       "count      207386        207386   207386            207386             207386   \n",
       "unique          4             3       25                 8                 18   \n",
       "top     -unknown-         basic       en            direct             direct   \n",
       "freq        91783        148297   200415            134179             133935   \n",
       "\n",
       "       first_affiliate_tracked signup_app first_device_type first_browser  \\\n",
       "count                   207386     207386            207386        207386   \n",
       "unique                       7          4                 9            52   \n",
       "top                  untracked        Web       Mac Desktop        Chrome   \n",
       "freq                    109232     178334             89600         63845   \n",
       "\n",
       "       country_destination  \n",
       "count               207386  \n",
       "unique                  12  \n",
       "top                    NDF  \n",
       "freq                120216  "
      ]
     },
     "execution_count": 58,
     "metadata": {},
     "output_type": "execute_result"
    }
   ],
   "source": [
    "cat_attributes.drop('id', axis=1).describe()"
   ]
  },
  {
   "cell_type": "markdown",
   "id": "241ac7a3",
   "metadata": {},
   "source": [
    "### 1.5.3 Atributos Categoricos - Usuario"
   ]
  },
  {
   "cell_type": "code",
   "execution_count": 59,
   "id": "bfd6f346",
   "metadata": {
    "ExecuteTime": {
     "end_time": "2022-03-04T18:16:38.277266Z",
     "start_time": "2022-03-04T18:16:35.617766Z"
    }
   },
   "outputs": [
    {
     "data": {
      "text/html": [
       "<div>\n",
       "<style scoped>\n",
       "    .dataframe tbody tr th:only-of-type {\n",
       "        vertical-align: middle;\n",
       "    }\n",
       "\n",
       "    .dataframe tbody tr th {\n",
       "        vertical-align: top;\n",
       "    }\n",
       "\n",
       "    .dataframe thead th {\n",
       "        text-align: right;\n",
       "    }\n",
       "</style>\n",
       "<table border=\"1\" class=\"dataframe\">\n",
       "  <thead>\n",
       "    <tr style=\"text-align: right;\">\n",
       "      <th></th>\n",
       "      <th>action</th>\n",
       "      <th>action_type</th>\n",
       "      <th>action_detail</th>\n",
       "      <th>device_type</th>\n",
       "    </tr>\n",
       "  </thead>\n",
       "  <tbody>\n",
       "    <tr>\n",
       "      <th>count</th>\n",
       "      <td>9213930</td>\n",
       "      <td>9213930</td>\n",
       "      <td>9213930</td>\n",
       "      <td>9213930</td>\n",
       "    </tr>\n",
       "    <tr>\n",
       "      <th>unique</th>\n",
       "      <td>347</td>\n",
       "      <td>10</td>\n",
       "      <td>155</td>\n",
       "      <td>14</td>\n",
       "    </tr>\n",
       "    <tr>\n",
       "      <th>top</th>\n",
       "      <td>show</td>\n",
       "      <td>view</td>\n",
       "      <td>view_search_results</td>\n",
       "      <td>Mac Desktop</td>\n",
       "    </tr>\n",
       "    <tr>\n",
       "      <th>freq</th>\n",
       "      <td>2178382</td>\n",
       "      <td>3545621</td>\n",
       "      <td>1770931</td>\n",
       "      <td>3019523</td>\n",
       "    </tr>\n",
       "  </tbody>\n",
       "</table>\n",
       "</div>"
      ],
      "text/plain": [
       "         action action_type        action_detail  device_type\n",
       "count   9213930     9213930              9213930      9213930\n",
       "unique      347          10                  155           14\n",
       "top        show        view  view_search_results  Mac Desktop\n",
       "freq    2178382     3545621              1770931      3019523"
      ]
     },
     "execution_count": 59,
     "metadata": {},
     "output_type": "execute_result"
    }
   ],
   "source": [
    "cat_attributes_sessions.drop('user_id', axis=1).describe()"
   ]
  },
  {
   "cell_type": "code",
   "execution_count": 60,
   "id": "fd9e32aa",
   "metadata": {
    "ExecuteTime": {
     "end_time": "2022-03-04T18:17:00.937778Z",
     "start_time": "2022-03-04T18:16:39.133310Z"
    }
   },
   "outputs": [],
   "source": [
    "# Correlacao entre categorias \n",
    "x_columns = cat_attributes_sessions.drop('user_id', axis=1).columns.to_list()\n",
    "y_columns = cat_attributes_sessions.drop('user_id', axis=1).columns.to_list()\n",
    "\n",
    "cramer = {}\n",
    "\n",
    "for x_col in x_columns: \n",
    "    corr = []\n",
    "    for y_col in y_columns:\n",
    "        corr.append(cramer_v(cat_attributes_sessions.loc[:, x_col], cat_attributes_sessions.loc[:, y_col]))\n",
    "        \n",
    "        cramer[x_col] = corr"
   ]
  },
  {
   "cell_type": "code",
   "execution_count": 61,
   "id": "dfe9258f",
   "metadata": {
    "ExecuteTime": {
     "end_time": "2022-03-04T18:17:01.748044Z",
     "start_time": "2022-03-04T18:17:01.636867Z"
    }
   },
   "outputs": [
    {
     "data": {
      "image/png": "[encoded data removed]",
      "text/plain": [
       "<Figure size 432x288 with 2 Axes>"
      ]
     },
     "metadata": {
      "needs_background": "light"
     },
     "output_type": "display_data"
    }
   ],
   "source": [
    "df_cramer_cat = pd.DataFrame(cramer)\n",
    "df_cramer_cat = df_cramer_cat.set_index([x_columns])\n",
    "sns.heatmap(df_cramer_cat, annot=True);"
   ]
  },
  {
   "cell_type": "markdown",
   "id": "0e1f0f12",
   "metadata": {},
   "source": [
    "# 2.0  Feature Engineering"
   ]
  },
  {
   "cell_type": "code",
   "execution_count": 62,
   "id": "de75540d",
   "metadata": {
    "ExecuteTime": {
     "end_time": "2022-03-04T18:17:04.270937Z",
     "start_time": "2022-03-04T18:17:04.262035Z"
    }
   },
   "outputs": [],
   "source": [
    "df2 = df_user_raw.copy()"
   ]
  },
  {
   "cell_type": "markdown",
   "id": "031d656f",
   "metadata": {},
   "source": [
    "## 2.1 Mapa Mental de Hipoteses"
   ]
  },
  {
   "cell_type": "markdown",
   "id": "0aaf743a",
   "metadata": {},
   "source": [
    "Criacao do Mapa mental de Hipotoses, levantando as analises para validacao de Hipoteses e quais atributos sera necessario devirar."
   ]
  },
  {
   "cell_type": "code",
   "execution_count": 63,
   "id": "dea1a611",
   "metadata": {
    "ExecuteTime": {
     "end_time": "2022-03-04T18:17:05.919907Z",
     "start_time": "2022-03-04T18:17:05.912264Z"
    }
   },
   "outputs": [
    {
     "data": {
      "image/png": "[encoded data removed]",
      "text/plain": [
       "<IPython.core.display.Image object>"
      ]
     },
     "execution_count": 63,
     "metadata": {},
     "output_type": "execute_result"
    }
   ],
   "source": [
    "Image('../img/Booking_Destino.png')"
   ]
  },
  {
   "cell_type": "markdown",
   "id": "c6922c13",
   "metadata": {
    "heading_collapsed": true
   },
   "source": [
    "## 2.2 Levantamento de Hipoteses "
   ]
  },
  {
   "cell_type": "code",
   "execution_count": null,
   "id": "146fb7ec",
   "metadata": {
    "hidden": true
   },
   "outputs": [],
   "source": []
  },
  {
   "cell_type": "markdown",
   "id": "fefc0ea2",
   "metadata": {
    "heading_collapsed": true
   },
   "source": [
    "## 2.3 Lista Final de Hipoteses"
   ]
  },
  {
   "cell_type": "code",
   "execution_count": null,
   "id": "113a48fa",
   "metadata": {
    "hidden": true
   },
   "outputs": [],
   "source": []
  },
  {
   "cell_type": "markdown",
   "id": "0424a5cd",
   "metadata": {},
   "source": [
    "## 2.4 Feature Engineering"
   ]
  },
  {
   "cell_type": "code",
   "execution_count": 64,
   "id": "1449071e",
   "metadata": {
    "ExecuteTime": {
     "end_time": "2022-03-04T18:17:08.922252Z",
     "start_time": "2022-03-04T18:17:08.918835Z"
    }
   },
   "outputs": [
    {
     "data": {
      "text/plain": [
       "id                                 object\n",
       "date_account_created       datetime64[ns]\n",
       "timestamp_first_active     datetime64[ns]\n",
       "date_first_booking         datetime64[ns]\n",
       "gender                             object\n",
       "age                                 int64\n",
       "signup_method                      object\n",
       "signup_flow                         int64\n",
       "language                           object\n",
       "affiliate_channel                  object\n",
       "affiliate_provider                 object\n",
       "first_affiliate_tracked            object\n",
       "signup_app                         object\n",
       "first_device_type                  object\n",
       "first_browser                      object\n",
       "country_destination                object\n",
       "dtype: object"
      ]
     },
     "execution_count": 64,
     "metadata": {},
     "output_type": "execute_result"
    }
   ],
   "source": [
    "df2.dtypes"
   ]
  },
  {
   "cell_type": "code",
   "execution_count": 77,
   "id": "ee4fd9f6",
   "metadata": {
    "ExecuteTime": {
     "end_time": "2022-03-04T18:31:39.315494Z",
     "start_time": "2022-03-04T18:31:33.747604Z"
    },
    "hide_input": false,
    "scrolled": true
   },
   "outputs": [
    {
     "name": "stderr",
     "output_type": "stream",
     "text": [
      "/tmp/ipykernel_3301/3167338700.py:24: FutureWarning: Series.dt.weekofyear and Series.dt.week have been deprecated. Please use Series.dt.isocalendar().week instead.\n",
      "  df2['weekyear_account_created'] = df2['date_account_created'].dt.weekofyear\n",
      "/tmp/ipykernel_3301/3167338700.py:41: FutureWarning: Series.dt.weekofyear and Series.dt.week have been deprecated. Please use Series.dt.isocalendar().week instead.\n",
      "  df2['weekyear_first_active'] = df2['timestamp_first_active'].dt.weekofyear\n"
     ]
    }
   ],
   "source": [
    "# dias do cadastro ate o bookin \n",
    "df2['days_account_created_booking'] = (df2['date_first_booking'] - df2['date_account_created']).apply(lambda x : x.days)\n",
    "\n",
    "# dias da primeira acao ate o booking \n",
    "df2['days_first_active_booking'] = (df2['date_first_booking'] - pd.to_datetime(df2['timestamp_first_active'].dt.strftime('%Y-%m-%d'))).apply(lambda x : x.days)\n",
    "\n",
    "# dias da primeira acao ate o cadastro \n",
    "df2['days_first_active_account_created'] = (df2['date_account_created'] - pd.to_datetime(df2['timestamp_first_active'].dt.strftime('%Y-%m-%d'))).apply(lambda x : x.days)\n",
    "\n",
    "# ======= date_account_created =======\n",
    "# day \n",
    "df2['day_account_created'] = df2['date_account_created'].dt.day\n",
    "\n",
    "# month \n",
    "df2['month_account_created'] = df2['date_account_created'].dt.month\n",
    "\n",
    "# year \n",
    "df2['year_account_created'] = df2['date_account_created'].dt.year \n",
    "\n",
    "# day of week \n",
    "df2['dayweek_account_created'] = df2['date_account_created'].dt.dayofweek\n",
    "\n",
    "# week of year \n",
    "df2['weekyear_account_created'] = df2['date_account_created'].dt.weekofyear\n",
    "\n",
    "\n",
    "# ======= timestamp_first_active =======\n",
    "# day\n",
    "df2['day_first_active'] = df2['timestamp_first_active'].dt.day\n",
    "\n",
    "# month \n",
    "df2['month_first_active'] = df2['timestamp_first_active'].dt.month\n",
    "\n",
    "# year \n",
    "df2['year_first_active'] = df2['timestamp_first_active'].dt.year \n",
    "\n",
    "# day of week \n",
    "df2['dayweek_first_active'] = df2['timestamp_first_active'].dt.dayofweek\n",
    "\n",
    "# week of year \n",
    "df2['weekyear_first_active'] = df2['timestamp_first_active'].dt.weekofyear\n",
    "\n",
    "\n"
   ]
  },
  {
   "cell_type": "code",
   "execution_count": 65,
   "id": "89f2defb",
   "metadata": {
    "ExecuteTime": {
     "end_time": "2022-03-04T14:34:31.368595Z",
     "start_time": "2022-03-04T14:34:31.363040Z"
    },
    "scrolled": true
   },
   "outputs": [
    {
     "data": {
      "text/plain": [
       "0        1827 days\n",
       "1        1496 days\n",
       "2         -57 days\n",
       "3         278 days\n",
       "4        -208 days\n",
       "            ...   \n",
       "213446    364 days\n",
       "213447    364 days\n",
       "213448    364 days\n",
       "213449    364 days\n",
       "213450    364 days\n",
       "Length: 207386, dtype: timedelta64[ns]"
      ]
     },
     "execution_count": 65,
     "metadata": {},
     "output_type": "execute_result"
    }
   ],
   "source": [
    "df2['date_first_booking'] - df2['date_account_created']"
   ]
  },
  {
   "cell_type": "markdown",
   "id": "ad77f8b8",
   "metadata": {},
   "source": [
    "# 3.0 Filtragem de Dados"
   ]
  },
  {
   "cell_type": "code",
   "execution_count": 29,
   "id": "c41ac67d",
   "metadata": {
    "ExecuteTime": {
     "end_time": "2022-03-03T23:02:29.433557Z",
     "start_time": "2022-03-03T23:02:29.424802Z"
    }
   },
   "outputs": [],
   "source": [
    "df3 = df_user_raw.copy()"
   ]
  },
  {
   "cell_type": "markdown",
   "id": "9bd1be95",
   "metadata": {},
   "source": [
    "## 3.1 Filtrangem de Linhas"
   ]
  },
  {
   "cell_type": "code",
   "execution_count": 33,
   "id": "26666843",
   "metadata": {
    "ExecuteTime": {
     "end_time": "2022-03-03T12:16:17.627994Z",
     "start_time": "2022-03-03T12:16:17.037845Z"
    }
   },
   "outputs": [],
   "source": [
    "# fintrando idade entre 15 a 120 \n",
    "df3 = df3[(df3['age'] > 15) &  (df3['age'] < 120)]\n",
    "\n",
    "# filtrando secs_elapsed maiores que 0 segundos\n",
    "#df_sessions_raw = df_sessions_raw[df_sessions_raw['secs_elapsed'] > 0]"
   ]
  },
  {
   "cell_type": "markdown",
   "id": "3f4e226b",
   "metadata": {},
   "source": [
    "## 3.2 Filtragem de Colunas "
   ]
  },
  {
   "cell_type": "code",
   "execution_count": 21,
   "id": "fcd2112f",
   "metadata": {
    "ExecuteTime": {
     "end_time": "2022-02-26T16:14:24.679414Z",
     "start_time": "2022-02-26T16:14:24.664401Z"
    }
   },
   "outputs": [],
   "source": [
    "#removendo atributos que nao existem no momento da predicao \n",
    "df3.drop(['id', 'timestamp_first_active', 'date_first_booking', 'date_account_created'], axis=1, inplace=True)"
   ]
  },
  {
   "cell_type": "markdown",
   "id": "ad310169",
   "metadata": {
    "heading_collapsed": true
   },
   "source": [
    "# 3.0 Modelagem de Dados "
   ]
  },
  {
   "cell_type": "code",
   "execution_count": 23,
   "id": "02423a54",
   "metadata": {
    "ExecuteTime": {
     "end_time": "2022-02-26T16:15:07.301638Z",
     "start_time": "2022-02-26T16:15:07.295609Z"
    },
    "hidden": true
   },
   "outputs": [],
   "source": [
    "df3 = df2.copy()"
   ]
  },
  {
   "cell_type": "markdown",
   "id": "7145a93c",
   "metadata": {
    "hidden": true
   },
   "source": [
    "## 3.1 Encoding "
   ]
  },
  {
   "cell_type": "code",
   "execution_count": 24,
   "id": "07330964",
   "metadata": {
    "ExecuteTime": {
     "end_time": "2022-02-26T16:15:56.095130Z",
     "start_time": "2022-02-26T16:15:55.882560Z"
    },
    "hidden": true
   },
   "outputs": [],
   "source": [
    "df3_dummies = pd.get_dummies(df3.drop('country_destination', axis=1))\n",
    "df3 = pd.concat([df3_dummies, df3['country_destination']], axis=1)"
   ]
  },
  {
   "cell_type": "markdown",
   "id": "c0586fa5",
   "metadata": {
    "heading_collapsed": true
   },
   "source": [
    "# 4.0 Modelagem Machine Learning "
   ]
  },
  {
   "cell_type": "code",
   "execution_count": 29,
   "id": "6e9bafa5",
   "metadata": {
    "ExecuteTime": {
     "end_time": "2022-02-26T16:16:38.593847Z",
     "start_time": "2022-02-26T16:16:38.578961Z"
    },
    "hidden": true
   },
   "outputs": [],
   "source": [
    "df4 = df3.copy()"
   ]
  },
  {
   "cell_type": "markdown",
   "id": "239e4377",
   "metadata": {
    "hidden": true
   },
   "source": [
    "## 4.1 Separar Dados Teste e Validação  "
   ]
  },
  {
   "cell_type": "code",
   "execution_count": 27,
   "id": "765b65ab",
   "metadata": {
    "ExecuteTime": {
     "end_time": "2022-02-26T16:16:28.237727Z",
     "start_time": "2022-02-26T16:16:28.220797Z"
    },
    "hidden": true
   },
   "outputs": [],
   "source": [
    "x = df4.drop('country_destination', axis=1)\n",
    "y = df4['country_destination'].copy()"
   ]
  },
  {
   "cell_type": "code",
   "execution_count": 35,
   "id": "3a4a529e",
   "metadata": {
    "ExecuteTime": {
     "end_time": "2022-02-26T16:17:19.986050Z",
     "start_time": "2022-02-26T16:17:19.871188Z"
    },
    "hidden": true
   },
   "outputs": [],
   "source": [
    "x_train, x_test, y_train, y_test = ms.train_test_split(x, y, test_size=0.2, random_state=42)"
   ]
  },
  {
   "cell_type": "markdown",
   "id": "01245a62",
   "metadata": {
    "heading_collapsed": true,
    "hidden": true
   },
   "source": [
    "## 4.2 Modelo Baseline"
   ]
  },
  {
   "cell_type": "code",
   "execution_count": 107,
   "id": "58eb3868",
   "metadata": {
    "ExecuteTime": {
     "end_time": "2022-02-26T13:08:25.499066Z",
     "start_time": "2022-02-26T13:08:25.363720Z"
    },
    "hidden": true
   },
   "outputs": [],
   "source": [
    "l_country_destination = df4['country_destination'].sort_values().unique()\n",
    "country_destination_weights = df4['country_destination'].value_counts(normalize=True).sort_index().tolist()\n",
    "k_num = y_test.shape[0]\n",
    "\n",
    "# Modelo de classificacao aleatoria\n",
    "yhat_random = random.choices(population=l_country_destination, k=k_num, weights= country_destination_weights )"
   ]
  },
  {
   "cell_type": "markdown",
   "id": "4f656e84",
   "metadata": {
    "heading_collapsed": true,
    "hidden": true
   },
   "source": [
    "### 4.2.1 Performance do Modelo - Baseline "
   ]
  },
  {
   "cell_type": "code",
   "execution_count": 108,
   "id": "0023abc1",
   "metadata": {
    "ExecuteTime": {
     "end_time": "2022-02-26T13:08:27.752294Z",
     "start_time": "2022-02-26T13:08:26.483638Z"
    },
    "hidden": true,
    "scrolled": false
   },
   "outputs": [
    {
     "name": "stdout",
     "output_type": "stream",
     "text": [
      "Acuracia:0.4213317903466898\n",
      "Acuracia Balanceada: 0.08282908519283329\n",
      "Kappa: -0.002447846537212861\n",
      "              precision    recall  f1-score   support\n",
      "\n",
      "          AU       0.01      0.01      0.01        95\n",
      "          CA       0.00      0.00      0.00       296\n",
      "          DE       0.00      0.00      0.00       213\n",
      "          ES       0.01      0.01      0.01       429\n",
      "          FR       0.02      0.02      0.02       997\n",
      "          GB       0.02      0.02      0.02       505\n",
      "          IT       0.01      0.01      0.01       558\n",
      "         NDF       0.58      0.57      0.58     24003\n",
      "          NL       0.00      0.00      0.00       161\n",
      "          PT       0.00      0.00      0.00        52\n",
      "          US       0.29      0.29      0.29     12136\n",
      "       other       0.05      0.05      0.05      2033\n",
      "\n",
      "    accuracy                           0.42     41478\n",
      "   macro avg       0.08      0.08      0.08     41478\n",
      "weighted avg       0.42      0.42      0.42     41478\n",
      "\n"
     ]
    },
    {
     "data": {
      "image/png": "[encoded data removed]",
      "text/plain": [
       "<Figure size 864x864 with 2 Axes>"
      ]
     },
     "metadata": {
      "needs_background": "light"
     },
     "output_type": "display_data"
    }
   ],
   "source": [
    "# acuracia \n",
    "acuracia_random = metrics.accuracy_score(y_test, yhat_random)\n",
    "print('Acuracia:{}'.format(acuracia_random))\n",
    "\n",
    "# Acuracia balanceada \n",
    "balanced_accuracy_random = metrics.balanced_accuracy_score(y_test, yhat_random)\n",
    "print('Acuracia Balanceada: {}'.format(balanced_accuracy_random))\n",
    "\n",
    "# kappa \n",
    "kappa_random = metrics.cohen_kappa_score(y_test, yhat_random)\n",
    "print('Kappa: {}'.format(kappa_random))\n",
    "\n",
    "print(metrics.classification_report(y_test, yhat_random))\n",
    "\n",
    "# Matriz de confusao\n",
    "mt.plot_confusion_matrix(y_test, yhat_random, normalize=False, figsize=(12,12));"
   ]
  },
  {
   "cell_type": "markdown",
   "id": "3fec849d",
   "metadata": {
    "hidden": true
   },
   "source": [
    "## 4.3 Neural Network - MLP"
   ]
  },
  {
   "cell_type": "code",
   "execution_count": 40,
   "id": "80dbefa3",
   "metadata": {
    "ExecuteTime": {
     "end_time": "2022-02-26T16:18:32.277143Z",
     "start_time": "2022-02-26T16:18:32.233799Z"
    },
    "hidden": true
   },
   "outputs": [],
   "source": [
    "# encode para variavel y \n",
    "encoder = pp.OneHotEncoder()\n",
    "y_train_nn = encoder.fit_transform(y_train.values.reshape(-1,1)).toarray()"
   ]
  },
  {
   "cell_type": "code",
   "execution_count": 43,
   "id": "1ac68c81",
   "metadata": {
    "ExecuteTime": {
     "end_time": "2022-02-26T16:26:24.988148Z",
     "start_time": "2022-02-26T16:19:00.575443Z"
    },
    "hidden": true,
    "scrolled": false
   },
   "outputs": [
    {
     "name": "stderr",
     "output_type": "stream",
     "text": [
      "2022-02-26 13:19:00.724966: W tensorflow/stream_executor/platform/default/dso_loader.cc:64] Could not load dynamic library 'libcuda.so.1'; dlerror: libcuda.so.1: cannot open shared object file: No such file or directory\n",
      "2022-02-26 13:19:00.725016: W tensorflow/stream_executor/cuda/cuda_driver.cc:269] failed call to cuInit: UNKNOWN ERROR (303)\n",
      "2022-02-26 13:19:00.725031: I tensorflow/stream_executor/cuda/cuda_diagnostics.cc:156] kernel driver does not appear to be running on this host (giovane-VirtualBox): /proc/driver/nvidia/version does not exist\n",
      "2022-02-26 13:19:00.731961: I tensorflow/core/platform/cpu_feature_guard.cc:151] This TensorFlow binary is optimized with oneAPI Deep Neural Network Library (oneDNN) to use the following CPU instructions in performance-critical operations:  AVX2\n",
      "To enable them in other operations, rebuild TensorFlow with the appropriate compiler flags.\n"
     ]
    },
    {
     "name": "stdout",
     "output_type": "stream",
     "text": [
      "Epoch 1/100\n",
      "5185/5185 [==============================] - 4s 722us/step - loss: 1.2453 - accuracy: 0.5854\n",
      "Epoch 2/100\n",
      "5185/5185 [==============================] - 4s 702us/step - loss: 1.1711 - accuracy: 0.5953\n",
      "Epoch 3/100\n",
      "5185/5185 [==============================] - 4s 700us/step - loss: 1.1353 - accuracy: 0.5994\n",
      "Epoch 4/100\n",
      "5185/5185 [==============================] - 4s 700us/step - loss: 1.1134 - accuracy: 0.6008\n",
      "Epoch 5/100\n",
      "5185/5185 [==============================] - 4s 702us/step - loss: 1.1055 - accuracy: 0.6013\n",
      "Epoch 6/100\n",
      "5185/5185 [==============================] - 4s 698us/step - loss: 1.0994 - accuracy: 0.6044\n",
      "Epoch 7/100\n",
      "5185/5185 [==============================] - 4s 718us/step - loss: 1.0965 - accuracy: 0.6064\n",
      "Epoch 8/100\n",
      "5185/5185 [==============================] - 4s 787us/step - loss: 1.0943 - accuracy: 0.6086\n",
      "Epoch 9/100\n",
      "5185/5185 [==============================] - 4s 834us/step - loss: 1.0921 - accuracy: 0.6101\n",
      "Epoch 10/100\n",
      "5185/5185 [==============================] - 4s 776us/step - loss: 1.0893 - accuracy: 0.6105\n",
      "Epoch 11/100\n",
      "5185/5185 [==============================] - 4s 798us/step - loss: 1.0885 - accuracy: 0.6127\n",
      "Epoch 12/100\n",
      "5185/5185 [==============================] - 4s 788us/step - loss: 1.0875 - accuracy: 0.6128\n",
      "Epoch 13/100\n",
      "5185/5185 [==============================] - 4s 792us/step - loss: 1.0854 - accuracy: 0.6136\n",
      "Epoch 14/100\n",
      "5185/5185 [==============================] - 4s 783us/step - loss: 1.0849 - accuracy: 0.6141\n",
      "Epoch 15/100\n",
      "5185/5185 [==============================] - 4s 803us/step - loss: 1.0833 - accuracy: 0.6149\n",
      "Epoch 16/100\n",
      "5185/5185 [==============================] - 4s 799us/step - loss: 1.0832 - accuracy: 0.6146\n",
      "Epoch 17/100\n",
      "5185/5185 [==============================] - 4s 783us/step - loss: 1.0829 - accuracy: 0.6149\n",
      "Epoch 18/100\n",
      "5185/5185 [==============================] - 4s 784us/step - loss: 1.0820 - accuracy: 0.6161\n",
      "Epoch 19/100\n",
      "5185/5185 [==============================] - 4s 785us/step - loss: 1.0818 - accuracy: 0.6159\n",
      "Epoch 20/100\n",
      "5185/5185 [==============================] - 4s 787us/step - loss: 1.0811 - accuracy: 0.6159\n",
      "Epoch 21/100\n",
      "5185/5185 [==============================] - 4s 786us/step - loss: 1.0804 - accuracy: 0.6163\n",
      "Epoch 22/100\n",
      "5185/5185 [==============================] - 4s 795us/step - loss: 1.0799 - accuracy: 0.6163\n",
      "Epoch 23/100\n",
      "5185/5185 [==============================] - 4s 794us/step - loss: 1.0799 - accuracy: 0.6167\n",
      "Epoch 24/100\n",
      "5185/5185 [==============================] - 4s 786us/step - loss: 1.0792 - accuracy: 0.6172\n",
      "Epoch 25/100\n",
      "5185/5185 [==============================] - 5s 1ms/step - loss: 1.0789 - accuracy: 0.6163\n",
      "Epoch 26/100\n",
      "5185/5185 [==============================] - 5s 1ms/step - loss: 1.0787 - accuracy: 0.6169\n",
      "Epoch 27/100\n",
      "5185/5185 [==============================] - 5s 1ms/step - loss: 1.0782 - accuracy: 0.6174\n",
      "Epoch 28/100\n",
      "5185/5185 [==============================] - 5s 1ms/step - loss: 1.0778 - accuracy: 0.6179\n",
      "Epoch 29/100\n",
      "5185/5185 [==============================] - 5s 1000us/step - loss: 1.0777 - accuracy: 0.6176\n",
      "Epoch 30/100\n",
      "5185/5185 [==============================] - 5s 997us/step - loss: 1.0770 - accuracy: 0.6178\n",
      "Epoch 31/100\n",
      "5185/5185 [==============================] - 5s 1ms/step - loss: 1.0769 - accuracy: 0.6177\n",
      "Epoch 32/100\n",
      "5185/5185 [==============================] - 5s 1ms/step - loss: 1.0768 - accuracy: 0.6180\n",
      "Epoch 33/100\n",
      "5185/5185 [==============================] - 5s 1ms/step - loss: 1.0759 - accuracy: 0.6182\n",
      "Epoch 34/100\n",
      "5185/5185 [==============================] - 5s 1ms/step - loss: 1.0759 - accuracy: 0.6174\n",
      "Epoch 35/100\n",
      "5185/5185 [==============================] - 5s 1ms/step - loss: 1.0760 - accuracy: 0.6179\n",
      "Epoch 36/100\n",
      "5185/5185 [==============================] - 5s 1ms/step - loss: 1.0757 - accuracy: 0.6181\n",
      "Epoch 37/100\n",
      "5185/5185 [==============================] - 4s 736us/step - loss: 1.0749 - accuracy: 0.6184\n",
      "Epoch 38/100\n",
      "5185/5185 [==============================] - 4s 725us/step - loss: 1.0752 - accuracy: 0.6180\n",
      "Epoch 39/100\n",
      "5185/5185 [==============================] - 4s 722us/step - loss: 1.0746 - accuracy: 0.6183\n",
      "Epoch 40/100\n",
      "5185/5185 [==============================] - 4s 722us/step - loss: 1.0745 - accuracy: 0.6193\n",
      "Epoch 41/100\n",
      "5185/5185 [==============================] - 4s 726us/step - loss: 1.0745 - accuracy: 0.6188\n",
      "Epoch 42/100\n",
      "5185/5185 [==============================] - 4s 725us/step - loss: 1.0742 - accuracy: 0.6183\n",
      "Epoch 43/100\n",
      "5185/5185 [==============================] - 4s 793us/step - loss: 1.0742 - accuracy: 0.6186\n",
      "Epoch 44/100\n",
      "5185/5185 [==============================] - 4s 766us/step - loss: 1.0737 - accuracy: 0.6188\n",
      "Epoch 45/100\n",
      "5185/5185 [==============================] - 4s 752us/step - loss: 1.0738 - accuracy: 0.6184\n",
      "Epoch 46/100\n",
      "5185/5185 [==============================] - 4s 738us/step - loss: 1.0736 - accuracy: 0.6191\n",
      "Epoch 47/100\n",
      "5185/5185 [==============================] - 4s 745us/step - loss: 1.0738 - accuracy: 0.6183\n",
      "Epoch 48/100\n",
      "5185/5185 [==============================] - 4s 744us/step - loss: 1.0730 - accuracy: 0.6196\n",
      "Epoch 49/100\n",
      "5185/5185 [==============================] - 4s 746us/step - loss: 1.0733 - accuracy: 0.6194\n",
      "Epoch 50/100\n",
      "5185/5185 [==============================] - 4s 746us/step - loss: 1.0730 - accuracy: 0.6190\n",
      "Epoch 51/100\n",
      "5185/5185 [==============================] - 4s 738us/step - loss: 1.0728 - accuracy: 0.6196\n",
      "Epoch 52/100\n",
      "5185/5185 [==============================] - 4s 744us/step - loss: 1.0725 - accuracy: 0.6193\n",
      "Epoch 53/100\n",
      "5185/5185 [==============================] - 5s 1ms/step - loss: 1.0725 - accuracy: 0.6195\n",
      "Epoch 54/100\n",
      "5185/5185 [==============================] - 4s 746us/step - loss: 1.0723 - accuracy: 0.6192\n",
      "Epoch 55/100\n",
      "5185/5185 [==============================] - 4s 745us/step - loss: 1.0722 - accuracy: 0.6196\n",
      "Epoch 56/100\n",
      "5185/5185 [==============================] - 5s 949us/step - loss: 1.0723 - accuracy: 0.6199\n",
      "Epoch 57/100\n",
      "5185/5185 [==============================] - 5s 940us/step - loss: 1.0720 - accuracy: 0.6197\n",
      "Epoch 58/100\n",
      "5185/5185 [==============================] - 5s 1ms/step - loss: 1.0715 - accuracy: 0.6198\n",
      "Epoch 59/100\n",
      "5185/5185 [==============================] - 5s 1ms/step - loss: 1.0718 - accuracy: 0.6202\n",
      "Epoch 60/100\n",
      "5185/5185 [==============================] - 5s 937us/step - loss: 1.0720 - accuracy: 0.6209\n",
      "Epoch 61/100\n",
      "5185/5185 [==============================] - 5s 950us/step - loss: 1.0721 - accuracy: 0.6198\n",
      "Epoch 62/100\n",
      "5185/5185 [==============================] - 5s 945us/step - loss: 1.0718 - accuracy: 0.6202\n",
      "Epoch 63/100\n",
      "5185/5185 [==============================] - 5s 1ms/step - loss: 1.0717 - accuracy: 0.6205\n",
      "Epoch 64/100\n",
      "5185/5185 [==============================] - 4s 803us/step - loss: 1.0713 - accuracy: 0.6198\n",
      "Epoch 65/100\n",
      "5185/5185 [==============================] - 6s 1ms/step - loss: 1.0715 - accuracy: 0.6204\n",
      "Epoch 66/100\n",
      "5185/5185 [==============================] - 5s 1ms/step - loss: 1.0711 - accuracy: 0.6198\n",
      "Epoch 67/100\n",
      "5185/5185 [==============================] - 5s 927us/step - loss: 1.0713 - accuracy: 0.6204\n",
      "Epoch 68/100\n",
      "5185/5185 [==============================] - 5s 992us/step - loss: 1.0708 - accuracy: 0.6202\n",
      "Epoch 69/100\n",
      "5185/5185 [==============================] - 5s 965us/step - loss: 1.0710 - accuracy: 0.6209\n",
      "Epoch 70/100\n",
      "5185/5185 [==============================] - 5s 927us/step - loss: 1.0709 - accuracy: 0.6204\n",
      "Epoch 71/100\n",
      "5185/5185 [==============================] - 5s 931us/step - loss: 1.0708 - accuracy: 0.6209\n",
      "Epoch 72/100\n",
      "5185/5185 [==============================] - 5s 945us/step - loss: 1.0708 - accuracy: 0.6203\n",
      "Epoch 73/100\n",
      "5185/5185 [==============================] - 5s 940us/step - loss: 1.0703 - accuracy: 0.6204\n",
      "Epoch 74/100\n",
      "5185/5185 [==============================] - 5s 940us/step - loss: 1.0705 - accuracy: 0.6204\n",
      "Epoch 75/100\n",
      "5185/5185 [==============================] - 5s 941us/step - loss: 1.0704 - accuracy: 0.6204\n",
      "Epoch 76/100\n",
      "5185/5185 [==============================] - 6s 1ms/step - loss: 1.0703 - accuracy: 0.6214\n",
      "Epoch 77/100\n",
      "5185/5185 [==============================] - 4s 757us/step - loss: 1.0699 - accuracy: 0.6213\n",
      "Epoch 78/100\n",
      "5185/5185 [==============================] - 4s 747us/step - loss: 1.0702 - accuracy: 0.6204\n",
      "Epoch 79/100\n",
      "5185/5185 [==============================] - 4s 744us/step - loss: 1.0700 - accuracy: 0.6204\n",
      "Epoch 80/100\n",
      "5185/5185 [==============================] - 4s 741us/step - loss: 1.0701 - accuracy: 0.6207\n",
      "Epoch 81/100\n",
      "5185/5185 [==============================] - 4s 740us/step - loss: 1.0699 - accuracy: 0.6206\n",
      "Epoch 82/100\n",
      "5185/5185 [==============================] - 4s 746us/step - loss: 1.0701 - accuracy: 0.6199\n",
      "Epoch 83/100\n",
      "5185/5185 [==============================] - 4s 731us/step - loss: 1.0698 - accuracy: 0.6211\n",
      "Epoch 84/100\n",
      "5185/5185 [==============================] - 4s 740us/step - loss: 1.0693 - accuracy: 0.6212\n",
      "Epoch 85/100\n",
      "5185/5185 [==============================] - 4s 735us/step - loss: 1.0698 - accuracy: 0.6215\n",
      "Epoch 86/100\n",
      "5185/5185 [==============================] - 4s 742us/step - loss: 1.0698 - accuracy: 0.6208\n",
      "Epoch 87/100\n",
      "5185/5185 [==============================] - 4s 732us/step - loss: 1.0693 - accuracy: 0.6215\n",
      "Epoch 88/100\n",
      "5185/5185 [==============================] - 4s 727us/step - loss: 1.0695 - accuracy: 0.6215\n",
      "Epoch 89/100\n",
      "5185/5185 [==============================] - 5s 931us/step - loss: 1.0697 - accuracy: 0.6211\n",
      "Epoch 90/100\n",
      "5185/5185 [==============================] - 5s 922us/step - loss: 1.0693 - accuracy: 0.6213\n",
      "Epoch 91/100\n",
      "5185/5185 [==============================] - 5s 929us/step - loss: 1.0694 - accuracy: 0.6214\n",
      "Epoch 92/100\n",
      "5185/5185 [==============================] - 5s 928us/step - loss: 1.0692 - accuracy: 0.6211\n",
      "Epoch 93/100\n",
      "5185/5185 [==============================] - 5s 934us/step - loss: 1.0693 - accuracy: 0.6207\n",
      "Epoch 94/100\n",
      "5185/5185 [==============================] - 5s 936us/step - loss: 1.0691 - accuracy: 0.6208\n",
      "Epoch 95/100\n",
      "5185/5185 [==============================] - 5s 931us/step - loss: 1.0689 - accuracy: 0.6220\n",
      "Epoch 96/100\n",
      "5185/5185 [==============================] - 5s 923us/step - loss: 1.0689 - accuracy: 0.6208\n",
      "Epoch 97/100\n",
      "5185/5185 [==============================] - 5s 930us/step - loss: 1.0692 - accuracy: 0.6217\n",
      "Epoch 98/100\n",
      "5185/5185 [==============================] - 5s 929us/step - loss: 1.0684 - accuracy: 0.6215\n",
      "Epoch 99/100\n",
      "5185/5185 [==============================] - 5s 933us/step - loss: 1.0689 - accuracy: 0.6216\n",
      "Epoch 100/100\n",
      "5185/5185 [==============================] - 5s 934us/step - loss: 1.0686 - accuracy: 0.6217\n"
     ]
    },
    {
     "data": {
      "text/plain": [
       "<keras.callbacks.History at 0x7f6bec76ef10>"
      ]
     },
     "execution_count": 43,
     "metadata": {},
     "output_type": "execute_result"
    }
   ],
   "source": [
    "# definicao do modelo\n",
    "model = ml.Sequential()\n",
    "model.add(l.Dense(128, input_dim=x_train.shape[1], activation=\"relu\"))\n",
    "model.add(l.Dense(12, activation=\"softmax\"))\n",
    "\n",
    "# compilando modelo \n",
    "model.compile(loss = 'categorical_crossentropy', optimizer = 'adam', metrics=['accuracy'])\n",
    "\n",
    "# treinamento \n",
    "model.fit(x_train, y_train_nn, epochs=100, verbose = 0)"
   ]
  },
  {
   "cell_type": "markdown",
   "id": "8294523f",
   "metadata": {
    "hidden": true
   },
   "source": [
    "### 4.3.1 Performance do Modelo - MLP "
   ]
  },
  {
   "cell_type": "code",
   "execution_count": 44,
   "id": "88d11045",
   "metadata": {
    "ExecuteTime": {
     "end_time": "2022-02-26T16:28:36.164141Z",
     "start_time": "2022-02-26T16:28:35.425856Z"
    },
    "hidden": true
   },
   "outputs": [],
   "source": [
    "# predicao \n",
    "pred = model.predict(x_test)\n",
    "\n",
    "# invertendo o encoder \n",
    "yhat_nn = encoder.inverse_transform(pred)\n",
    "\n",
    "y_test_nn = y_test.to_numpy()\n",
    "yhat_nn = yhat_nn.reshape(1,-1)[0]"
   ]
  },
  {
   "cell_type": "code",
   "execution_count": 45,
   "id": "04fe2bfc",
   "metadata": {
    "ExecuteTime": {
     "end_time": "2022-02-26T16:28:39.238481Z",
     "start_time": "2022-02-26T16:28:38.300629Z"
    },
    "hidden": true
   },
   "outputs": [
    {
     "name": "stdout",
     "output_type": "stream",
     "text": [
      "Acuracia:0.6163026182554607\n",
      "Acuracia Balanceada: 0.10604667230963565\n",
      "Kappa: 0.22452659540351838\n"
     ]
    },
    {
     "name": "stderr",
     "output_type": "stream",
     "text": [
      "/home/giovane/Documentos/repo/airbnb_previsao_agendamento/agendamento_airbnb/lib/python3.8/site-packages/sklearn/metrics/_classification.py:1318: UndefinedMetricWarning: Precision and F-score are ill-defined and being set to 0.0 in labels with no predicted samples. Use `zero_division` parameter to control this behavior.\n",
      "  _warn_prf(average, modifier, msg_start, len(result))\n"
     ]
    },
    {
     "name": "stdout",
     "output_type": "stream",
     "text": [
      "              precision    recall  f1-score   support\n",
      "\n",
      "          AU       0.00      0.00      0.00        95\n",
      "          CA       0.00      0.00      0.00       296\n",
      "          DE       0.00      0.00      0.00       213\n",
      "          ES       0.20      0.00      0.00       429\n",
      "          FR       0.00      0.00      0.00       997\n",
      "          GB       0.00      0.00      0.00       505\n",
      "          IT       0.00      0.00      0.00       558\n",
      "         NDF       0.67      0.86      0.75     24003\n",
      "          NL       0.00      0.00      0.00       161\n",
      "          PT       0.00      0.00      0.00        52\n",
      "          US       0.47      0.42      0.44     12136\n",
      "       other       0.00      0.00      0.00      2033\n",
      "\n",
      "    accuracy                           0.62     41478\n",
      "   macro avg       0.11      0.11      0.10     41478\n",
      "weighted avg       0.53      0.62      0.56     41478\n",
      "\n"
     ]
    },
    {
     "name": "stderr",
     "output_type": "stream",
     "text": [
      "/home/giovane/Documentos/repo/airbnb_previsao_agendamento/agendamento_airbnb/lib/python3.8/site-packages/sklearn/metrics/_classification.py:1318: UndefinedMetricWarning: Precision and F-score are ill-defined and being set to 0.0 in labels with no predicted samples. Use `zero_division` parameter to control this behavior.\n",
      "  _warn_prf(average, modifier, msg_start, len(result))\n",
      "/home/giovane/Documentos/repo/airbnb_previsao_agendamento/agendamento_airbnb/lib/python3.8/site-packages/sklearn/metrics/_classification.py:1318: UndefinedMetricWarning: Precision and F-score are ill-defined and being set to 0.0 in labels with no predicted samples. Use `zero_division` parameter to control this behavior.\n",
      "  _warn_prf(average, modifier, msg_start, len(result))\n"
     ]
    }
   ],
   "source": [
    "# acuracia \n",
    "acuracia_nn = metrics.accuracy_score(y_test_nn, yhat_nn)\n",
    "print('Acuracia:{}'.format(acuracia_nn))\n",
    "\n",
    "# Acuracia balanceada \n",
    "balanced_accuracy_nn = metrics.balanced_accuracy_score(y_test_nn, yhat_nn)\n",
    "print('Acuracia Balanceada: {}'.format(balanced_accuracy_nn))\n",
    "\n",
    "# kappa \n",
    "kappa_nn = metrics.cohen_kappa_score(y_test_nn, yhat_nn)\n",
    "print('Kappa: {}'.format(kappa_nn))\n",
    "\n",
    "print(metrics.classification_report(y_test_nn, yhat_nn))\n"
   ]
  },
  {
   "cell_type": "code",
   "execution_count": 46,
   "id": "5bbd26c2",
   "metadata": {
    "ExecuteTime": {
     "end_time": "2022-02-26T16:29:07.943517Z",
     "start_time": "2022-02-26T16:29:07.457019Z"
    },
    "hidden": true
   },
   "outputs": [
    {
     "data": {
      "image/png": "[encoded data removed]",
      "text/plain": [
       "<Figure size 864x864 with 2 Axes>"
      ]
     },
     "metadata": {
      "needs_background": "light"
     },
     "output_type": "display_data"
    }
   ],
   "source": [
    "# Matriz de confusao\n",
    "mt.plot_confusion_matrix(y_test_nn, yhat_nn, normalize=False, figsize=(12,12));"
   ]
  },
  {
   "cell_type": "markdown",
   "id": "5d5cd100",
   "metadata": {
    "hidden": true
   },
   "source": [
    "O modelo acabou sendo inviesado, pelo fato do dataset estar desbalanceado. Podemos ver também que a acuracia de acimade 70%, as mesma também segue sendo inviesada pelo grande número de registro com US."
   ]
  },
  {
   "cell_type": "markdown",
   "id": "ccc8894e",
   "metadata": {
    "hidden": true
   },
   "source": [
    "### 4.3.2 Cross Validation - MLP "
   ]
  },
  {
   "cell_type": "code",
   "execution_count": 48,
   "id": "66d1a384",
   "metadata": {
    "ExecuteTime": {
     "end_time": "2022-02-26T16:56:52.143124Z",
     "start_time": "2022-02-26T16:39:09.049928Z"
    },
    "hidden": true
   },
   "outputs": [
    {
     "name": "stdout",
     "output_type": "stream",
     "text": [
      "Fold 1/5\n",
      "Fold 2/5\n",
      "Fold 3/5\n",
      "Fold 4/5\n",
      "Fold 5/5\n"
     ]
    }
   ],
   "source": [
    "# gerar fold \n",
    "num_fold = 5 \n",
    "kfold = ms.StratifiedKFold(n_splits= num_fold, shuffle=True, random_state=42)\n",
    "\n",
    "l_balanced_acc =[]\n",
    "l_kappa = []\n",
    "i=1 \n",
    "\n",
    "for train_ix, val_ix in kfold.split(x_train, y_train):\n",
    "    print('Fold {}/{}'.format(i, num_fold))\n",
    "    \n",
    "    # fold \n",
    "    x_train_fold = x_train.iloc[train_ix]\n",
    "    y_train_fold = y_train.iloc[train_ix]\n",
    "    \n",
    "    x_val_fold = x_train.iloc[val_ix]\n",
    "    y_val_fold = y_train.iloc[val_ix]\n",
    "    \n",
    "    # encoder target\n",
    "    encoder = pp.OneHotEncoder()\n",
    "    y_train_fold_nn = encoder.fit_transform(y_train_fold.values.reshape(-1,1)).toarray()\n",
    "\n",
    "    # definicao do modelo\n",
    "    model = ml.Sequential()\n",
    "    model.add(l.Dense(128, input_dim= x_train_fold.shape[1], activation=\"relu\"))\n",
    "    model.add(l.Dense(12, activation=\"softmax\"))\n",
    "\n",
    "    # compilando modelo \n",
    "    model.compile(loss = 'categorical_crossentropy', optimizer = 'adam', metrics=['accuracy'])\n",
    "\n",
    "    # treinamento \n",
    "    model.fit( x_train_fold, y_train_fold_nn, epochs=100, batch_size = 42, verbose=0)\n",
    "\n",
    "    # predicao \n",
    "    pred_nn = model.predict(x_val_fold)\n",
    "\n",
    "    # invertendo o encoder \n",
    "    yhat_fold_nn = encoder.inverse_transform(pred_nn)\n",
    "\n",
    "    y_val_fold_nn = y_val_fold.to_numpy()\n",
    "    yhat_fold_nn = yhat_fold_nn.reshape(1,-1)[0]\n",
    "    \n",
    "    #metricas \n",
    "    ## Balanced Accuracy\n",
    "    balanced_acc_fold = metrics.balanced_accuracy_score(y_val_fold_nn, yhat_fold_nn)\n",
    "    l_balanced_acc.append(balanced_acc_fold)\n",
    "    \n",
    "    ##Kappa \n",
    "    kappa_fold = metrics.cohen_kappa_score(y_val_fold_nn, yhat_fold_nn)\n",
    "    l_kappa.append(kappa_fold)\n",
    "    \n",
    "    i = i+1\n",
    "    "
   ]
  },
  {
   "cell_type": "code",
   "execution_count": 49,
   "id": "5d33ca03",
   "metadata": {
    "ExecuteTime": {
     "end_time": "2022-02-26T17:01:19.218555Z",
     "start_time": "2022-02-26T17:01:19.216014Z"
    },
    "hidden": true
   },
   "outputs": [
    {
     "name": "stdout",
     "output_type": "stream",
     "text": [
      "Balanced Accuracy: 0.1064+/-0.0007\n",
      "Kappa: 0.2267+/-0.0053\n"
     ]
    }
   ],
   "source": [
    "print('Balanced Accuracy: {:.4f}+/-{:.4f}'.format(np.mean(l_balanced_acc), np.std(l_balanced_acc)) )\n",
    "print('Kappa: {:.4f}+/-{:.4f}'.format(np.mean(l_kappa), np.std(l_kappa)) )"
   ]
  },
  {
   "cell_type": "code",
   "execution_count": null,
   "id": "de5d7594",
   "metadata": {
    "hidden": true
   },
   "outputs": [],
   "source": []
  }
 ],
 "metadata": {
  "kernelspec": {
   "display_name": "agendamento_airbnb",
   "language": "python",
   "name": "agendamento_airbnb"
  },
  "language_info": {
   "codemirror_mode": {
    "name": "ipython",
    "version": 3
   },
   "file_extension": ".py",
   "mimetype": "text/x-python",
   "name": "python",
   "nbconvert_exporter": "python",
   "pygments_lexer": "ipython3",
   "version": "3.8.10"
  },
  "varInspector": {
   "cols": {
    "lenName": 16,
    "lenType": 16,
    "lenVar": 40
   },
   "kernels_config": {
    "python": {
     "delete_cmd_postfix": "",
     "delete_cmd_prefix": "del ",
     "library": "var_list.py",
     "varRefreshCmd": "print(var_dic_list())"
    },
    "r": {
     "delete_cmd_postfix": ") ",
     "delete_cmd_prefix": "rm(",
     "library": "var_list.r",
     "varRefreshCmd": "cat(var_dic_list()) "
    }
   },
   "types_to_exclude": [
    "module",
    "function",
    "builtin_function_or_method",
    "instance",
    "_Feature"
   ],
   "window_display": false
  }
 },
 "nbformat": 4,
 "nbformat_minor": 5
}

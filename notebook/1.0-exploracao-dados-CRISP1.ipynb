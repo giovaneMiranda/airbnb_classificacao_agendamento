{
 "cells": [
  {
   "cell_type": "markdown",
   "id": "d5ba96a9",
   "metadata": {},
   "source": [
    "# Problema de Negocio "
   ]
  },
  {
   "cell_type": "markdown",
   "id": "4f3ac5e5",
   "metadata": {},
   "source": [
    "Airbnb opera no mercado online de hospedagem, principalmente com casas de família para aluguel de temporada e atividade de turismo. No memento se observou a necessidade de prever o primeiro destino que um novo usuário vai escolher para fazer sua reserva de hospedagem.\n",
    "\n",
    "**Causa raiz**: Por se tratar de um modelo de marketplace, onde visa conectar pessoas que oferecem um serviço, com pessoas que estão em busca dos mesmo, a necessidade vem de prever o destino para melhor aplicar a campanha de marketing. Buscando diminuir o CAC. "
   ]
  },
  {
   "cell_type": "markdown",
   "id": "457cee91",
   "metadata": {
    "heading_collapsed": true
   },
   "source": [
    "## Planejamento da Entrega "
   ]
  },
  {
   "cell_type": "markdown",
   "id": "1dbcca23",
   "metadata": {
    "hidden": true
   },
   "source": [
    "1. Resposta\n",
    "- prever o destino do primeiro agendamento de hospedagem do usuário. \n",
    "\n",
    "2. Formato de entrega\n",
    "- Json com os dados do cliente e a classificação do destino. \n",
    "\n",
    "3. Local de entrega \n",
    "- Api "
   ]
  },
  {
   "cell_type": "markdown",
   "id": "3dca2e3f",
   "metadata": {
    "heading_collapsed": true
   },
   "source": [
    "## Planejamento do Processo "
   ]
  },
  {
   "cell_type": "markdown",
   "id": "6ef4b1f3",
   "metadata": {
    "ExecuteTime": {
     "end_time": "2022-02-15T20:19:35.866474Z",
     "start_time": "2022-02-15T20:19:35.864148Z"
    },
    "hidden": true
   },
   "source": [
    "1. Extração e carregamento dos dados. \n",
    "2. Análise descritiva e  do dataset. \n",
    "3. Validação e tratamento de dados faltantes \n",
    "4. Feature engineering\n",
    "5. Balanceamento dos dados. \n",
    "6. EAD.\n",
    "7. Modelagem de dados\n",
    "8. Seleção dos atributos relevantes \n",
    "9. Modelagem de algoritmo classificador e fine tunning\n",
    "10. Criação Class Pipeline de dados e API Handler \n",
    "11. Deploy em produção "
   ]
  },
  {
   "cell_type": "markdown",
   "id": "5996bf9d",
   "metadata": {
    "heading_collapsed": true
   },
   "source": [
    "## Planejamento de Entrada"
   ]
  },
  {
   "cell_type": "markdown",
   "id": "adfa77e8",
   "metadata": {
    "hidden": true
   },
   "source": [
    "1. Fonte dos dados \n",
    "- **kaggle** https://www.kaggle.com/c/airbnb-recruiting-new-user-bookings/data\n",
    "    \n",
    "2. Ferramentas \n",
    "- Python 3 \n",
    "- Flask \n",
    "- Sklearn \n",
    "- Jupyter Notebook \n",
    "- Heroku "
   ]
  },
  {
   "cell_type": "markdown",
   "id": "fc55551e",
   "metadata": {
    "ExecuteTime": {
     "end_time": "2022-02-15T20:25:39.745263Z",
     "start_time": "2022-02-15T20:25:39.743140Z"
    }
   },
   "source": [
    "# 0.0 Import "
   ]
  },
  {
   "cell_type": "code",
   "execution_count": 1,
   "id": "7162eca3",
   "metadata": {
    "ExecuteTime": {
     "end_time": "2022-02-26T12:44:27.523981Z",
     "start_time": "2022-02-26T12:44:25.835748Z"
    }
   },
   "outputs": [
    {
     "name": "stderr",
     "output_type": "stream",
     "text": [
      "2022-02-26 09:44:26.661885: W tensorflow/stream_executor/platform/default/dso_loader.cc:64] Could not load dynamic library 'libcudart.so.11.0'; dlerror: libcudart.so.11.0: cannot open shared object file: No such file or directory\n",
      "2022-02-26 09:44:26.661919: I tensorflow/stream_executor/cuda/cudart_stub.cc:29] Ignore above cudart dlerror if you do not have a GPU set up on your machine.\n"
     ]
    }
   ],
   "source": [
    "import pandas as pd \n",
    "import matplotlib.pyplot\n",
    "import random\n",
    "\n",
    "import sklearn.preprocessing as pp\n",
    "import sklearn.model_selection as ms\n",
    "from keras import models as ml\n",
    "from keras import layers as l\n",
    "from sklearn import metrics\n",
    "from scikitplot import metrics as mt\n",
    "import os\n",
    "    "
   ]
  },
  {
   "cell_type": "markdown",
   "id": "71b68d34",
   "metadata": {},
   "source": [
    "## 0.1 Helper Functions "
   ]
  },
  {
   "cell_type": "code",
   "execution_count": 2,
   "id": "2cb0fa49",
   "metadata": {
    "ExecuteTime": {
     "end_time": "2022-02-26T12:44:28.570912Z",
     "start_time": "2022-02-26T12:44:28.567099Z"
    }
   },
   "outputs": [],
   "source": [
    "os.environ['TF_CPP_MIN_LOG_LEVEL'] = '2'"
   ]
  },
  {
   "cell_type": "markdown",
   "id": "b3a16222",
   "metadata": {},
   "source": [
    "## 0.2 Carregamento de dados "
   ]
  },
  {
   "cell_type": "code",
   "execution_count": 3,
   "id": "eb80795f",
   "metadata": {
    "ExecuteTime": {
     "end_time": "2022-02-26T12:44:30.097218Z",
     "start_time": "2022-02-26T12:44:29.802309Z"
    }
   },
   "outputs": [],
   "source": [
    "df_user_raw = pd.read_csv('/home/giovane/Documentos/repo/airbnb_previsao_agendamento/data/raw/train_users_2.csv')\n",
    "# df_sessions_raw = pd.read_csv('/home/giovane/Documentos/repo/airbnb_previsao_agendamento/data/raw/sessions.csv')"
   ]
  },
  {
   "cell_type": "markdown",
   "id": "09224abb",
   "metadata": {},
   "source": [
    "# 1.0 Análise Descritiva "
   ]
  },
  {
   "cell_type": "code",
   "execution_count": 4,
   "id": "d65076f2",
   "metadata": {
    "ExecuteTime": {
     "end_time": "2022-02-26T12:44:32.711499Z",
     "start_time": "2022-02-26T12:44:32.459478Z"
    }
   },
   "outputs": [
    {
     "name": "stdout",
     "output_type": "stream",
     "text": [
      "<class 'pandas.core.frame.DataFrame'>\n",
      "RangeIndex: 213451 entries, 0 to 213450\n",
      "Data columns (total 16 columns):\n",
      " #   Column                   Non-Null Count   Dtype  \n",
      "---  ------                   --------------   -----  \n",
      " 0   id                       213451 non-null  object \n",
      " 1   date_account_created     213451 non-null  object \n",
      " 2   timestamp_first_active   213451 non-null  int64  \n",
      " 3   date_first_booking       88908 non-null   object \n",
      " 4   gender                   213451 non-null  object \n",
      " 5   age                      125461 non-null  float64\n",
      " 6   signup_method            213451 non-null  object \n",
      " 7   signup_flow              213451 non-null  int64  \n",
      " 8   language                 213451 non-null  object \n",
      " 9   affiliate_channel        213451 non-null  object \n",
      " 10  affiliate_provider       213451 non-null  object \n",
      " 11  first_affiliate_tracked  207386 non-null  object \n",
      " 12  signup_app               213451 non-null  object \n",
      " 13  first_device_type        213451 non-null  object \n",
      " 14  first_browser            213451 non-null  object \n",
      " 15  country_destination      213451 non-null  object \n",
      "dtypes: float64(1), int64(2), object(13)\n",
      "memory usage: 26.1+ MB\n"
     ]
    }
   ],
   "source": [
    "# verificando o a dimensao dos dados (Linhas e colunas)\n",
    "# Tipo dos atributos \n",
    "df_user_raw.info()"
   ]
  },
  {
   "cell_type": "markdown",
   "id": "7c2b3edc",
   "metadata": {},
   "source": [
    "## 1.2 Dados Faltantes ( NA ) "
   ]
  },
  {
   "cell_type": "code",
   "execution_count": 5,
   "id": "2eba8684",
   "metadata": {
    "ExecuteTime": {
     "end_time": "2022-02-26T12:44:33.830420Z",
     "start_time": "2022-02-26T12:44:33.576383Z"
    }
   },
   "outputs": [
    {
     "data": {
      "text/plain": [
       "id                              0\n",
       "date_account_created            0\n",
       "timestamp_first_active          0\n",
       "date_first_booking         124543\n",
       "gender                          0\n",
       "age                         87990\n",
       "signup_method                   0\n",
       "signup_flow                     0\n",
       "language                        0\n",
       "affiliate_channel               0\n",
       "affiliate_provider              0\n",
       "first_affiliate_tracked      6065\n",
       "signup_app                      0\n",
       "first_device_type               0\n",
       "first_browser                   0\n",
       "country_destination             0\n",
       "dtype: int64"
      ]
     },
     "execution_count": 5,
     "metadata": {},
     "output_type": "execute_result"
    }
   ],
   "source": [
    "df_user_raw.isna().sum()"
   ]
  },
  {
   "cell_type": "markdown",
   "id": "29e0a14e",
   "metadata": {},
   "source": [
    "O dataset possui 3 colunas onde apresentam dados faltantes( NA ) \n",
    "- date_first_booking \n",
    "- age \n",
    "- first_affiliate_tracked "
   ]
  },
  {
   "cell_type": "markdown",
   "id": "57af7183",
   "metadata": {},
   "source": [
    "## 1.3 Preenchendo NA"
   ]
  },
  {
   "cell_type": "markdown",
   "id": "5f0fc258",
   "metadata": {},
   "source": [
    "Como parte do primeiro ciclo de desenvolvimento focando na entrega de valor, foi adotado a exlusão das linhas com NA tendo em vista a grande redução de registros do dataset."
   ]
  },
  {
   "cell_type": "code",
   "execution_count": 6,
   "id": "f291ff1b",
   "metadata": {
    "ExecuteTime": {
     "end_time": "2022-02-26T12:44:35.598421Z",
     "start_time": "2022-02-26T12:44:35.304512Z"
    }
   },
   "outputs": [],
   "source": [
    "df_user_raw.dropna(inplace=True)"
   ]
  },
  {
   "cell_type": "code",
   "execution_count": 7,
   "id": "10d9126a",
   "metadata": {
    "ExecuteTime": {
     "end_time": "2022-02-26T12:44:35.715073Z",
     "start_time": "2022-02-26T12:44:35.712240Z"
    }
   },
   "outputs": [
    {
     "data": {
      "text/plain": [
       "(68171, 16)"
      ]
     },
     "execution_count": 7,
     "metadata": {},
     "output_type": "execute_result"
    }
   ],
   "source": [
    "df_user_raw.shape"
   ]
  },
  {
   "cell_type": "markdown",
   "id": "fd129fb8",
   "metadata": {},
   "source": [
    "## 1.1 Alterando Data Type"
   ]
  },
  {
   "cell_type": "code",
   "execution_count": 9,
   "id": "e16d3e46",
   "metadata": {
    "ExecuteTime": {
     "end_time": "2022-02-26T12:44:37.614238Z",
     "start_time": "2022-02-26T12:44:37.453955Z"
    }
   },
   "outputs": [],
   "source": [
    "df_user_raw['date_account_created'] = pd.to_datetime(df_user_raw['date_account_created'])  \n",
    "df_user_raw['timestamp_first_active'] = pd.to_datetime(df_user_raw['timestamp_first_active'], format='%Y%m%d%H%M%S') \n",
    "df_user_raw['date_first_booking'] = pd.to_datetime(df_user_raw['date_first_booking'])  \n",
    "df_user_raw['age'] = df_user_raw['age'].astype(int)"
   ]
  },
  {
   "cell_type": "markdown",
   "id": "ad77f8b8",
   "metadata": {},
   "source": [
    "# 2.0 Filtragem de Atributos  "
   ]
  },
  {
   "cell_type": "code",
   "execution_count": 11,
   "id": "c41ac67d",
   "metadata": {
    "ExecuteTime": {
     "end_time": "2022-02-26T12:44:38.902501Z",
     "start_time": "2022-02-26T12:44:38.897785Z"
    }
   },
   "outputs": [],
   "source": [
    "df2 = df_user_raw.copy()"
   ]
  },
  {
   "cell_type": "code",
   "execution_count": 12,
   "id": "fcd2112f",
   "metadata": {
    "ExecuteTime": {
     "end_time": "2022-02-26T12:44:39.559912Z",
     "start_time": "2022-02-26T12:44:39.553774Z"
    }
   },
   "outputs": [],
   "source": [
    "#removendo atributos que nao existem no momento da predicao \n",
    "df2.drop(['id', 'timestamp_first_active', 'date_first_booking', 'date_account_created'], axis=1, inplace=True)"
   ]
  },
  {
   "cell_type": "markdown",
   "id": "ad310169",
   "metadata": {},
   "source": [
    "# 3.0 Modelagem de Dados "
   ]
  },
  {
   "cell_type": "code",
   "execution_count": 13,
   "id": "02423a54",
   "metadata": {
    "ExecuteTime": {
     "end_time": "2022-02-26T12:44:45.365652Z",
     "start_time": "2022-02-26T12:44:45.362337Z"
    }
   },
   "outputs": [],
   "source": [
    "df3 = df2.copy()"
   ]
  },
  {
   "cell_type": "markdown",
   "id": "7145a93c",
   "metadata": {},
   "source": [
    "## 3.1 Encoding "
   ]
  },
  {
   "cell_type": "code",
   "execution_count": 15,
   "id": "07330964",
   "metadata": {
    "ExecuteTime": {
     "end_time": "2022-02-26T12:44:48.251785Z",
     "start_time": "2022-02-26T12:44:48.191007Z"
    }
   },
   "outputs": [],
   "source": [
    "df3_dommies = pd.get_dummies(df3.drop('country_destination', axis=1))\n",
    "df3 = pd.concat([df3_dommies, df3['country_destination']], axis=1)"
   ]
  },
  {
   "cell_type": "markdown",
   "id": "c0586fa5",
   "metadata": {},
   "source": [
    "# 4.0 Modelagem Machine Learning "
   ]
  },
  {
   "cell_type": "code",
   "execution_count": 22,
   "id": "6e9bafa5",
   "metadata": {
    "ExecuteTime": {
     "end_time": "2022-02-26T12:46:22.933824Z",
     "start_time": "2022-02-26T12:46:22.927058Z"
    }
   },
   "outputs": [],
   "source": [
    "df4 = df3.copy()"
   ]
  },
  {
   "cell_type": "markdown",
   "id": "239e4377",
   "metadata": {},
   "source": [
    "## 4.1 Separar Dados Teste e Validação  "
   ]
  },
  {
   "cell_type": "code",
   "execution_count": 29,
   "id": "765b65ab",
   "metadata": {
    "ExecuteTime": {
     "end_time": "2022-02-26T12:56:35.504162Z",
     "start_time": "2022-02-26T12:56:35.487579Z"
    }
   },
   "outputs": [],
   "source": [
    "x = df4.drop('country_destination', axis=1)\n",
    "y = df4['country_destination'].copy()"
   ]
  },
  {
   "cell_type": "code",
   "execution_count": 18,
   "id": "3a4a529e",
   "metadata": {
    "ExecuteTime": {
     "end_time": "2022-02-26T12:44:55.248316Z",
     "start_time": "2022-02-26T12:44:55.214732Z"
    }
   },
   "outputs": [],
   "source": [
    "x_train, x_test, y_train, y_test = ms.train_test_split(x, y, test_size=0.2, random_state=42)"
   ]
  },
  {
   "cell_type": "markdown",
   "id": "01245a62",
   "metadata": {
    "heading_collapsed": true
   },
   "source": [
    "# 4.2 Modelo Baseline"
   ]
  },
  {
   "cell_type": "code",
   "execution_count": 19,
   "id": "58eb3868",
   "metadata": {
    "ExecuteTime": {
     "end_time": "2022-02-22T14:27:29.312626Z",
     "start_time": "2022-02-22T14:27:29.262637Z"
    },
    "hidden": true
   },
   "outputs": [],
   "source": [
    "l_country_destination = df4['country_destination'].sort_values().unique()\n",
    "country_destination_weights = df4['country_destination'].value_counts(normalize=True).sort_index().tolist()\n",
    "k_num = y_test.shape[0]\n",
    "\n",
    "# Modelo de classificacao aleatoria\n",
    "yhat_random = random.choices(population=l_country_destination, k=k_num, weights= country_destination_weights )"
   ]
  },
  {
   "cell_type": "markdown",
   "id": "4f656e84",
   "metadata": {
    "hidden": true
   },
   "source": [
    "## 4.2.1 Performance do Modelo - Baseline "
   ]
  },
  {
   "cell_type": "code",
   "execution_count": 20,
   "id": "0023abc1",
   "metadata": {
    "ExecuteTime": {
     "end_time": "2022-02-22T14:27:30.061309Z",
     "start_time": "2022-02-22T14:27:29.313910Z"
    },
    "hidden": true,
    "scrolled": false
   },
   "outputs": [
    {
     "name": "stdout",
     "output_type": "stream",
     "text": [
      "Acuracia:0.5208654198753209\n",
      "Acuracia Balanceada: 0.0886511663214569\n",
      "Kappa: 0.0036075515461582164\n",
      "              precision    recall  f1-score   support\n",
      "\n",
      "          AU       0.00      0.00      0.00        90\n",
      "          CA       0.00      0.00      0.00       210\n",
      "          DE       0.01      0.01      0.01       176\n",
      "          ES       0.03      0.03      0.03       344\n",
      "          FR       0.06      0.06      0.06       742\n",
      "          GB       0.02      0.02      0.02       356\n",
      "          IT       0.03      0.03      0.03       399\n",
      "          NL       0.00      0.00      0.00       107\n",
      "          PT       0.00      0.00      0.00        26\n",
      "          US       0.71      0.71      0.71      9704\n",
      "       other       0.12      0.12      0.12      1481\n",
      "\n",
      "    accuracy                           0.52     13635\n",
      "   macro avg       0.09      0.09      0.09     13635\n",
      "weighted avg       0.53      0.52      0.52     13635\n",
      "\n"
     ]
    },
    {
     "data": {
      "image/png": "[encoded data removed]",
      "text/plain": [
       "<Figure size 864x864 with 2 Axes>"
      ]
     },
     "metadata": {
      "needs_background": "light"
     },
     "output_type": "display_data"
    }
   ],
   "source": [
    "# acuracia \n",
    "acuracia_random = metrics.accuracy_score(y_test, yhat_random)\n",
    "print('Acuracia:{}'.format(acuracia_random))\n",
    "\n",
    "# Acuracia balanceada \n",
    "balanced_accuracy_random = metrics.balanced_accuracy_score(y_test, yhat_random)\n",
    "print('Acuracia Balanceada: {}'.format(balanced_accuracy_random))\n",
    "\n",
    "# kappa \n",
    "kappa_random = metrics.cohen_kappa_score(y_test, yhat_random)\n",
    "print('Kappa: {}'.format(kappa_random))\n",
    "\n",
    "print(metrics.classification_report(y_test, yhat_random))\n",
    "\n",
    "# Matriz de confusao\n",
    "mt.plot_confusion_matrix(y_test, yhat_random, normalize=False, figsize=(12,12));"
   ]
  },
  {
   "cell_type": "markdown",
   "id": "3fec849d",
   "metadata": {},
   "source": [
    "# 4.3 Neural Network - MLP"
   ]
  },
  {
   "cell_type": "code",
   "execution_count": 27,
   "id": "80dbefa3",
   "metadata": {
    "ExecuteTime": {
     "end_time": "2022-02-26T12:52:35.635043Z",
     "start_time": "2022-02-26T12:52:35.624695Z"
    }
   },
   "outputs": [],
   "source": [
    "# encode para variavel y \n",
    "encoder = pp.OneHotEncoder()\n",
    "y_train_nn = encoder.fit_transform(y_train.values.reshape(-1,1)).toarray()"
   ]
  },
  {
   "cell_type": "code",
   "execution_count": 28,
   "id": "1ac68c81",
   "metadata": {
    "ExecuteTime": {
     "end_time": "2022-02-26T12:52:48.868259Z",
     "start_time": "2022-02-26T12:52:36.450615Z"
    }
   },
   "outputs": [
    {
     "name": "stdout",
     "output_type": "stream",
     "text": [
      "Epoch 1/100\n",
      "1705/1705 [==============================] - 1s 749us/step - loss: 1.3957 - accuracy: 0.7036\n",
      "Epoch 2/100\n",
      "1705/1705 [==============================] - 1s 766us/step - loss: 1.3123 - accuracy: 0.7060\n",
      "Epoch 3/100\n",
      "1705/1705 [==============================] - 1s 762us/step - loss: 1.2601 - accuracy: 0.7057\n",
      "Epoch 4/100\n",
      "1705/1705 [==============================] - 1s 748us/step - loss: 1.2326 - accuracy: 0.7068\n",
      "Epoch 5/100\n",
      "1705/1705 [==============================] - 1s 784us/step - loss: 1.2144 - accuracy: 0.7069\n",
      "Epoch 6/100\n",
      "1705/1705 [==============================] - 1s 746us/step - loss: 1.1897 - accuracy: 0.7071\n",
      "Epoch 7/100\n",
      "1705/1705 [==============================] - 1s 748us/step - loss: 1.1779 - accuracy: 0.7071\n",
      "Epoch 8/100\n",
      "1705/1705 [==============================] - 1s 750us/step - loss: 1.1636 - accuracy: 0.7072\n",
      "Epoch 9/100\n",
      "1705/1705 [==============================] - 1s 873us/step - loss: 1.1532 - accuracy: 0.7071\n",
      "Epoch 10/100\n",
      " 115/1705 [=>............................] - ETA: 1s - loss: 1.1244 - accuracy: 0.7185"
     ]
    },
    {
     "ename": "KeyboardInterrupt",
     "evalue": "",
     "output_type": "error",
     "traceback": [
      "\u001b[0;31m---------------------------------------------------------------------------\u001b[0m",
      "\u001b[0;31mKeyboardInterrupt\u001b[0m                         Traceback (most recent call last)",
      "Input \u001b[0;32mIn [28]\u001b[0m, in \u001b[0;36m<module>\u001b[0;34m\u001b[0m\n\u001b[1;32m      7\u001b[0m model\u001b[38;5;241m.\u001b[39mcompile(loss \u001b[38;5;241m=\u001b[39m \u001b[38;5;124m'\u001b[39m\u001b[38;5;124mcategorical_crossentropy\u001b[39m\u001b[38;5;124m'\u001b[39m, optimizer \u001b[38;5;241m=\u001b[39m \u001b[38;5;124m'\u001b[39m\u001b[38;5;124madam\u001b[39m\u001b[38;5;124m'\u001b[39m, metrics\u001b[38;5;241m=\u001b[39m[\u001b[38;5;124m'\u001b[39m\u001b[38;5;124maccuracy\u001b[39m\u001b[38;5;124m'\u001b[39m])\n\u001b[1;32m      9\u001b[0m \u001b[38;5;66;03m# treinamento \u001b[39;00m\n\u001b[0;32m---> 10\u001b[0m \u001b[43mmodel\u001b[49m\u001b[38;5;241;43m.\u001b[39;49m\u001b[43mfit\u001b[49m\u001b[43m(\u001b[49m\u001b[43mx_train\u001b[49m\u001b[43m,\u001b[49m\u001b[43m \u001b[49m\u001b[43my_train_nn\u001b[49m\u001b[43m,\u001b[49m\u001b[43m \u001b[49m\u001b[43mepochs\u001b[49m\u001b[38;5;241;43m=\u001b[39;49m\u001b[38;5;241;43m100\u001b[39;49m\u001b[43m)\u001b[49m\n",
      "File \u001b[0;32m~/Documentos/repo/airbnb_previsao_agendamento/agendamento_airbnb/lib/python3.8/site-packages/keras/utils/traceback_utils.py:64\u001b[0m, in \u001b[0;36mfilter_traceback.<locals>.error_handler\u001b[0;34m(*args, **kwargs)\u001b[0m\n\u001b[1;32m     62\u001b[0m filtered_tb \u001b[38;5;241m=\u001b[39m \u001b[38;5;28;01mNone\u001b[39;00m\n\u001b[1;32m     63\u001b[0m \u001b[38;5;28;01mtry\u001b[39;00m:\n\u001b[0;32m---> 64\u001b[0m   \u001b[38;5;28;01mreturn\u001b[39;00m \u001b[43mfn\u001b[49m\u001b[43m(\u001b[49m\u001b[38;5;241;43m*\u001b[39;49m\u001b[43margs\u001b[49m\u001b[43m,\u001b[49m\u001b[43m \u001b[49m\u001b[38;5;241;43m*\u001b[39;49m\u001b[38;5;241;43m*\u001b[39;49m\u001b[43mkwargs\u001b[49m\u001b[43m)\u001b[49m\n\u001b[1;32m     65\u001b[0m \u001b[38;5;28;01mexcept\u001b[39;00m \u001b[38;5;167;01mException\u001b[39;00m \u001b[38;5;28;01mas\u001b[39;00m e:  \u001b[38;5;66;03m# pylint: disable=broad-except\u001b[39;00m\n\u001b[1;32m     66\u001b[0m   filtered_tb \u001b[38;5;241m=\u001b[39m _process_traceback_frames(e\u001b[38;5;241m.\u001b[39m__traceback__)\n",
      "File \u001b[0;32m~/Documentos/repo/airbnb_previsao_agendamento/agendamento_airbnb/lib/python3.8/site-packages/keras/engine/training.py:1384\u001b[0m, in \u001b[0;36mModel.fit\u001b[0;34m(self, x, y, batch_size, epochs, verbose, callbacks, validation_split, validation_data, shuffle, class_weight, sample_weight, initial_epoch, steps_per_epoch, validation_steps, validation_batch_size, validation_freq, max_queue_size, workers, use_multiprocessing)\u001b[0m\n\u001b[1;32m   1377\u001b[0m \u001b[38;5;28;01mwith\u001b[39;00m tf\u001b[38;5;241m.\u001b[39mprofiler\u001b[38;5;241m.\u001b[39mexperimental\u001b[38;5;241m.\u001b[39mTrace(\n\u001b[1;32m   1378\u001b[0m     \u001b[38;5;124m'\u001b[39m\u001b[38;5;124mtrain\u001b[39m\u001b[38;5;124m'\u001b[39m,\n\u001b[1;32m   1379\u001b[0m     epoch_num\u001b[38;5;241m=\u001b[39mepoch,\n\u001b[1;32m   1380\u001b[0m     step_num\u001b[38;5;241m=\u001b[39mstep,\n\u001b[1;32m   1381\u001b[0m     batch_size\u001b[38;5;241m=\u001b[39mbatch_size,\n\u001b[1;32m   1382\u001b[0m     _r\u001b[38;5;241m=\u001b[39m\u001b[38;5;241m1\u001b[39m):\n\u001b[1;32m   1383\u001b[0m   callbacks\u001b[38;5;241m.\u001b[39mon_train_batch_begin(step)\n\u001b[0;32m-> 1384\u001b[0m   tmp_logs \u001b[38;5;241m=\u001b[39m \u001b[38;5;28;43mself\u001b[39;49m\u001b[38;5;241;43m.\u001b[39;49m\u001b[43mtrain_function\u001b[49m\u001b[43m(\u001b[49m\u001b[43miterator\u001b[49m\u001b[43m)\u001b[49m\n\u001b[1;32m   1385\u001b[0m   \u001b[38;5;28;01mif\u001b[39;00m data_handler\u001b[38;5;241m.\u001b[39mshould_sync:\n\u001b[1;32m   1386\u001b[0m     context\u001b[38;5;241m.\u001b[39masync_wait()\n",
      "File \u001b[0;32m~/Documentos/repo/airbnb_previsao_agendamento/agendamento_airbnb/lib/python3.8/site-packages/tensorflow/python/util/traceback_utils.py:150\u001b[0m, in \u001b[0;36mfilter_traceback.<locals>.error_handler\u001b[0;34m(*args, **kwargs)\u001b[0m\n\u001b[1;32m    148\u001b[0m filtered_tb \u001b[38;5;241m=\u001b[39m \u001b[38;5;28;01mNone\u001b[39;00m\n\u001b[1;32m    149\u001b[0m \u001b[38;5;28;01mtry\u001b[39;00m:\n\u001b[0;32m--> 150\u001b[0m   \u001b[38;5;28;01mreturn\u001b[39;00m \u001b[43mfn\u001b[49m\u001b[43m(\u001b[49m\u001b[38;5;241;43m*\u001b[39;49m\u001b[43margs\u001b[49m\u001b[43m,\u001b[49m\u001b[43m \u001b[49m\u001b[38;5;241;43m*\u001b[39;49m\u001b[38;5;241;43m*\u001b[39;49m\u001b[43mkwargs\u001b[49m\u001b[43m)\u001b[49m\n\u001b[1;32m    151\u001b[0m \u001b[38;5;28;01mexcept\u001b[39;00m \u001b[38;5;167;01mException\u001b[39;00m \u001b[38;5;28;01mas\u001b[39;00m e:\n\u001b[1;32m    152\u001b[0m   filtered_tb \u001b[38;5;241m=\u001b[39m _process_traceback_frames(e\u001b[38;5;241m.\u001b[39m__traceback__)\n",
      "File \u001b[0;32m~/Documentos/repo/airbnb_previsao_agendamento/agendamento_airbnb/lib/python3.8/site-packages/tensorflow/python/eager/def_function.py:915\u001b[0m, in \u001b[0;36mFunction.__call__\u001b[0;34m(self, *args, **kwds)\u001b[0m\n\u001b[1;32m    912\u001b[0m compiler \u001b[38;5;241m=\u001b[39m \u001b[38;5;124m\"\u001b[39m\u001b[38;5;124mxla\u001b[39m\u001b[38;5;124m\"\u001b[39m \u001b[38;5;28;01mif\u001b[39;00m \u001b[38;5;28mself\u001b[39m\u001b[38;5;241m.\u001b[39m_jit_compile \u001b[38;5;28;01melse\u001b[39;00m \u001b[38;5;124m\"\u001b[39m\u001b[38;5;124mnonXla\u001b[39m\u001b[38;5;124m\"\u001b[39m\n\u001b[1;32m    914\u001b[0m \u001b[38;5;28;01mwith\u001b[39;00m OptionalXlaContext(\u001b[38;5;28mself\u001b[39m\u001b[38;5;241m.\u001b[39m_jit_compile):\n\u001b[0;32m--> 915\u001b[0m   result \u001b[38;5;241m=\u001b[39m \u001b[38;5;28;43mself\u001b[39;49m\u001b[38;5;241;43m.\u001b[39;49m\u001b[43m_call\u001b[49m\u001b[43m(\u001b[49m\u001b[38;5;241;43m*\u001b[39;49m\u001b[43margs\u001b[49m\u001b[43m,\u001b[49m\u001b[43m \u001b[49m\u001b[38;5;241;43m*\u001b[39;49m\u001b[38;5;241;43m*\u001b[39;49m\u001b[43mkwds\u001b[49m\u001b[43m)\u001b[49m\n\u001b[1;32m    917\u001b[0m new_tracing_count \u001b[38;5;241m=\u001b[39m \u001b[38;5;28mself\u001b[39m\u001b[38;5;241m.\u001b[39mexperimental_get_tracing_count()\n\u001b[1;32m    918\u001b[0m without_tracing \u001b[38;5;241m=\u001b[39m (tracing_count \u001b[38;5;241m==\u001b[39m new_tracing_count)\n",
      "File \u001b[0;32m~/Documentos/repo/airbnb_previsao_agendamento/agendamento_airbnb/lib/python3.8/site-packages/tensorflow/python/eager/def_function.py:947\u001b[0m, in \u001b[0;36mFunction._call\u001b[0;34m(self, *args, **kwds)\u001b[0m\n\u001b[1;32m    944\u001b[0m   \u001b[38;5;28mself\u001b[39m\u001b[38;5;241m.\u001b[39m_lock\u001b[38;5;241m.\u001b[39mrelease()\n\u001b[1;32m    945\u001b[0m   \u001b[38;5;66;03m# In this case we have created variables on the first call, so we run the\u001b[39;00m\n\u001b[1;32m    946\u001b[0m   \u001b[38;5;66;03m# defunned version which is guaranteed to never create variables.\u001b[39;00m\n\u001b[0;32m--> 947\u001b[0m   \u001b[38;5;28;01mreturn\u001b[39;00m \u001b[38;5;28;43mself\u001b[39;49m\u001b[38;5;241;43m.\u001b[39;49m\u001b[43m_stateless_fn\u001b[49m\u001b[43m(\u001b[49m\u001b[38;5;241;43m*\u001b[39;49m\u001b[43margs\u001b[49m\u001b[43m,\u001b[49m\u001b[43m \u001b[49m\u001b[38;5;241;43m*\u001b[39;49m\u001b[38;5;241;43m*\u001b[39;49m\u001b[43mkwds\u001b[49m\u001b[43m)\u001b[49m  \u001b[38;5;66;03m# pylint: disable=not-callable\u001b[39;00m\n\u001b[1;32m    948\u001b[0m \u001b[38;5;28;01melif\u001b[39;00m \u001b[38;5;28mself\u001b[39m\u001b[38;5;241m.\u001b[39m_stateful_fn \u001b[38;5;129;01mis\u001b[39;00m \u001b[38;5;129;01mnot\u001b[39;00m \u001b[38;5;28;01mNone\u001b[39;00m:\n\u001b[1;32m    949\u001b[0m   \u001b[38;5;66;03m# Release the lock early so that multiple threads can perform the call\u001b[39;00m\n\u001b[1;32m    950\u001b[0m   \u001b[38;5;66;03m# in parallel.\u001b[39;00m\n\u001b[1;32m    951\u001b[0m   \u001b[38;5;28mself\u001b[39m\u001b[38;5;241m.\u001b[39m_lock\u001b[38;5;241m.\u001b[39mrelease()\n",
      "File \u001b[0;32m~/Documentos/repo/airbnb_previsao_agendamento/agendamento_airbnb/lib/python3.8/site-packages/tensorflow/python/eager/function.py:2956\u001b[0m, in \u001b[0;36mFunction.__call__\u001b[0;34m(self, *args, **kwargs)\u001b[0m\n\u001b[1;32m   2953\u001b[0m \u001b[38;5;28;01mwith\u001b[39;00m \u001b[38;5;28mself\u001b[39m\u001b[38;5;241m.\u001b[39m_lock:\n\u001b[1;32m   2954\u001b[0m   (graph_function,\n\u001b[1;32m   2955\u001b[0m    filtered_flat_args) \u001b[38;5;241m=\u001b[39m \u001b[38;5;28mself\u001b[39m\u001b[38;5;241m.\u001b[39m_maybe_define_function(args, kwargs)\n\u001b[0;32m-> 2956\u001b[0m \u001b[38;5;28;01mreturn\u001b[39;00m \u001b[43mgraph_function\u001b[49m\u001b[38;5;241;43m.\u001b[39;49m\u001b[43m_call_flat\u001b[49m\u001b[43m(\u001b[49m\n\u001b[1;32m   2957\u001b[0m \u001b[43m    \u001b[49m\u001b[43mfiltered_flat_args\u001b[49m\u001b[43m,\u001b[49m\u001b[43m \u001b[49m\u001b[43mcaptured_inputs\u001b[49m\u001b[38;5;241;43m=\u001b[39;49m\u001b[43mgraph_function\u001b[49m\u001b[38;5;241;43m.\u001b[39;49m\u001b[43mcaptured_inputs\u001b[49m\u001b[43m)\u001b[49m\n",
      "File \u001b[0;32m~/Documentos/repo/airbnb_previsao_agendamento/agendamento_airbnb/lib/python3.8/site-packages/tensorflow/python/eager/function.py:1853\u001b[0m, in \u001b[0;36mConcreteFunction._call_flat\u001b[0;34m(self, args, captured_inputs, cancellation_manager)\u001b[0m\n\u001b[1;32m   1849\u001b[0m possible_gradient_type \u001b[38;5;241m=\u001b[39m gradients_util\u001b[38;5;241m.\u001b[39mPossibleTapeGradientTypes(args)\n\u001b[1;32m   1850\u001b[0m \u001b[38;5;28;01mif\u001b[39;00m (possible_gradient_type \u001b[38;5;241m==\u001b[39m gradients_util\u001b[38;5;241m.\u001b[39mPOSSIBLE_GRADIENT_TYPES_NONE\n\u001b[1;32m   1851\u001b[0m     \u001b[38;5;129;01mand\u001b[39;00m executing_eagerly):\n\u001b[1;32m   1852\u001b[0m   \u001b[38;5;66;03m# No tape is watching; skip to running the function.\u001b[39;00m\n\u001b[0;32m-> 1853\u001b[0m   \u001b[38;5;28;01mreturn\u001b[39;00m \u001b[38;5;28;43mself\u001b[39;49m\u001b[38;5;241;43m.\u001b[39;49m\u001b[43m_build_call_outputs\u001b[49m\u001b[43m(\u001b[49m\u001b[38;5;28;43mself\u001b[39;49m\u001b[38;5;241;43m.\u001b[39;49m\u001b[43m_inference_function\u001b[49m\u001b[38;5;241;43m.\u001b[39;49m\u001b[43mcall\u001b[49m\u001b[43m(\u001b[49m\n\u001b[1;32m   1854\u001b[0m \u001b[43m      \u001b[49m\u001b[43mctx\u001b[49m\u001b[43m,\u001b[49m\u001b[43m \u001b[49m\u001b[43margs\u001b[49m\u001b[43m,\u001b[49m\u001b[43m \u001b[49m\u001b[43mcancellation_manager\u001b[49m\u001b[38;5;241;43m=\u001b[39;49m\u001b[43mcancellation_manager\u001b[49m\u001b[43m)\u001b[49m\u001b[43m)\u001b[49m\n\u001b[1;32m   1855\u001b[0m forward_backward \u001b[38;5;241m=\u001b[39m \u001b[38;5;28mself\u001b[39m\u001b[38;5;241m.\u001b[39m_select_forward_and_backward_functions(\n\u001b[1;32m   1856\u001b[0m     args,\n\u001b[1;32m   1857\u001b[0m     possible_gradient_type,\n\u001b[1;32m   1858\u001b[0m     executing_eagerly)\n\u001b[1;32m   1859\u001b[0m forward_function, args_with_tangents \u001b[38;5;241m=\u001b[39m forward_backward\u001b[38;5;241m.\u001b[39mforward()\n",
      "File \u001b[0;32m~/Documentos/repo/airbnb_previsao_agendamento/agendamento_airbnb/lib/python3.8/site-packages/tensorflow/python/eager/function.py:2217\u001b[0m, in \u001b[0;36mConcreteFunction._build_call_outputs\u001b[0;34m(self, result)\u001b[0m\n\u001b[1;32m   2215\u001b[0m     outputs_list[i] \u001b[38;5;241m=\u001b[39m result[j]\n\u001b[1;32m   2216\u001b[0m     j \u001b[38;5;241m+\u001b[39m\u001b[38;5;241m=\u001b[39m \u001b[38;5;241m1\u001b[39m\n\u001b[0;32m-> 2217\u001b[0m ret \u001b[38;5;241m=\u001b[39m \u001b[43mnest\u001b[49m\u001b[38;5;241;43m.\u001b[39;49m\u001b[43mpack_sequence_as\u001b[49m\u001b[43m(\u001b[49m\u001b[38;5;28;43mself\u001b[39;49m\u001b[38;5;241;43m.\u001b[39;49m\u001b[43m_func_graph\u001b[49m\u001b[38;5;241;43m.\u001b[39;49m\u001b[43mstructured_outputs\u001b[49m\u001b[43m,\u001b[49m\n\u001b[1;32m   2218\u001b[0m \u001b[43m                            \u001b[49m\u001b[43moutputs_list\u001b[49m\u001b[43m,\u001b[49m\u001b[43m \u001b[49m\u001b[43mexpand_composites\u001b[49m\u001b[38;5;241;43m=\u001b[39;49m\u001b[38;5;28;43;01mTrue\u001b[39;49;00m\u001b[43m)\u001b[49m\n\u001b[1;32m   2219\u001b[0m \u001b[38;5;28;01mreturn\u001b[39;00m ret\n",
      "File \u001b[0;32m~/Documentos/repo/airbnb_previsao_agendamento/agendamento_airbnb/lib/python3.8/site-packages/tensorflow/python/util/nest.py:803\u001b[0m, in \u001b[0;36mpack_sequence_as\u001b[0;34m(structure, flat_sequence, expand_composites)\u001b[0m\n\u001b[1;32m    689\u001b[0m \u001b[38;5;129m@tf_export\u001b[39m(\u001b[38;5;124m\"\u001b[39m\u001b[38;5;124mnest.pack_sequence_as\u001b[39m\u001b[38;5;124m\"\u001b[39m)\n\u001b[1;32m    690\u001b[0m \u001b[38;5;28;01mdef\u001b[39;00m \u001b[38;5;21mpack_sequence_as\u001b[39m(structure, flat_sequence, expand_composites\u001b[38;5;241m=\u001b[39m\u001b[38;5;28;01mFalse\u001b[39;00m):\n\u001b[1;32m    691\u001b[0m   \u001b[38;5;124;03m\"\"\"Returns a given flattened sequence packed into a given structure.\u001b[39;00m\n\u001b[1;32m    692\u001b[0m \n\u001b[1;32m    693\u001b[0m \u001b[38;5;124;03m  Refer to [tf.nest](https://www.tensorflow.org/api_docs/python/tf/nest)\u001b[39;00m\n\u001b[0;32m   (...)\u001b[0m\n\u001b[1;32m    801\u001b[0m \u001b[38;5;124;03m    TypeError: `structure` is or contains a dict with non-sortable keys.\u001b[39;00m\n\u001b[1;32m    802\u001b[0m \u001b[38;5;124;03m  \"\"\"\u001b[39;00m\n\u001b[0;32m--> 803\u001b[0m   \u001b[38;5;28;01mreturn\u001b[39;00m \u001b[43m_pack_sequence_as\u001b[49m\u001b[43m(\u001b[49m\u001b[43mstructure\u001b[49m\u001b[43m,\u001b[49m\u001b[43m \u001b[49m\u001b[43mflat_sequence\u001b[49m\u001b[43m,\u001b[49m\u001b[43m \u001b[49m\u001b[43mexpand_composites\u001b[49m\u001b[43m)\u001b[49m\n",
      "File \u001b[0;32m~/Documentos/repo/airbnb_previsao_agendamento/agendamento_airbnb/lib/python3.8/site-packages/tensorflow/python/util/nest.py:675\u001b[0m, in \u001b[0;36m_pack_sequence_as\u001b[0;34m(structure, flat_sequence, expand_composites, sequence_fn)\u001b[0m\n\u001b[1;32m    672\u001b[0m   \u001b[38;5;28;01mreturn\u001b[39;00m flat_sequence[\u001b[38;5;241m0\u001b[39m]\n\u001b[1;32m    674\u001b[0m \u001b[38;5;28;01mtry\u001b[39;00m:\n\u001b[0;32m--> 675\u001b[0m   final_index, packed \u001b[38;5;241m=\u001b[39m \u001b[43m_packed_nest_with_indices\u001b[49m\u001b[43m(\u001b[49m\u001b[43mstructure\u001b[49m\u001b[43m,\u001b[49m\u001b[43m \u001b[49m\u001b[43mflat_sequence\u001b[49m\u001b[43m,\u001b[49m\u001b[43m \u001b[49m\u001b[38;5;241;43m0\u001b[39;49m\u001b[43m,\u001b[49m\n\u001b[1;32m    676\u001b[0m \u001b[43m                                                  \u001b[49m\u001b[43mis_nested_fn\u001b[49m\u001b[43m,\u001b[49m\u001b[43m \u001b[49m\u001b[43msequence_fn\u001b[49m\u001b[43m)\u001b[49m\n\u001b[1;32m    677\u001b[0m   \u001b[38;5;28;01mif\u001b[39;00m final_index \u001b[38;5;241m<\u001b[39m \u001b[38;5;28mlen\u001b[39m(flat_sequence):\n\u001b[1;32m    678\u001b[0m     \u001b[38;5;28;01mraise\u001b[39;00m \u001b[38;5;167;01mIndexError\u001b[39;00m\n",
      "File \u001b[0;32m~/Documentos/repo/airbnb_previsao_agendamento/agendamento_airbnb/lib/python3.8/site-packages/tensorflow/python/util/nest.py:637\u001b[0m, in \u001b[0;36m_packed_nest_with_indices\u001b[0;34m(structure, flat, index, is_nested_fn, sequence_fn)\u001b[0m\n\u001b[1;32m    635\u001b[0m packed \u001b[38;5;241m=\u001b[39m []\n\u001b[1;32m    636\u001b[0m sequence_fn \u001b[38;5;241m=\u001b[39m sequence_fn \u001b[38;5;129;01mor\u001b[39;00m _sequence_like\n\u001b[0;32m--> 637\u001b[0m \u001b[38;5;28;01mfor\u001b[39;00m s \u001b[38;5;129;01min\u001b[39;00m _yield_value(structure):\n\u001b[1;32m    638\u001b[0m   \u001b[38;5;28;01mif\u001b[39;00m is_nested_fn(s):\n\u001b[1;32m    639\u001b[0m     new_index, child \u001b[38;5;241m=\u001b[39m _packed_nest_with_indices(s, flat, index, is_nested_fn,\n\u001b[1;32m    640\u001b[0m                                                  sequence_fn)\n",
      "File \u001b[0;32m~/Documentos/repo/airbnb_previsao_agendamento/agendamento_airbnb/lib/python3.8/site-packages/tensorflow/python/util/nest.py:254\u001b[0m, in \u001b[0;36m_yield_value\u001b[0;34m(iterable)\u001b[0m\n\u001b[1;32m    253\u001b[0m \u001b[38;5;28;01mdef\u001b[39;00m \u001b[38;5;21m_yield_value\u001b[39m(iterable):\n\u001b[0;32m--> 254\u001b[0m   \u001b[38;5;28;01mfor\u001b[39;00m _, v \u001b[38;5;129;01min\u001b[39;00m _yield_sorted_items(iterable):\n\u001b[1;32m    255\u001b[0m     \u001b[38;5;28;01myield\u001b[39;00m v\n",
      "File \u001b[0;32m~/Documentos/repo/airbnb_previsao_agendamento/agendamento_airbnb/lib/python3.8/site-packages/tensorflow/python/util/nest.py:287\u001b[0m, in \u001b[0;36m_yield_sorted_items\u001b[0;34m(iterable)\u001b[0m\n\u001b[1;32m    280\u001b[0m     \u001b[38;5;28;01myield\u001b[39;00m item\n\u001b[1;32m    281\u001b[0m \u001b[38;5;28;01melif\u001b[39;00m \u001b[38;5;28misinstance\u001b[39m(iterable, (\u001b[38;5;28mdict\u001b[39m, _collections_abc\u001b[38;5;241m.\u001b[39mMapping)):\n\u001b[1;32m    282\u001b[0m   \u001b[38;5;66;03m# Iterate through dictionaries in a deterministic order by sorting the\u001b[39;00m\n\u001b[1;32m    283\u001b[0m   \u001b[38;5;66;03m# keys. Notice this means that we ignore the original order of `OrderedDict`\u001b[39;00m\n\u001b[1;32m    284\u001b[0m   \u001b[38;5;66;03m# instances. This is intentional, to avoid potential bugs caused by mixing\u001b[39;00m\n\u001b[1;32m    285\u001b[0m   \u001b[38;5;66;03m# ordered and plain dicts (e.g., flattening a dict but using a\u001b[39;00m\n\u001b[1;32m    286\u001b[0m   \u001b[38;5;66;03m# corresponding `OrderedDict` to pack it back).\u001b[39;00m\n\u001b[0;32m--> 287\u001b[0m   \u001b[38;5;28;01mfor\u001b[39;00m key \u001b[38;5;129;01min\u001b[39;00m \u001b[43m_sorted\u001b[49m\u001b[43m(\u001b[49m\u001b[43miterable\u001b[49m\u001b[43m)\u001b[49m:\n\u001b[1;32m    288\u001b[0m     \u001b[38;5;28;01myield\u001b[39;00m key, iterable[key]\n\u001b[1;32m    289\u001b[0m \u001b[38;5;28;01melif\u001b[39;00m _is_attrs(iterable):\n",
      "File \u001b[0;32m~/Documentos/repo/airbnb_previsao_agendamento/agendamento_airbnb/lib/python3.8/site-packages/tensorflow/python/util/nest.py:141\u001b[0m, in \u001b[0;36m_sorted\u001b[0;34m(dict_)\u001b[0m\n\u001b[1;32m    139\u001b[0m \u001b[38;5;124;03m\"\"\"Returns a sorted list of the dict keys, with error if keys not sortable.\"\"\"\u001b[39;00m\n\u001b[1;32m    140\u001b[0m \u001b[38;5;28;01mtry\u001b[39;00m:\n\u001b[0;32m--> 141\u001b[0m   \u001b[38;5;28;01mreturn\u001b[39;00m \u001b[38;5;28msorted\u001b[39m(\u001b[43mdict_\u001b[49m\u001b[38;5;241;43m.\u001b[39;49m\u001b[43mkeys\u001b[49m())\n\u001b[1;32m    142\u001b[0m \u001b[38;5;28;01mexcept\u001b[39;00m \u001b[38;5;167;01mTypeError\u001b[39;00m:\n\u001b[1;32m    143\u001b[0m   \u001b[38;5;28;01mraise\u001b[39;00m \u001b[38;5;167;01mTypeError\u001b[39;00m(\u001b[38;5;124m\"\u001b[39m\u001b[38;5;124mnest only supports dicts with sortable keys.\u001b[39m\u001b[38;5;124m\"\u001b[39m)\n",
      "\u001b[0;31mKeyboardInterrupt\u001b[0m: "
     ]
    }
   ],
   "source": [
    "# definicao do modelo\n",
    "model = ml.Sequential()\n",
    "model.add(l.Dense(128, input_dim=x_train.shape[1], activation=\"relu\"))\n",
    "model.add(l.Dense(11, activation=\"softmax\"))\n",
    "\n",
    "# compilando modelo \n",
    "model.compile(loss = 'categorical_crossentropy', optimizer = 'adam', metrics=['accuracy'])\n",
    "\n",
    "# treinamento \n",
    "model.fit(x_train, y_train_nn, epochs=100)"
   ]
  },
  {
   "cell_type": "markdown",
   "id": "8294523f",
   "metadata": {
    "heading_collapsed": true
   },
   "source": [
    "## 4.3.1 Performance do Modelo - MLP "
   ]
  },
  {
   "cell_type": "code",
   "execution_count": 23,
   "id": "88d11045",
   "metadata": {
    "ExecuteTime": {
     "end_time": "2022-02-22T14:30:11.953297Z",
     "start_time": "2022-02-22T14:30:11.589998Z"
    },
    "hidden": true
   },
   "outputs": [],
   "source": [
    "# predicao \n",
    "pred = model.predict(x_test)\n",
    "\n",
    "# invertendo o encoder \n",
    "yhat_nn = encoder.inverse_transform(pred)\n",
    "\n",
    "y_test_nn = y_test.to_numpy()\n",
    "yhat_nn = yhat_nn.reshape(1,-1)[0]"
   ]
  },
  {
   "cell_type": "code",
   "execution_count": 24,
   "id": "04fe2bfc",
   "metadata": {
    "ExecuteTime": {
     "end_time": "2022-02-22T14:30:12.255790Z",
     "start_time": "2022-02-22T14:30:11.954295Z"
    },
    "hidden": true
   },
   "outputs": [
    {
     "name": "stdout",
     "output_type": "stream",
     "text": [
      "Acuracia:0.7093509350935093\n",
      "Acuracia Balanceada: 0.09181701668766137\n",
      "Kappa: 0.0021522176112551694\n",
      "              precision    recall  f1-score   support\n",
      "\n",
      "          AU       0.00      0.00      0.00        90\n",
      "          CA       0.25      0.00      0.01       210\n",
      "          DE       0.00      0.00      0.00       176\n",
      "          ES       0.20      0.00      0.01       344\n",
      "          FR       0.10      0.00      0.00       742\n",
      "          GB       0.00      0.00      0.00       356\n",
      "          IT       0.00      0.00      0.00       399\n",
      "          NL       0.00      0.00      0.00       107\n",
      "          PT       0.00      0.00      0.00        26\n",
      "          US       0.71      1.00      0.83      9704\n",
      "       other       0.21      0.01      0.01      1481\n",
      "\n",
      "    accuracy                           0.71     13635\n",
      "   macro avg       0.13      0.09      0.08     13635\n",
      "weighted avg       0.54      0.71      0.59     13635\n",
      "\n"
     ]
    },
    {
     "name": "stderr",
     "output_type": "stream",
     "text": [
      "/home/giovane/Documentos/repo/airbnb_previsao_agendamento/agendamento_airbnb/lib/python3.8/site-packages/sklearn/metrics/_classification.py:1318: UndefinedMetricWarning: Precision and F-score are ill-defined and being set to 0.0 in labels with no predicted samples. Use `zero_division` parameter to control this behavior.\n",
      "  _warn_prf(average, modifier, msg_start, len(result))\n",
      "/home/giovane/Documentos/repo/airbnb_previsao_agendamento/agendamento_airbnb/lib/python3.8/site-packages/sklearn/metrics/_classification.py:1318: UndefinedMetricWarning: Precision and F-score are ill-defined and being set to 0.0 in labels with no predicted samples. Use `zero_division` parameter to control this behavior.\n",
      "  _warn_prf(average, modifier, msg_start, len(result))\n",
      "/home/giovane/Documentos/repo/airbnb_previsao_agendamento/agendamento_airbnb/lib/python3.8/site-packages/sklearn/metrics/_classification.py:1318: UndefinedMetricWarning: Precision and F-score are ill-defined and being set to 0.0 in labels with no predicted samples. Use `zero_division` parameter to control this behavior.\n",
      "  _warn_prf(average, modifier, msg_start, len(result))\n"
     ]
    }
   ],
   "source": [
    "# acuracia \n",
    "acuracia_nn = metrics.accuracy_score(y_test_nn, yhat_nn)\n",
    "print('Acuracia:{}'.format(acuracia_nn))\n",
    "\n",
    "# Acuracia balanceada \n",
    "balanced_accuracy_nn = metrics.balanced_accuracy_score(y_test_nn, yhat_nn)\n",
    "print('Acuracia Balanceada: {}'.format(balanced_accuracy_nn))\n",
    "\n",
    "# kappa \n",
    "kappa_nn = metrics.cohen_kappa_score(y_test_nn, yhat_nn)\n",
    "print('Kappa: {}'.format(kappa_nn))\n",
    "\n",
    "print(metrics.classification_report(y_test_nn, yhat_nn))\n"
   ]
  },
  {
   "cell_type": "code",
   "execution_count": 25,
   "id": "5bbd26c2",
   "metadata": {
    "ExecuteTime": {
     "end_time": "2022-02-22T14:30:12.711216Z",
     "start_time": "2022-02-22T14:30:12.257198Z"
    },
    "hidden": true
   },
   "outputs": [
    {
     "data": {
      "image/png": "[encoded data removed]",
      "text/plain": [
       "<Figure size 864x864 with 2 Axes>"
      ]
     },
     "metadata": {
      "needs_background": "light"
     },
     "output_type": "display_data"
    }
   ],
   "source": [
    "# Matriz de confusao\n",
    "mt.plot_confusion_matrix(y_test_nn, yhat_nn, normalize=False, figsize=(12,12));"
   ]
  },
  {
   "cell_type": "markdown",
   "id": "5d5cd100",
   "metadata": {
    "hidden": true
   },
   "source": [
    "O modelo acabou sendo inviesado, pelo fato do dataset estar desbalanceado. Podemos ver também que a acuracia de acimade 70%, as mesma também segue sendo inviesada pelo grande número de registro com US."
   ]
  },
  {
   "cell_type": "markdown",
   "id": "ccc8894e",
   "metadata": {},
   "source": [
    "## 4.3.2 Cross Validation - MLP "
   ]
  },
  {
   "cell_type": "code",
   "execution_count": 43,
   "id": "66d1a384",
   "metadata": {
    "ExecuteTime": {
     "end_time": "2022-02-22T17:50:09.244603Z",
     "start_time": "2022-02-22T17:44:35.704637Z"
    }
   },
   "outputs": [
    {
     "name": "stdout",
     "output_type": "stream",
     "text": [
      "Fold 1/5\n",
      "Fold 2/5\n",
      "Fold 3/5\n",
      "Fold 4/5\n",
      "Fold 5/5\n"
     ]
    }
   ],
   "source": [
    "# gerar fold \n",
    "num_fold = 5 \n",
    "kfold = ms.StratifiedKFold(n_splits= num_fold, shuffle=True, random_state=42)\n",
    "\n",
    "l_balanced_acc =[]\n",
    "l_kappa = []\n",
    "i=1 \n",
    "\n",
    "for train_ix, val_ix in kfold.split(x_train, y_train):\n",
    "    print('Fold {}/{}'.format(i, num_fold))\n",
    "    \n",
    "    # fold \n",
    "    x_train_fold = x_train.iloc[train_ix]\n",
    "    y_train_fold = y_train.iloc[train_ix]\n",
    "    \n",
    "    x_val_fold = x_train.iloc[val_ix]\n",
    "    y_val_fold = y_train.iloc[val_ix]\n",
    "    \n",
    "    # encoder target\n",
    "    encoder = pp.OneHotEncoder()\n",
    "    y_train_fold_nn = encoder.fit_transform(y_train_fold.values.reshape(-1,1)).toarray()\n",
    "\n",
    "    # definicao do modelo\n",
    "    model = ml.Sequential()\n",
    "    model.add(l.Dense(128, input_dim= x_train_fold.shape[1], activation=\"relu\"))\n",
    "    model.add(l.Dense(11, activation=\"softmax\"))\n",
    "\n",
    "    # compilando modelo \n",
    "    model.compile(loss = 'categorical_crossentropy', optimizer = 'adam', metrics=['accuracy'])\n",
    "\n",
    "    # treinamento \n",
    "    model.fit( x_train_fold, y_train_fold_nn, epochs=100, batch_size = 42, verbose=0)\n",
    "\n",
    "    # predicao \n",
    "    pred_nn = model.predict(x_val_fold)\n",
    "\n",
    "    # invertendo o encoder \n",
    "    yhat_fold_nn = encoder.inverse_transform(pred_nn)\n",
    "\n",
    "    y_val_fold_nn = y_val_fold.to_numpy()\n",
    "    yhat_fold_nn = yhat_fold_nn.reshape(1,-1)[0]\n",
    "    \n",
    "    #metricas \n",
    "    ## Balanced Accuracy\n",
    "    balanced_acc_fold = metrics.balanced_accuracy_score(y_val_fold_nn, yhat_fold_nn)\n",
    "    l_balanced_acc.append(balanced_acc_fold)\n",
    "    \n",
    "    ##Kappa \n",
    "    kappa_fold = metrics.cohen_kappa_score(y_val_fold_nn, yhat_fold_nn)\n",
    "    l_kappa.append(kappa_fold)\n",
    "    \n",
    "    i = i+1\n",
    "    "
   ]
  },
  {
   "cell_type": "code",
   "execution_count": 51,
   "id": "5d33ca03",
   "metadata": {
    "ExecuteTime": {
     "end_time": "2022-02-22T18:09:55.957837Z",
     "start_time": "2022-02-22T18:09:55.953339Z"
    }
   },
   "outputs": [
    {
     "name": "stdout",
     "output_type": "stream",
     "text": [
      "Balanced Accuracy: 0.0914+/-0.0002\n",
      "Kappa: 0.0020+/-0.0010\n"
     ]
    }
   ],
   "source": [
    "print('Balanced Accuracy: {:.4f}+/-{:.4f}'.format(np.mean(l_balanced_acc), np.std(l_balanced_acc)) )\n",
    "print('Kappa: {:.4f}+/-{:.4f}'.format(np.mean(l_kappa), np.std(l_kappa)) )"
   ]
  },
  {
   "cell_type": "code",
   "execution_count": null,
   "id": "de5d7594",
   "metadata": {},
   "outputs": [],
   "source": []
  }
 ],
 "metadata": {
  "kernelspec": {
   "display_name": "agendamento_airbnb",
   "language": "python",
   "name": "agendamento_airbnb"
  },
  "language_info": {
   "codemirror_mode": {
    "name": "ipython",
    "version": 3
   },
   "file_extension": ".py",
   "mimetype": "text/x-python",
   "name": "python",
   "nbconvert_exporter": "python",
   "pygments_lexer": "ipython3",
   "version": "3.8.10"
  },
  "varInspector": {
   "cols": {
    "lenName": 16,
    "lenType": 16,
    "lenVar": 40
   },
   "kernels_config": {
    "python": {
     "delete_cmd_postfix": "",
     "delete_cmd_prefix": "del ",
     "library": "var_list.py",
     "varRefreshCmd": "print(var_dic_list())"
    },
    "r": {
     "delete_cmd_postfix": ") ",
     "delete_cmd_prefix": "rm(",
     "library": "var_list.r",
     "varRefreshCmd": "cat(var_dic_list()) "
    }
   },
   "types_to_exclude": [
    "module",
    "function",
    "builtin_function_or_method",
    "instance",
    "_Feature"
   ],
   "window_display": false
  }
 },
 "nbformat": 4,
 "nbformat_minor": 5
}
